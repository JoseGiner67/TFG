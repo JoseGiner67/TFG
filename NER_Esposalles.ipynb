{
 "cells": [
  {
   "cell_type": "markdown",
   "metadata": {},
   "source": [
    "# Reconocimiento de entidades nombradas"
   ]
  },
  {
   "cell_type": "markdown",
   "metadata": {},
   "source": [
    "En este código se muestran los pasos para crear una red neuronal para reconocer entidades en los registros de la base de datos de Esposalles. También se puede aplicar a otros textos etiquetados. La tarea se divide fundamentalmente en dos partes, donde la primera hace referencia a la detección únicamente de las categorías semánticas y en la segunda se añade un poco más de dificultad al identificar adicionalmente la persona asociada, ambas a nivel de palabra. Además, en cada tarea se predicen las etiquetas para un conjunto de mejores hipótesis que han sido creadas por un grafo de palabras. Con estas predicciones y las etiquetas de los registros originales, se calculará la distancia o error entre ellas utilizando la distancia de Levenshtein para ver lo que se pierde entre ambas."
   ]
  },
  {
   "cell_type": "code",
   "execution_count": 30,
   "metadata": {},
   "outputs": [],
   "source": [
    "import matplotlib.pyplot as plt\n",
    "import numpy as np\n",
    "import os\n",
    "import re"
   ]
  },
  {
   "cell_type": "markdown",
   "metadata": {},
   "source": [
    "El primer paso es leer los ficheros donde se ubican los registros matrimoniales y sus etiquetas, almacenandolos en sus respectivas listas. Debido a que los registros y etiquetas correspondientes se encuentran en la misma carpeta, las posiciones entre listas son consistentes entre sí."
   ]
  },
  {
   "cell_type": "code",
   "execution_count": 31,
   "metadata": {},
   "outputs": [],
   "source": [
    "records,person_labels,category_labels = [], [], []\n",
    "\n",
    "rootdir = 'C:/Users/Jose Giner/OneDrive/Escritorio/TFG/JG-data'\n",
    "filepath_records = []\n",
    "\n",
    "for subdir, dirs, files in os.walk(rootdir):\n",
    "    \n",
    "    \n",
    "    try:\n",
    "        dirs.sort(key=lambda s:int(''.join(filter(str.isdigit,s[-2:]))))\n",
    "        dirs.sort(key = lambda s:int(''.join(filter(str.isdigit,s[6:11])))) \n",
    "    \n",
    "    except:\n",
    "        pass\n",
    "    \n",
    "    \n",
    "    for file in files:\n",
    "        filepath = os.path.join(subdir, file)\n",
    "        if filepath.endswith(\"transcription.txt\") and \"words\" in filepath:\n",
    "            with open(filepath) as f:\n",
    "                filepath_records.append(filepath)\n",
    "                lines = []\n",
    "                for line in f:\n",
    "                    line = line.rstrip()\n",
    "                    partitioned_string = line.partition(':')\n",
    "                    lines.append(partitioned_string[2])\n",
    "            records.append(lines) \n",
    "        \n",
    "        elif filepath.endswith(\"person.txt\") and \"words\" in filepath:\n",
    "            with open(filepath) as f:\n",
    "                lines = []\n",
    "                for line in f:\n",
    "                    line = line.rstrip()\n",
    "                    partitioned_string = line.partition(':')\n",
    "                    lines.append(partitioned_string[2])\n",
    "            person_labels.append(lines)\n",
    "        \n",
    "        elif filepath.endswith(\"category.txt\") and \"words\" in filepath:\n",
    "            with open(filepath) as f:\n",
    "                lines = []\n",
    "                for line in f:\n",
    "                    line = line.rstrip()\n",
    "                    partitioned_string = line.partition(':')\n",
    "                    lines.append(partitioned_string[2])\n",
    "            category_labels.append(lines)\n",
    "            \n",
    "        "
   ]
  },
  {
   "cell_type": "code",
   "execution_count": 32,
   "metadata": {},
   "outputs": [
    {
     "name": "stdout",
     "output_type": "stream",
     "text": [
      "Total registros:  968\n"
     ]
    }
   ],
   "source": [
    "print(\"Total registros: \",len(records))"
   ]
  },
  {
   "cell_type": "markdown",
   "metadata": {},
   "source": [
    "Creamos un diccionario de frecuencias de palabras y mostramos las palabras más frecuentes."
   ]
  },
  {
   "cell_type": "code",
   "execution_count": 33,
   "metadata": {},
   "outputs": [
    {
     "name": "stdout",
     "output_type": "stream",
     "text": [
      "1) de : 6355\n",
      "2) y : 1338\n",
      "3) pages : 977\n",
      "4) ab : 966\n",
      "5) rebere : 934\n",
      "6) filla : 729\n",
      "7) Bara : 718\n",
      "8) donsella : 646\n",
      "9) dia : 590\n",
      "10) fill : 570\n"
     ]
    }
   ],
   "source": [
    "dic_counts = {}\n",
    "for r in records:\n",
    "    for word in r:\n",
    "        dic_counts[word] = 1+dic_counts.get(word,0)\n",
    "\n",
    "dic_decr = dict(sorted(dic_counts.items(), key = lambda x: x[1], reverse = True))\n",
    "c = 1\n",
    "for k,v in dic_decr.items():\n",
    "    if c <= 10:\n",
    "        print('{}) {} : {}'.format(str(c),k,str(v)))\n",
    "    else:\n",
    "        break\n",
    "    c += 1"
   ]
  },
  {
   "cell_type": "markdown",
   "metadata": {},
   "source": [
    "Extraemos el total de palabras, caracteres y el tamaño del vocabulario (palabras únicas)."
   ]
  },
  {
   "cell_type": "code",
   "execution_count": 34,
   "metadata": {},
   "outputs": [
    {
     "name": "stdout",
     "output_type": "stream",
     "text": [
      "Total palabras: 31501\n",
      "Total caracteres: 140614\n"
     ]
    }
   ],
   "source": [
    "c = 0\n",
    "for r in records:\n",
    "    for word in r:\n",
    "        c += 1\n",
    "print(\"Total palabras:\",c)\n",
    "\n",
    "c_char = 0\n",
    "for r in records:\n",
    "    for word in r:\n",
    "        for char in word:\n",
    "            c_char += 1\n",
    "print(\"Total caracteres:\",c_char)"
   ]
  },
  {
   "cell_type": "code",
   "execution_count": 35,
   "metadata": {},
   "outputs": [
    {
     "name": "stdout",
     "output_type": "stream",
     "text": [
      "Tamaño del vocabulario: 2430\n"
     ]
    }
   ],
   "source": [
    "vocab_size = len(dic_counts.keys())\n",
    "print(\"Tamaño del vocabulario:\",vocab_size)"
   ]
  },
  {
   "cell_type": "markdown",
   "metadata": {},
   "source": [
    "El vocabulario es muy reducido para una colección de 968 registros, significando que muchos de ellos emplean palabras similares. Ahora se ilustra la distribución Zipf de frecuencias."
   ]
  },
  {
   "cell_type": "code",
   "execution_count": 36,
   "metadata": {
    "scrolled": true
   },
   "outputs": [
    {
     "data": {
      "image/png": "[encoded data removed]",
      "text/plain": [
       "<Figure size 504x360 with 1 Axes>"
      ]
     },
     "metadata": {
      "needs_background": "light"
     },
     "output_type": "display_data"
    }
   ],
   "source": [
    "rf = [(r+1, freq) for r, freq in enumerate(dic_decr.values())]\n",
    "rs, fs = zip(*rf)\n",
    "\n",
    "plt.figure(figsize = (7,5))\n",
    "plt.xscale('log')\n",
    "plt.yscale('log')\n",
    "plt.xlabel('Rango')\n",
    "plt.ylabel('Frecuencia')\n",
    "plt.plot(rs, fs, 'b-')\n",
    "plt.show()"
   ]
  },
  {
   "cell_type": "markdown",
   "metadata": {},
   "source": [
    "Se sigue la norma donde la frecuencia de cada término es inversamente proporcional a su rango o posición que ocupan en el diccionario. Abajo se muestra con un dataframe más información sobre la distribución."
   ]
  },
  {
   "cell_type": "code",
   "execution_count": 37,
   "metadata": {},
   "outputs": [
    {
     "data": {
      "text/html": [
       "<div>\n",
       "<style scoped>\n",
       "    .dataframe tbody tr th:only-of-type {\n",
       "        vertical-align: middle;\n",
       "    }\n",
       "\n",
       "    .dataframe tbody tr th {\n",
       "        vertical-align: top;\n",
       "    }\n",
       "\n",
       "    .dataframe thead th {\n",
       "        text-align: right;\n",
       "    }\n",
       "</style>\n",
       "<table border=\"1\" class=\"dataframe\">\n",
       "  <thead>\n",
       "    <tr style=\"text-align: right;\">\n",
       "      <th></th>\n",
       "      <th>Término</th>\n",
       "      <th>Rank</th>\n",
       "      <th>Frecuencia</th>\n",
       "      <th>Proporción</th>\n",
       "      <th>Rank*Frecuencia</th>\n",
       "    </tr>\n",
       "  </thead>\n",
       "  <tbody>\n",
       "    <tr>\n",
       "      <th>0</th>\n",
       "      <td>de</td>\n",
       "      <td>1</td>\n",
       "      <td>6355</td>\n",
       "      <td>0.201740</td>\n",
       "      <td>6355</td>\n",
       "    </tr>\n",
       "    <tr>\n",
       "      <th>1</th>\n",
       "      <td>y</td>\n",
       "      <td>2</td>\n",
       "      <td>1338</td>\n",
       "      <td>0.042475</td>\n",
       "      <td>2676</td>\n",
       "    </tr>\n",
       "    <tr>\n",
       "      <th>2</th>\n",
       "      <td>pages</td>\n",
       "      <td>3</td>\n",
       "      <td>977</td>\n",
       "      <td>0.031015</td>\n",
       "      <td>2931</td>\n",
       "    </tr>\n",
       "    <tr>\n",
       "      <th>3</th>\n",
       "      <td>ab</td>\n",
       "      <td>4</td>\n",
       "      <td>966</td>\n",
       "      <td>0.030666</td>\n",
       "      <td>3864</td>\n",
       "    </tr>\n",
       "    <tr>\n",
       "      <th>4</th>\n",
       "      <td>rebere</td>\n",
       "      <td>5</td>\n",
       "      <td>934</td>\n",
       "      <td>0.029650</td>\n",
       "      <td>4670</td>\n",
       "    </tr>\n",
       "    <tr>\n",
       "      <th>5</th>\n",
       "      <td>filla</td>\n",
       "      <td>6</td>\n",
       "      <td>729</td>\n",
       "      <td>0.023142</td>\n",
       "      <td>4374</td>\n",
       "    </tr>\n",
       "    <tr>\n",
       "      <th>6</th>\n",
       "      <td>Bara</td>\n",
       "      <td>7</td>\n",
       "      <td>718</td>\n",
       "      <td>0.022793</td>\n",
       "      <td>5026</td>\n",
       "    </tr>\n",
       "    <tr>\n",
       "      <th>7</th>\n",
       "      <td>donsella</td>\n",
       "      <td>8</td>\n",
       "      <td>646</td>\n",
       "      <td>0.020507</td>\n",
       "      <td>5168</td>\n",
       "    </tr>\n",
       "    <tr>\n",
       "      <th>8</th>\n",
       "      <td>dia</td>\n",
       "      <td>9</td>\n",
       "      <td>590</td>\n",
       "      <td>0.018730</td>\n",
       "      <td>5310</td>\n",
       "    </tr>\n",
       "    <tr>\n",
       "      <th>9</th>\n",
       "      <td>fill</td>\n",
       "      <td>10</td>\n",
       "      <td>570</td>\n",
       "      <td>0.018095</td>\n",
       "      <td>5700</td>\n",
       "    </tr>\n",
       "    <tr>\n",
       "      <th>10</th>\n",
       "      <td>en</td>\n",
       "      <td>11</td>\n",
       "      <td>518</td>\n",
       "      <td>0.016444</td>\n",
       "      <td>5698</td>\n",
       "    </tr>\n",
       "    <tr>\n",
       "      <th>11</th>\n",
       "      <td>a</td>\n",
       "      <td>12</td>\n",
       "      <td>379</td>\n",
       "      <td>0.012031</td>\n",
       "      <td>4548</td>\n",
       "    </tr>\n",
       "    <tr>\n",
       "      <th>12</th>\n",
       "      <td>habitant</td>\n",
       "      <td>13</td>\n",
       "      <td>352</td>\n",
       "      <td>0.011174</td>\n",
       "      <td>4576</td>\n",
       "    </tr>\n",
       "    <tr>\n",
       "      <th>13</th>\n",
       "      <td>defuncts</td>\n",
       "      <td>14</td>\n",
       "      <td>348</td>\n",
       "      <td>0.011047</td>\n",
       "      <td>4872</td>\n",
       "    </tr>\n",
       "    <tr>\n",
       "      <th>14</th>\n",
       "      <td>defunct</td>\n",
       "      <td>15</td>\n",
       "      <td>338</td>\n",
       "      <td>0.010730</td>\n",
       "      <td>5070</td>\n",
       "    </tr>\n",
       "    <tr>\n",
       "      <th>15</th>\n",
       "      <td>dit</td>\n",
       "      <td>16</td>\n",
       "      <td>334</td>\n",
       "      <td>0.010603</td>\n",
       "      <td>5344</td>\n",
       "    </tr>\n",
       "    <tr>\n",
       "      <th>16</th>\n",
       "      <td>Pere</td>\n",
       "      <td>17</td>\n",
       "      <td>321</td>\n",
       "      <td>0.010190</td>\n",
       "      <td>5457</td>\n",
       "    </tr>\n",
       "    <tr>\n",
       "      <th>17</th>\n",
       "      <td>Dit</td>\n",
       "      <td>18</td>\n",
       "      <td>293</td>\n",
       "      <td>0.009301</td>\n",
       "      <td>5274</td>\n",
       "    </tr>\n",
       "    <tr>\n",
       "      <th>18</th>\n",
       "      <td>del</td>\n",
       "      <td>19</td>\n",
       "      <td>267</td>\n",
       "      <td>0.008476</td>\n",
       "      <td>5073</td>\n",
       "    </tr>\n",
       "    <tr>\n",
       "      <th>19</th>\n",
       "      <td>St</td>\n",
       "      <td>20</td>\n",
       "      <td>241</td>\n",
       "      <td>0.007651</td>\n",
       "      <td>4820</td>\n",
       "    </tr>\n",
       "    <tr>\n",
       "      <th>20</th>\n",
       "      <td>viuda</td>\n",
       "      <td>21</td>\n",
       "      <td>228</td>\n",
       "      <td>0.007238</td>\n",
       "      <td>4788</td>\n",
       "    </tr>\n",
       "    <tr>\n",
       "      <th>21</th>\n",
       "      <td>Juan</td>\n",
       "      <td>22</td>\n",
       "      <td>220</td>\n",
       "      <td>0.006984</td>\n",
       "      <td>4840</td>\n",
       "    </tr>\n",
       "    <tr>\n",
       "      <th>22</th>\n",
       "      <td>parayre</td>\n",
       "      <td>23</td>\n",
       "      <td>217</td>\n",
       "      <td>0.006889</td>\n",
       "      <td>4991</td>\n",
       "    </tr>\n",
       "    <tr>\n",
       "      <th>23</th>\n",
       "      <td>viudo</td>\n",
       "      <td>24</td>\n",
       "      <td>196</td>\n",
       "      <td>0.006222</td>\n",
       "      <td>4704</td>\n",
       "    </tr>\n",
       "    <tr>\n",
       "      <th>24</th>\n",
       "      <td>t</td>\n",
       "      <td>25</td>\n",
       "      <td>194</td>\n",
       "      <td>0.006159</td>\n",
       "      <td>4850</td>\n",
       "    </tr>\n",
       "    <tr>\n",
       "      <th>25</th>\n",
       "      <td>Antoni</td>\n",
       "      <td>26</td>\n",
       "      <td>191</td>\n",
       "      <td>0.006063</td>\n",
       "      <td>4966</td>\n",
       "    </tr>\n",
       "    <tr>\n",
       "      <th>26</th>\n",
       "      <td>Elisabeth</td>\n",
       "      <td>27</td>\n",
       "      <td>180</td>\n",
       "      <td>0.005714</td>\n",
       "      <td>4860</td>\n",
       "    </tr>\n",
       "    <tr>\n",
       "      <th>27</th>\n",
       "      <td>#</td>\n",
       "      <td>28</td>\n",
       "      <td>168</td>\n",
       "      <td>0.005333</td>\n",
       "      <td>4704</td>\n",
       "    </tr>\n",
       "    <tr>\n",
       "      <th>28</th>\n",
       "      <td>Jua</td>\n",
       "      <td>29</td>\n",
       "      <td>165</td>\n",
       "      <td>0.005238</td>\n",
       "      <td>4785</td>\n",
       "    </tr>\n",
       "    <tr>\n",
       "      <th>29</th>\n",
       "      <td>Margarida</td>\n",
       "      <td>30</td>\n",
       "      <td>153</td>\n",
       "      <td>0.004857</td>\n",
       "      <td>4590</td>\n",
       "    </tr>\n",
       "    <tr>\n",
       "      <th>...</th>\n",
       "      <td>...</td>\n",
       "      <td>...</td>\n",
       "      <td>...</td>\n",
       "      <td>...</td>\n",
       "      <td>...</td>\n",
       "    </tr>\n",
       "    <tr>\n",
       "      <th>2400</th>\n",
       "      <td>Vinacet</td>\n",
       "      <td>2401</td>\n",
       "      <td>1</td>\n",
       "      <td>0.000032</td>\n",
       "      <td>2401</td>\n",
       "    </tr>\n",
       "    <tr>\n",
       "      <th>2401</th>\n",
       "      <td>Bernarda</td>\n",
       "      <td>2402</td>\n",
       "      <td>1</td>\n",
       "      <td>0.000032</td>\n",
       "      <td>2402</td>\n",
       "    </tr>\n",
       "    <tr>\n",
       "      <th>2402</th>\n",
       "      <td>Fran</td>\n",
       "      <td>2403</td>\n",
       "      <td>1</td>\n",
       "      <td>0.000032</td>\n",
       "      <td>2403</td>\n",
       "    </tr>\n",
       "    <tr>\n",
       "      <th>2403</th>\n",
       "      <td>Velasco</td>\n",
       "      <td>2404</td>\n",
       "      <td>1</td>\n",
       "      <td>0.000032</td>\n",
       "      <td>2404</td>\n",
       "    </tr>\n",
       "    <tr>\n",
       "      <th>2404</th>\n",
       "      <td>Valetia</td>\n",
       "      <td>2405</td>\n",
       "      <td>1</td>\n",
       "      <td>0.000032</td>\n",
       "      <td>2405</td>\n",
       "    </tr>\n",
       "    <tr>\n",
       "      <th>2405</th>\n",
       "      <td>Solanes</td>\n",
       "      <td>2406</td>\n",
       "      <td>1</td>\n",
       "      <td>0.000032</td>\n",
       "      <td>2406</td>\n",
       "    </tr>\n",
       "    <tr>\n",
       "      <th>2406</th>\n",
       "      <td>Peig</td>\n",
       "      <td>2407</td>\n",
       "      <td>1</td>\n",
       "      <td>0.000032</td>\n",
       "      <td>2407</td>\n",
       "    </tr>\n",
       "    <tr>\n",
       "      <th>2407</th>\n",
       "      <td>Brondo</td>\n",
       "      <td>2408</td>\n",
       "      <td>1</td>\n",
       "      <td>0.000032</td>\n",
       "      <td>2408</td>\n",
       "    </tr>\n",
       "    <tr>\n",
       "      <th>2408</th>\n",
       "      <td>farreres</td>\n",
       "      <td>2409</td>\n",
       "      <td>1</td>\n",
       "      <td>0.000032</td>\n",
       "      <td>2409</td>\n",
       "    </tr>\n",
       "    <tr>\n",
       "      <th>2409</th>\n",
       "      <td>Viver</td>\n",
       "      <td>2410</td>\n",
       "      <td>1</td>\n",
       "      <td>0.000032</td>\n",
       "      <td>2410</td>\n",
       "    </tr>\n",
       "    <tr>\n",
       "      <th>2410</th>\n",
       "      <td>Alavall</td>\n",
       "      <td>2411</td>\n",
       "      <td>1</td>\n",
       "      <td>0.000032</td>\n",
       "      <td>2411</td>\n",
       "    </tr>\n",
       "    <tr>\n",
       "      <th>2411</th>\n",
       "      <td>polvorer</td>\n",
       "      <td>2412</td>\n",
       "      <td>1</td>\n",
       "      <td>0.000032</td>\n",
       "      <td>2412</td>\n",
       "    </tr>\n",
       "    <tr>\n",
       "      <th>2412</th>\n",
       "      <td>mercr</td>\n",
       "      <td>2413</td>\n",
       "      <td>1</td>\n",
       "      <td>0.000032</td>\n",
       "      <td>2413</td>\n",
       "    </tr>\n",
       "    <tr>\n",
       "      <th>2413</th>\n",
       "      <td>Sengermes</td>\n",
       "      <td>2414</td>\n",
       "      <td>1</td>\n",
       "      <td>0.000032</td>\n",
       "      <td>2414</td>\n",
       "    </tr>\n",
       "    <tr>\n",
       "      <th>2414</th>\n",
       "      <td>Cebriana</td>\n",
       "      <td>2415</td>\n",
       "      <td>1</td>\n",
       "      <td>0.000032</td>\n",
       "      <td>2415</td>\n",
       "    </tr>\n",
       "    <tr>\n",
       "      <th>2415</th>\n",
       "      <td>Tamuyell</td>\n",
       "      <td>2416</td>\n",
       "      <td>1</td>\n",
       "      <td>0.000032</td>\n",
       "      <td>2416</td>\n",
       "    </tr>\n",
       "    <tr>\n",
       "      <th>2416</th>\n",
       "      <td>Capella</td>\n",
       "      <td>2417</td>\n",
       "      <td>1</td>\n",
       "      <td>0.000032</td>\n",
       "      <td>2417</td>\n",
       "    </tr>\n",
       "    <tr>\n",
       "      <th>2417</th>\n",
       "      <td>Bris</td>\n",
       "      <td>2418</td>\n",
       "      <td>1</td>\n",
       "      <td>0.000032</td>\n",
       "      <td>2418</td>\n",
       "    </tr>\n",
       "    <tr>\n",
       "      <th>2418</th>\n",
       "      <td>pedranyaler</td>\n",
       "      <td>2419</td>\n",
       "      <td>1</td>\n",
       "      <td>0.000032</td>\n",
       "      <td>2419</td>\n",
       "    </tr>\n",
       "    <tr>\n",
       "      <th>2419</th>\n",
       "      <td>Comi</td>\n",
       "      <td>2420</td>\n",
       "      <td>1</td>\n",
       "      <td>0.000032</td>\n",
       "      <td>2420</td>\n",
       "    </tr>\n",
       "    <tr>\n",
       "      <th>2420</th>\n",
       "      <td>Rosa</td>\n",
       "      <td>2421</td>\n",
       "      <td>1</td>\n",
       "      <td>0.000032</td>\n",
       "      <td>2421</td>\n",
       "    </tr>\n",
       "    <tr>\n",
       "      <th>2421</th>\n",
       "      <td>Scudaller</td>\n",
       "      <td>2422</td>\n",
       "      <td>1</td>\n",
       "      <td>0.000032</td>\n",
       "      <td>2422</td>\n",
       "    </tr>\n",
       "    <tr>\n",
       "      <th>2422</th>\n",
       "      <td>Burell</td>\n",
       "      <td>2423</td>\n",
       "      <td>1</td>\n",
       "      <td>0.000032</td>\n",
       "      <td>2423</td>\n",
       "    </tr>\n",
       "    <tr>\n",
       "      <th>2423</th>\n",
       "      <td>Genisa</td>\n",
       "      <td>2424</td>\n",
       "      <td>1</td>\n",
       "      <td>0.000032</td>\n",
       "      <td>2424</td>\n",
       "    </tr>\n",
       "    <tr>\n",
       "      <th>2424</th>\n",
       "      <td>Strany</td>\n",
       "      <td>2425</td>\n",
       "      <td>1</td>\n",
       "      <td>0.000032</td>\n",
       "      <td>2425</td>\n",
       "    </tr>\n",
       "    <tr>\n",
       "      <th>2425</th>\n",
       "      <td>sr</td>\n",
       "      <td>2426</td>\n",
       "      <td>1</td>\n",
       "      <td>0.000032</td>\n",
       "      <td>2426</td>\n",
       "    </tr>\n",
       "    <tr>\n",
       "      <th>2426</th>\n",
       "      <td>dereig</td>\n",
       "      <td>2427</td>\n",
       "      <td>1</td>\n",
       "      <td>0.000032</td>\n",
       "      <td>2427</td>\n",
       "    </tr>\n",
       "    <tr>\n",
       "      <th>2427</th>\n",
       "      <td>Corretger</td>\n",
       "      <td>2428</td>\n",
       "      <td>1</td>\n",
       "      <td>0.000032</td>\n",
       "      <td>2428</td>\n",
       "    </tr>\n",
       "    <tr>\n",
       "      <th>2428</th>\n",
       "      <td>Pujola</td>\n",
       "      <td>2429</td>\n",
       "      <td>1</td>\n",
       "      <td>0.000032</td>\n",
       "      <td>2429</td>\n",
       "    </tr>\n",
       "    <tr>\n",
       "      <th>2429</th>\n",
       "      <td>Albert</td>\n",
       "      <td>2430</td>\n",
       "      <td>1</td>\n",
       "      <td>0.000032</td>\n",
       "      <td>2430</td>\n",
       "    </tr>\n",
       "  </tbody>\n",
       "</table>\n",
       "<p>2430 rows × 5 columns</p>\n",
       "</div>"
      ],
      "text/plain": [
       "          Término  Rank  Frecuencia  Proporción  Rank*Frecuencia\n",
       "0              de     1        6355    0.201740             6355\n",
       "1               y     2        1338    0.042475             2676\n",
       "2           pages     3         977    0.031015             2931\n",
       "3              ab     4         966    0.030666             3864\n",
       "4          rebere     5         934    0.029650             4670\n",
       "5           filla     6         729    0.023142             4374\n",
       "6            Bara     7         718    0.022793             5026\n",
       "7        donsella     8         646    0.020507             5168\n",
       "8             dia     9         590    0.018730             5310\n",
       "9            fill    10         570    0.018095             5700\n",
       "10             en    11         518    0.016444             5698\n",
       "11              a    12         379    0.012031             4548\n",
       "12       habitant    13         352    0.011174             4576\n",
       "13       defuncts    14         348    0.011047             4872\n",
       "14        defunct    15         338    0.010730             5070\n",
       "15            dit    16         334    0.010603             5344\n",
       "16           Pere    17         321    0.010190             5457\n",
       "17            Dit    18         293    0.009301             5274\n",
       "18            del    19         267    0.008476             5073\n",
       "19             St    20         241    0.007651             4820\n",
       "20          viuda    21         228    0.007238             4788\n",
       "21           Juan    22         220    0.006984             4840\n",
       "22        parayre    23         217    0.006889             4991\n",
       "23          viudo    24         196    0.006222             4704\n",
       "24              t    25         194    0.006159             4850\n",
       "25         Antoni    26         191    0.006063             4966\n",
       "26      Elisabeth    27         180    0.005714             4860\n",
       "27              #    28         168    0.005333             4704\n",
       "28            Jua    29         165    0.005238             4785\n",
       "29      Margarida    30         153    0.004857             4590\n",
       "...           ...   ...         ...         ...              ...\n",
       "2400      Vinacet  2401           1    0.000032             2401\n",
       "2401     Bernarda  2402           1    0.000032             2402\n",
       "2402         Fran  2403           1    0.000032             2403\n",
       "2403      Velasco  2404           1    0.000032             2404\n",
       "2404      Valetia  2405           1    0.000032             2405\n",
       "2405      Solanes  2406           1    0.000032             2406\n",
       "2406         Peig  2407           1    0.000032             2407\n",
       "2407       Brondo  2408           1    0.000032             2408\n",
       "2408     farreres  2409           1    0.000032             2409\n",
       "2409        Viver  2410           1    0.000032             2410\n",
       "2410      Alavall  2411           1    0.000032             2411\n",
       "2411     polvorer  2412           1    0.000032             2412\n",
       "2412        mercr  2413           1    0.000032             2413\n",
       "2413    Sengermes  2414           1    0.000032             2414\n",
       "2414     Cebriana  2415           1    0.000032             2415\n",
       "2415     Tamuyell  2416           1    0.000032             2416\n",
       "2416      Capella  2417           1    0.000032             2417\n",
       "2417         Bris  2418           1    0.000032             2418\n",
       "2418  pedranyaler  2419           1    0.000032             2419\n",
       "2419         Comi  2420           1    0.000032             2420\n",
       "2420         Rosa  2421           1    0.000032             2421\n",
       "2421    Scudaller  2422           1    0.000032             2422\n",
       "2422       Burell  2423           1    0.000032             2423\n",
       "2423       Genisa  2424           1    0.000032             2424\n",
       "2424       Strany  2425           1    0.000032             2425\n",
       "2425           sr  2426           1    0.000032             2426\n",
       "2426       dereig  2427           1    0.000032             2427\n",
       "2427    Corretger  2428           1    0.000032             2428\n",
       "2428       Pujola  2429           1    0.000032             2429\n",
       "2429       Albert  2430           1    0.000032             2430\n",
       "\n",
       "[2430 rows x 5 columns]"
      ]
     },
     "execution_count": 37,
     "metadata": {},
     "output_type": "execute_result"
    }
   ],
   "source": [
    "import pandas as pd\n",
    "from numpy.random import randint\n",
    "\n",
    "data = []\n",
    "c = 1\n",
    "tot_pal = len([w for r in records for w in r])\n",
    "for pal,freq in dic_decr.items():\n",
    "    data.append([pal, c, freq, freq/tot_pal, c * freq])\n",
    "    c += 1\n",
    "\n",
    "df = pd.DataFrame(data,columns=['Término', 'Rank', 'Frecuencia','Proporción','Rank*Frecuencia'])\n",
    "df"
   ]
  },
  {
   "cell_type": "markdown",
   "metadata": {},
   "source": [
    "Realizamos el mismo proceso para las etiquetas de persona y categoría semántica."
   ]
  },
  {
   "cell_type": "code",
   "execution_count": 38,
   "metadata": {},
   "outputs": [
    {
     "data": {
      "text/plain": [
       "{'none': 15176,\n",
       " 'husband': 5827,\n",
       " 'wifes_father': 3592,\n",
       " 'wife': 2771,\n",
       " 'husbands_father': 2314,\n",
       " 'wifes_mother': 754,\n",
       " 'husbands_mother': 602,\n",
       " 'other_person': 465}"
      ]
     },
     "execution_count": 38,
     "metadata": {},
     "output_type": "execute_result"
    }
   ],
   "source": [
    "person_counts = {}\n",
    "for r in person_labels:\n",
    "    for etiqueta in r:\n",
    "        person_counts[etiqueta] = 1+person_counts.get(etiqueta,0)\n",
    "\n",
    "dict(sorted(person_counts.items(), key = lambda x: x[1], reverse = True))"
   ]
  },
  {
   "cell_type": "code",
   "execution_count": 39,
   "metadata": {},
   "outputs": [
    {
     "data": {
      "text/plain": [
       "{'other': 15176,\n",
       " 'name': 4997,\n",
       " 'location': 4509,\n",
       " 'occupation': 3010,\n",
       " 'surname': 2667,\n",
       " 'state': 1142}"
      ]
     },
     "execution_count": 39,
     "metadata": {},
     "output_type": "execute_result"
    }
   ],
   "source": [
    "category_counts = {}\n",
    "for r in category_labels:\n",
    "    for etiqueta in r:\n",
    "        category_counts[etiqueta] = 1+category_counts.get(etiqueta,0)\n",
    "\n",
    "dict(sorted(category_counts.items(), key = lambda x: x[1], reverse = True))"
   ]
  },
  {
   "cell_type": "markdown",
   "metadata": {},
   "source": [
    "Mostramos las palabras más frecuentes por categoría semántica"
   ]
  },
  {
   "cell_type": "code",
   "execution_count": 40,
   "metadata": {},
   "outputs": [
    {
     "data": {
      "text/html": [
       "<div>\n",
       "<style scoped>\n",
       "    .dataframe tbody tr th:only-of-type {\n",
       "        vertical-align: middle;\n",
       "    }\n",
       "\n",
       "    .dataframe tbody tr th {\n",
       "        vertical-align: top;\n",
       "    }\n",
       "\n",
       "    .dataframe thead th {\n",
       "        text-align: right;\n",
       "    }\n",
       "</style>\n",
       "<table border=\"1\" class=\"dataframe\">\n",
       "  <thead>\n",
       "    <tr style=\"text-align: right;\">\n",
       "      <th></th>\n",
       "      <th>Name</th>\n",
       "      <th>Frequency</th>\n",
       "      <th>Surname</th>\n",
       "      <th>Frequency</th>\n",
       "      <th>Location</th>\n",
       "      <th>Frequency</th>\n",
       "      <th>Occupation</th>\n",
       "      <th>Frequency</th>\n",
       "      <th>State</th>\n",
       "      <th>Frequency</th>\n",
       "    </tr>\n",
       "  </thead>\n",
       "  <tbody>\n",
       "    <tr>\n",
       "      <th>0</th>\n",
       "      <td>Pere</td>\n",
       "      <td>308</td>\n",
       "      <td>de</td>\n",
       "      <td>48</td>\n",
       "      <td>Bara</td>\n",
       "      <td>717</td>\n",
       "      <td>pages</td>\n",
       "      <td>972</td>\n",
       "      <td>donsella</td>\n",
       "      <td>640</td>\n",
       "    </tr>\n",
       "    <tr>\n",
       "      <th>1</th>\n",
       "      <td>Juan</td>\n",
       "      <td>216</td>\n",
       "      <td>Soler</td>\n",
       "      <td>27</td>\n",
       "      <td>de</td>\n",
       "      <td>641</td>\n",
       "      <td>de</td>\n",
       "      <td>249</td>\n",
       "      <td>viuda</td>\n",
       "      <td>223</td>\n",
       "    </tr>\n",
       "    <tr>\n",
       "      <th>2</th>\n",
       "      <td>t</td>\n",
       "      <td>193</td>\n",
       "      <td>font</td>\n",
       "      <td>24</td>\n",
       "      <td>St</td>\n",
       "      <td>230</td>\n",
       "      <td>parayre</td>\n",
       "      <td>217</td>\n",
       "      <td>viudo</td>\n",
       "      <td>194</td>\n",
       "    </tr>\n",
       "    <tr>\n",
       "      <th>3</th>\n",
       "      <td>Antoni</td>\n",
       "      <td>191</td>\n",
       "      <td>Marti</td>\n",
       "      <td>24</td>\n",
       "      <td>bisbat</td>\n",
       "      <td>145</td>\n",
       "      <td>sastre</td>\n",
       "      <td>94</td>\n",
       "      <td>dosella</td>\n",
       "      <td>68</td>\n",
       "    </tr>\n",
       "    <tr>\n",
       "      <th>4</th>\n",
       "      <td>Elisabeth</td>\n",
       "      <td>180</td>\n",
       "      <td>Puig</td>\n",
       "      <td>23</td>\n",
       "      <td>dita</td>\n",
       "      <td>144</td>\n",
       "      <td>texidor</td>\n",
       "      <td>88</td>\n",
       "      <td>sella</td>\n",
       "      <td>8</td>\n",
       "    </tr>\n",
       "    <tr>\n",
       "      <th>5</th>\n",
       "      <td>Jua</td>\n",
       "      <td>163</td>\n",
       "      <td>Serra</td>\n",
       "      <td>22</td>\n",
       "      <td>regne</td>\n",
       "      <td>137</td>\n",
       "      <td>sabater</td>\n",
       "      <td>62</td>\n",
       "      <td>don</td>\n",
       "      <td>4</td>\n",
       "    </tr>\n",
       "    <tr>\n",
       "      <th>6</th>\n",
       "      <td>Margarida</td>\n",
       "      <td>151</td>\n",
       "      <td>ferrer</td>\n",
       "      <td>20</td>\n",
       "      <td>franÃ§a</td>\n",
       "      <td>118</td>\n",
       "      <td>mestre</td>\n",
       "      <td>57</td>\n",
       "      <td>do</td>\n",
       "      <td>4</td>\n",
       "    </tr>\n",
       "    <tr>\n",
       "      <th>7</th>\n",
       "      <td>jaume</td>\n",
       "      <td>145</td>\n",
       "      <td>Vidal</td>\n",
       "      <td>19</td>\n",
       "      <td>parrochia</td>\n",
       "      <td>90</td>\n",
       "      <td>llana</td>\n",
       "      <td>52</td>\n",
       "      <td>donzella</td>\n",
       "      <td>1</td>\n",
       "    </tr>\n",
       "  </tbody>\n",
       "</table>\n",
       "</div>"
      ],
      "text/plain": [
       "        Name  Frequency Surname  Frequency   Location  Frequency Occupation  \\\n",
       "0       Pere        308      de         48       Bara        717      pages   \n",
       "1       Juan        216   Soler         27         de        641         de   \n",
       "2          t        193    font         24         St        230    parayre   \n",
       "3     Antoni        191   Marti         24     bisbat        145     sastre   \n",
       "4  Elisabeth        180    Puig         23       dita        144    texidor   \n",
       "5        Jua        163   Serra         22      regne        137    sabater   \n",
       "6  Margarida        151  ferrer         20    franÃ§a        118     mestre   \n",
       "7      jaume        145   Vidal         19  parrochia         90      llana   \n",
       "\n",
       "   Frequency     State  Frequency  \n",
       "0        972  donsella        640  \n",
       "1        249     viuda        223  \n",
       "2        217     viudo        194  \n",
       "3         94   dosella         68  \n",
       "4         88     sella          8  \n",
       "5         62       don          4  \n",
       "6         57        do          4  \n",
       "7         52  donzella          1  "
      ]
     },
     "execution_count": 40,
     "metadata": {},
     "output_type": "execute_result"
    }
   ],
   "source": [
    "name_freq = {}\n",
    "surname_freq = {}\n",
    "loc_freq = {}\n",
    "occ_freq = {}\n",
    "state_freq = {}\n",
    "\n",
    "for r1,r2 in zip(records,category_labels):\n",
    "    for w,lab in zip(r1,r2):\n",
    "        if lab == 'name':\n",
    "            name_freq[w] = 1 + name_freq.get(w,0)\n",
    "        \n",
    "        elif lab == 'surname':\n",
    "            surname_freq[w] = 1 + surname_freq.get(w,0)\n",
    "        \n",
    "        elif lab == 'location':\n",
    "            loc_freq[w] = 1 + loc_freq.get(w,0)\n",
    "\n",
    "        elif lab == 'occupation':\n",
    "            occ_freq[w] = 1 + occ_freq.get(w,0)\n",
    "        \n",
    "        elif lab == 'state':\n",
    "            state_freq[w] = 1 + state_freq.get(w,0)\n",
    "\n",
    "name_freq = dict(sorted(name_freq.items(), key = lambda x: x[1], reverse = True)[:8])       \n",
    "surname_freq = dict(sorted(surname_freq.items(), key = lambda x: x[1], reverse = True)[:8])  \n",
    "loc_freq = dict(sorted(loc_freq.items(), key = lambda x: x[1], reverse = True)[:8])       \n",
    "occ_freq = dict(sorted(occ_freq.items(), key = lambda x: x[1], reverse = True)[:8])  \n",
    "state_freq = dict(sorted(state_freq.items(), key = lambda x: x[1], reverse = True)[:8])  \n",
    "\n",
    "\n",
    "df_name = pd.DataFrame(name_freq.items(), columns=['Name', 'Frequency'])\n",
    "df_surname = pd.DataFrame(surname_freq.items(), columns=['Surname', 'Frequency'])\n",
    "df_loc = pd.DataFrame(loc_freq.items(), columns=['Location', 'Frequency'])\n",
    "df_occ = pd.DataFrame(occ_freq.items(), columns=['Occupation', 'Frequency'])\n",
    "df_state = pd.DataFrame(state_freq.items(), columns=['State', 'Frequency'])\n",
    "\n",
    "\n",
    "result = pd.concat([df_name, df_surname, df_loc, df_occ, df_state], axis=1)\n",
    "result\n",
    "        "
   ]
  },
  {
   "cell_type": "markdown",
   "metadata": {},
   "source": [
    "Creamos otro diccionario para almacenar las frecuencias por carácter."
   ]
  },
  {
   "cell_type": "code",
   "execution_count": 41,
   "metadata": {},
   "outputs": [
    {
     "data": {
      "text/plain": [
       "{'e': 20382,\n",
       " 'a': 20035,\n",
       " 'd': 11374,\n",
       " 'r': 10971,\n",
       " 'l': 9208,\n",
       " 'i': 8173,\n",
       " 'n': 7585,\n",
       " 't': 6591,\n",
       " 's': 6059,\n",
       " 'o': 4867}"
      ]
     },
     "execution_count": 41,
     "metadata": {},
     "output_type": "execute_result"
    }
   ],
   "source": [
    "dic_counts_char = {}\n",
    "\n",
    "for r in records:\n",
    "    for word in r:\n",
    "        for char in word:\n",
    "            dic_counts_char[char] = 1+dic_counts_char.get(char,0)\n",
    "\n",
    "dict(sorted(dic_counts_char.items(), key = lambda x: x[1], reverse = True)[:10])"
   ]
  },
  {
   "cell_type": "code",
   "execution_count": 42,
   "metadata": {},
   "outputs": [
    {
     "name": "stdout",
     "output_type": "stream",
     "text": [
      "Caracteres únicos: 60\n"
     ]
    }
   ],
   "source": [
    "print('Caracteres únicos:', len(dic_counts_char))"
   ]
  },
  {
   "cell_type": "markdown",
   "metadata": {},
   "source": [
    "### 1) NER solo con categorías semánticas"
   ]
  },
  {
   "cell_type": "markdown",
   "metadata": {},
   "source": [
    "En este primer experimento solo se consideran las etiquetas de categorías semánticas. Por tanto, asociamos a cada palabra de cada registro su respectiva categoria y vemos como queda un registro etiquetado."
   ]
  },
  {
   "cell_type": "code",
   "execution_count": 10,
   "metadata": {},
   "outputs": [
    {
     "name": "stdout",
     "output_type": "stream",
     "text": [
      "[('dit', 'other'), ('dia', 'other'), ('rebere', 'other'), ('de', 'other'), ('Antoni', 'name'), ('fetjo', 'surname'), ('parayre', 'occupation'), ('de', 'other'), ('St', 'location'), ('Cugat', 'location'), ('de', 'location'), ('Vallers', 'location'), ('fill', 'other'), ('de', 'other'), ('Jua', 'name'), ('fetjo', 'surname'), ('pages', 'occupation'), ('y', 'other'), ('de', 'other'), ('Eularia', 'name'), ('defuncts', 'other'), ('ab', 'other'), ('Violant', 'name'), ('viuda', 'other'), ('de', 'other'), ('Jua', 'name'), ('Moner', 'surname'), ('boter', 'occupation'), ('de', 'other'), ('dita', 'location'), ('vila', 'location')] \n",
      "\n"
     ]
    }
   ],
   "source": [
    "tagged_records = []\n",
    "for r1,r2 in zip(records, category_labels):\n",
    "    record = []\n",
    "    for w,category in zip(r1,r2):\n",
    "        record.append((w,category))\n",
    "    tagged_records.append(record)\n",
    "\n",
    "print(tagged_records[198],'\\n')  "
   ]
  },
  {
   "cell_type": "markdown",
   "metadata": {},
   "source": [
    "Comprobamos la distribucion de longitudes de registros para hacernos una idea de cuantas palabras contienen."
   ]
  },
  {
   "cell_type": "code",
   "execution_count": 13,
   "metadata": {},
   "outputs": [
    {
     "data": {
      "image/png": "[encoded data removed]",
      "text/plain": [
       "<Figure size 504x360 with 1 Axes>"
      ]
     },
     "metadata": {
      "needs_background": "light"
     },
     "output_type": "display_data"
    }
   ],
   "source": [
    "plt.figure(figsize = (7,5))\n",
    "x = [len(r) for r in tagged_records]\n",
    "plt.hist(x, bins = 30)\n",
    "plt.axvline(np.mean(x), color='r', linestyle='dashed', linewidth=1)\n",
    "min_ylim, max_ylim = plt.ylim()\n",
    "plt.text(np.mean(x)*1.1, max_ylim*0.9, 'Media: {:.2f}'.format(np.mean(x)))\n",
    "plt.xlabel('Número de palabras')\n",
    "plt.ylabel('Frecuencia')\n",
    "plt.show()"
   ]
  },
  {
   "cell_type": "markdown",
   "metadata": {},
   "source": [
    "Parece existen algunos registros más largos de lo habitual, aunque estos son casos extremos."
   ]
  },
  {
   "cell_type": "markdown",
   "metadata": {},
   "source": [
    "Algunos estadísticos de interés:"
   ]
  },
  {
   "cell_type": "code",
   "execution_count": 14,
   "metadata": {},
   "outputs": [
    {
     "name": "stdout",
     "output_type": "stream",
     "text": [
      "Mínimo : 13\n",
      "Máximo : 77\n",
      "Media : 32.54\n",
      "Desviación : 6.69\n"
     ]
    }
   ],
   "source": [
    "print('Mínimo :',min(x))\n",
    "print('Máximo :',max(x))\n",
    "print('Media :', round(np.mean(x),2))\n",
    "print('Desviación :', round(np.std(x),2))"
   ]
  },
  {
   "cell_type": "markdown",
   "metadata": {},
   "source": [
    "Mismo proceso para las longitudes de palabras en base a la cantidad caracteres que la forman."
   ]
  },
  {
   "cell_type": "code",
   "execution_count": 15,
   "metadata": {},
   "outputs": [
    {
     "data": {
      "image/png": "[encoded data removed]",
      "text/plain": [
       "<Figure size 504x360 with 1 Axes>"
      ]
     },
     "metadata": {
      "needs_background": "light"
     },
     "output_type": "display_data"
    }
   ],
   "source": [
    "plt.figure(figsize = (7,5))\n",
    "x = [len(w[0]) for r in tagged_records for w in r]\n",
    "plt.hist(x, bins = 14)\n",
    "plt.axvline(np.mean(x), color='r', linestyle='dashed', linewidth=1)\n",
    "min_ylim, max_ylim = plt.ylim()\n",
    "plt.text(np.mean(x)*1.1, max_ylim*0.9, 'Media: {:.2f}'.format(np.mean(x)))\n",
    "plt.xlabel('Número de caracteres')\n",
    "plt.ylabel('Frecuencia')\n",
    "plt.show()"
   ]
  },
  {
   "cell_type": "code",
   "execution_count": 11,
   "metadata": {},
   "outputs": [
    {
     "name": "stdout",
     "output_type": "stream",
     "text": [
      "Mínimo : 1\n",
      "Máximo : 14\n",
      "Media : 4.46\n",
      "Desviación : 2.47\n"
     ]
    }
   ],
   "source": [
    "print('Mínimo :',min(x))\n",
    "print('Máximo :',max(x))\n",
    "print('Media :', round(np.mean(x),2))\n",
    "print('Desviación :', round(np.std(x),2))"
   ]
  },
  {
   "cell_type": "markdown",
   "metadata": {},
   "source": [
    "Con ayuda de las distribuciones de longitudes de registros y palabras vistas, hay que definir las longitudes de secuencias para ser entradas a la red neuronal. En caso de los registros parece que son pocos los que tienen más de 50 palabras por lo que se elige esta longitud como tamaño máximo de la secuencia de palabras, y las palabras se fijan a 10 caracteres. La información a nivel de carácter también es importante puesto que da pistas al modelo sobre la estructura interna de palabras desconocidas. Debido a que las redes neuronales trabajan con datos numéricos, se han de establecer correspondencias entre índices y cada palabra, carácter y etiqueta para luego obtener unas predicciones."
   ]
  },
  {
   "cell_type": "code",
   "execution_count": 44,
   "metadata": {},
   "outputs": [],
   "source": [
    "max_len = 50\n",
    "max_len_char = 10\n",
    "\n",
    "vocab = list(dic_counts.keys())\n",
    "vocab_chars = list(dic_counts_char.keys())\n",
    "tags = list(category_counts.keys())\n",
    "\n",
    "n_words = len(vocab)\n",
    "n_chars = len(vocab_chars)\n",
    "n_tags = len(tags)\n",
    "\n",
    "word2idx = {w: i for i, w in enumerate(vocab,1)}\n",
    "char2index = {c:i for i,c in enumerate(vocab_chars,1)}\n",
    "tag2idx = {t: i for i, t in enumerate(tags)}"
   ]
  },
  {
   "cell_type": "markdown",
   "metadata": {},
   "source": [
    "A continuación, codificamos las palabras de los registros en base a las correspondencias creadas y fijamos la longitud máxima para todos los registros para que tengan el mismo tamaño y puedan ser tomados posteriormente por el modelo. Si un registro no alcanza dicha longitud, se completa añadiendo ceros, técnica conocida como 'padding'."
   ]
  },
  {
   "cell_type": "code",
   "execution_count": 12,
   "metadata": {},
   "outputs": [
    {
     "data": {
      "text/plain": [
       "array([104,  48, 105,   9,   4,  60, 106, 107,   4, 108,   4, 109,  16,\n",
       "         4,  31, 106, 110,   7,   4,  28,  75,  21,  22,  23,  24,   4,\n",
       "        31, 111,  18,   4,  67,  89,   7,   4,  22,   0,   0,   0,   0,\n",
       "         0,   0,   0,   0,   0,   0,   0,   0,   0,   0,   0])"
      ]
     },
     "execution_count": 12,
     "metadata": {},
     "output_type": "execute_result"
    }
   ],
   "source": [
    "from keras.preprocessing.sequence import pad_sequences\n",
    "\n",
    "X_word = [[word2idx[w[0]] for w in r] for r in tagged_records]\n",
    "X_word = pad_sequences(maxlen=max_len, sequences= X_word, padding=\"post\", value=0)\n",
    "X_word[8]"
   ]
  },
  {
   "cell_type": "markdown",
   "metadata": {},
   "source": [
    "Se sigue el mismo procedimiento para codificar los caracteres de cada palabra en cada registro. Aquí tenemos matrices por cada registro donde se tienen tantas filas como tamaño de la secuencia de registros se haya definido y tantas columnas como tamaño de la secuencia de caracteres definida, en este caso 10."
   ]
  },
  {
   "cell_type": "code",
   "execution_count": 13,
   "metadata": {},
   "outputs": [
    {
     "data": {
      "text/plain": [
       "array([[28,  9, 42,  3, 18, 11,  0,  0,  0,  0],\n",
       "       [ 4,  0,  0,  0,  0,  0,  0,  0,  0,  0],\n",
       "       [44,  0,  0,  0,  0,  0,  0,  0,  0,  0],\n",
       "       [ 2,  8, 15,  8,  2,  8,  0,  0,  0,  0],\n",
       "       [ 7,  8,  0,  0,  0,  0,  0,  0,  0,  0],\n",
       "       [34,  9, 27, 18,  8,  5,  0,  0,  0,  0],\n",
       "       [21,  3, 12,  4,  2,  0,  0,  0,  0,  0],\n",
       "       [12,  4,  2,  9, 14,  8,  2,  0,  0,  0],\n",
       "       [ 7,  8,  0,  0,  0,  0,  0,  0,  0,  0],\n",
       "       [23,  9,  5,  4, 14,  3, 33,  4,  0,  0],\n",
       "       [ 7,  8,  0,  0,  0,  0,  0,  0,  0,  0],\n",
       "       [17, 18, 15,  8,  5,  5,  4, 11,  0,  0],\n",
       "       [20,  9,  5,  5,  0,  0,  0,  0,  0,  0],\n",
       "       [ 7,  8,  0,  0,  0,  0,  0,  0,  0,  0],\n",
       "       [29, 18,  4,  0,  0,  0,  0,  0,  0,  0],\n",
       "       [21,  3, 12,  4,  2,  0,  0,  0,  0,  0],\n",
       "       [ 6,  8, 11, 31,  4,  7,  3,  2,  0,  0],\n",
       "       [13,  0,  0,  0,  0,  0,  0,  0,  0,  0],\n",
       "       [ 7,  8,  0,  0,  0,  0,  0,  0,  0,  0],\n",
       "       [26, 18,  5,  4,  2,  9,  4,  0,  0,  0],\n",
       "       [ 7,  8, 20, 18, 14, 31, 10, 11,  0,  0],\n",
       "       [ 4, 15,  0,  0,  0,  0,  0,  0,  0,  0],\n",
       "       [24,  9,  8,  2,  3, 14, 13, 12,  4,  0],\n",
       "       [ 7,  3, 14, 11,  8,  5,  5,  4,  0,  0],\n",
       "       [20,  9,  5,  5,  4,  0,  0,  0,  0,  0],\n",
       "       [ 7,  8,  0,  0,  0,  0,  0,  0,  0,  0],\n",
       "       [29, 18,  4,  0,  0,  0,  0,  0,  0,  0],\n",
       "       [38,  3, 11, 11,  8,  5,  5,  0,  0,  0],\n",
       "       [ 6,  4, 22,  8, 11,  0,  0,  0,  0,  0],\n",
       "       [ 7,  8,  0,  0,  0,  0,  0,  0,  0,  0],\n",
       "       [ 7,  9, 10,  4,  0,  0,  0,  0,  0,  0],\n",
       "       [33,  9,  5,  4,  0,  0,  0,  0,  0,  0],\n",
       "       [13,  0,  0,  0,  0,  0,  0,  0,  0,  0],\n",
       "       [ 7,  8,  0,  0,  0,  0,  0,  0,  0,  0],\n",
       "       [24,  9,  8,  2,  3, 14, 13, 12,  4,  0],\n",
       "       [ 0,  0,  0,  0,  0,  0,  0,  0,  0,  0],\n",
       "       [ 0,  0,  0,  0,  0,  0,  0,  0,  0,  0],\n",
       "       [ 0,  0,  0,  0,  0,  0,  0,  0,  0,  0],\n",
       "       [ 0,  0,  0,  0,  0,  0,  0,  0,  0,  0],\n",
       "       [ 0,  0,  0,  0,  0,  0,  0,  0,  0,  0],\n",
       "       [ 0,  0,  0,  0,  0,  0,  0,  0,  0,  0],\n",
       "       [ 0,  0,  0,  0,  0,  0,  0,  0,  0,  0],\n",
       "       [ 0,  0,  0,  0,  0,  0,  0,  0,  0,  0],\n",
       "       [ 0,  0,  0,  0,  0,  0,  0,  0,  0,  0],\n",
       "       [ 0,  0,  0,  0,  0,  0,  0,  0,  0,  0],\n",
       "       [ 0,  0,  0,  0,  0,  0,  0,  0,  0,  0],\n",
       "       [ 0,  0,  0,  0,  0,  0,  0,  0,  0,  0],\n",
       "       [ 0,  0,  0,  0,  0,  0,  0,  0,  0,  0],\n",
       "       [ 0,  0,  0,  0,  0,  0,  0,  0,  0,  0],\n",
       "       [ 0,  0,  0,  0,  0,  0,  0,  0,  0,  0]])"
      ]
     },
     "execution_count": 13,
     "metadata": {},
     "output_type": "execute_result"
    }
   ],
   "source": [
    "X_char = []\n",
    "for r in tagged_records:\n",
    "    rec_seq = []\n",
    "    for i in range(max_len):\n",
    "        word_seq = []\n",
    "        for j in range(max_len_char):\n",
    "            try:\n",
    "                word_seq.append(char2index.get(r[i][0][j]))\n",
    "            except:\n",
    "                word_seq.append(0)\n",
    "        rec_seq.append(word_seq)\n",
    "    X_char.append(np.array(rec_seq))\n",
    "\n",
    "X_char[8]"
   ]
  },
  {
   "cell_type": "markdown",
   "metadata": {},
   "source": [
    "Codificamos las etiquetas con sus índices asociados. El relleno se hace con el índice 0 de la categoría 'other' aunque en este caso no es relevante."
   ]
  },
  {
   "cell_type": "code",
   "execution_count": 14,
   "metadata": {},
   "outputs": [
    {
     "data": {
      "text/plain": [
       "array([0, 0, 0, 0, 0, 1, 2, 3, 0, 4, 4, 4, 0, 0, 1, 2, 3, 0, 0, 1, 0, 0,\n",
       "       1, 5, 0, 0, 1, 2, 3, 0, 4, 4, 0, 0, 1, 0, 0, 0, 0, 0, 0, 0, 0, 0,\n",
       "       0, 0, 0, 0, 0, 0])"
      ]
     },
     "execution_count": 14,
     "metadata": {},
     "output_type": "execute_result"
    }
   ],
   "source": [
    "y = [[tag2idx[w[1]] for w in r] for r in tagged_records]\n",
    "y = pad_sequences(maxlen=max_len, sequences=y, padding=\"post\", value=tag2idx[\"other\"])\n",
    "y[8]"
   ]
  },
  {
   "cell_type": "markdown",
   "metadata": {},
   "source": [
    "Con las entradas y etiquetas codificadas, el siguiente paso es definir grupos de particiones de entrenamiento y validación para ser utilizadas por el modelo NER posteriormente. "
   ]
  },
  {
   "cell_type": "code",
   "execution_count": 15,
   "metadata": {},
   "outputs": [],
   "source": [
    "from sklearn.model_selection import train_test_split\n",
    "\n",
    "X_word_tr, X_word_te, y_tr, y_te = train_test_split(X_word, y, test_size=0.2, random_state=2021)\n",
    "X_char_tr, X_char_te, _, _ = train_test_split(X_char, y, test_size=0.2, random_state=2021)"
   ]
  },
  {
   "cell_type": "markdown",
   "metadata": {},
   "source": [
    "Puesto que los índices 0 de palabras inexistentes no queremos que se tengan en cuenta por el modelo a la hora de extraer sus predicciones, se define una función para agrupar las predicciones e incluso etiquetas de los términos reales. Esto es importante para que los resultados finales de clasificación no consideren estos índices.  "
   ]
  },
  {
   "cell_type": "code",
   "execution_count": 16,
   "metadata": {},
   "outputs": [],
   "source": [
    "idx2tag = {i:w for w, i in tag2idx.items()}\n",
    "\n",
    "def number_2_label_unmasked(pred,x,dic_lab):\n",
    "    out = []\n",
    "    record_count = 0\n",
    "    for pred_i in pred:\n",
    "        out_i = []\n",
    "        word_count = 0\n",
    "        for p in pred_i:\n",
    "            if x[record_count][word_count] != 0: \n",
    "                out_i.append(dic_lab[p])\n",
    "                word_count += 1\n",
    "        out.append(out_i)\n",
    "        record_count += 1\n",
    "    return out"
   ]
  },
  {
   "cell_type": "markdown",
   "metadata": {},
   "source": [
    "Importamos todas los modulos y funciones necesarias para la creación del modelo"
   ]
  },
  {
   "cell_type": "code",
   "execution_count": 17,
   "metadata": {},
   "outputs": [],
   "source": [
    "import tensorflow as tf\n",
    "from keras.models import Model, Input\n",
    "from keras.layers import LSTM, Embedding, Dense, TimeDistributed, Dropout, Conv1D\n",
    "from keras.layers import Bidirectional, concatenate, SpatialDropout1D, GlobalMaxPooling1D\n",
    "import keras.optimizers \n",
    "from tf_crf_layer.layer import CRF\n",
    "from tf_crf_layer.loss import crf_loss, ConditionalRandomFieldLoss\n",
    "from tf_crf_layer.metrics import crf_accuracy\n",
    "from tf_crf_layer.metrics.sequence_span_accuracy import SequenceSpanAccuracy\n",
    "from tensorflow.keras.callbacks import ModelCheckpoint"
   ]
  },
  {
   "cell_type": "markdown",
   "metadata": {},
   "source": [
    "Entrenamos el modelo con validación cruzada. En cada iteración se ha de definir un nuevo modelo para entrenarlo y validarlo con diferentes particiones. "
   ]
  },
  {
   "cell_type": "code",
   "execution_count": 17,
   "metadata": {},
   "outputs": [
    {
     "name": "stdout",
     "output_type": "stream",
     "text": [
      "WARNING:tensorflow:From C:\\Users\\Jose Giner\\Anaconda3\\lib\\site-packages\\tensorflow\\python\\autograph\\impl\\api.py:458: dynamic_rnn (from tensorflow.python.ops.rnn) is deprecated and will be removed in a future version.\n",
      "Instructions for updating:\n",
      "Please use `keras.layers.RNN(cell)`, which is equivalent to this API\n",
      "------------------------------------------------------------------------\n",
      "Training for fold 1 ...\n",
      "Epoch 1/30\n",
      "<tf_crf_layer.layer.CRF object at 0x0000016B91293B70> 0\n",
      "<tf_crf_layer.layer.CRF object at 0x0000016B91293B70> 0\n",
      "25/25 [==============================] - ETA: 0s - loss: 29.1679 - sequence_span_accuracy: 0.6307<tf_crf_layer.layer.CRF object at 0x0000016B91293B70> 0\n",
      "25/25 [==============================] - 11s 139ms/step - loss: 29.1679 - sequence_span_accuracy: 0.6307 - val_loss: 20.2266 - val_sequence_span_accuracy: 0.6667\n",
      "Epoch 2/30\n",
      "25/25 [==============================] - 3s 106ms/step - loss: 7.9482 - sequence_span_accuracy: 0.7332 - val_loss: 2.4087 - val_sequence_span_accuracy: 0.7971\n",
      "Epoch 3/30\n",
      "25/25 [==============================] - 3s 108ms/step - loss: 1.9145 - sequence_span_accuracy: 0.8341 - val_loss: 1.8312 - val_sequence_span_accuracy: 0.8614\n",
      "Epoch 4/30\n",
      "25/25 [==============================] - 3s 101ms/step - loss: 1.2245 - sequence_span_accuracy: 0.8798 - val_loss: 1.4236 - val_sequence_span_accuracy: 0.8944\n",
      "Epoch 5/30\n",
      "25/25 [==============================] - 2s 96ms/step - loss: 0.9120 - sequence_span_accuracy: 0.9052 - val_loss: 1.4048 - val_sequence_span_accuracy: 0.9143\n",
      "Epoch 6/30\n",
      "25/25 [==============================] - 2s 94ms/step - loss: 0.7552 - sequence_span_accuracy: 0.9214 - val_loss: 1.3655 - val_sequence_span_accuracy: 0.9275\n",
      "Epoch 7/30\n",
      "25/25 [==============================] - 2s 94ms/step - loss: 0.6586 - sequence_span_accuracy: 0.9326 - val_loss: 1.3764 - val_sequence_span_accuracy: 0.9370\n",
      "Epoch 8/30\n",
      "25/25 [==============================] - 2s 96ms/step - loss: 0.6127 - sequence_span_accuracy: 0.9408 - val_loss: 1.3521 - val_sequence_span_accuracy: 0.9442\n",
      "Epoch 9/30\n",
      "25/25 [==============================] - 3s 105ms/step - loss: 0.5199 - sequence_span_accuracy: 0.9472 - val_loss: 1.5024 - val_sequence_span_accuracy: 0.9498\n",
      "Epoch 10/30\n",
      "25/25 [==============================] - 2s 99ms/step - loss: 0.4708 - sequence_span_accuracy: 0.9522 - val_loss: 1.4965 - val_sequence_span_accuracy: 0.9543\n",
      "Epoch 11/30\n",
      "25/25 [==============================] - 2s 99ms/step - loss: 0.4569 - sequence_span_accuracy: 0.9562 - val_loss: 1.4179 - val_sequence_span_accuracy: 0.9580\n",
      "Epoch 12/30\n",
      "25/25 [==============================] - 2s 93ms/step - loss: 0.4289 - sequence_span_accuracy: 0.9596 - val_loss: 1.4612 - val_sequence_span_accuracy: 0.9611\n",
      "Epoch 13/30\n",
      "25/25 [==============================] - 2s 93ms/step - loss: 0.3644 - sequence_span_accuracy: 0.9624 - val_loss: 1.5232 - val_sequence_span_accuracy: 0.9637\n",
      "Epoch 14/30\n",
      "25/25 [==============================] - 2s 93ms/step - loss: 0.4012 - sequence_span_accuracy: 0.9648 - val_loss: 1.4928 - val_sequence_span_accuracy: 0.9659\n",
      "Epoch 15/30\n",
      "25/25 [==============================] - 2s 97ms/step - loss: 0.3445 - sequence_span_accuracy: 0.9669 - val_loss: 1.5333 - val_sequence_span_accuracy: 0.9679\n",
      "Epoch 16/30\n",
      "25/25 [==============================] - 3s 105ms/step - loss: 0.2690 - sequence_span_accuracy: 0.9688 - val_loss: 1.6634 - val_sequence_span_accuracy: 0.9696\n",
      "Epoch 17/30\n",
      "25/25 [==============================] - 2s 99ms/step - loss: 0.2513 - sequence_span_accuracy: 0.9704 - val_loss: 1.5985 - val_sequence_span_accuracy: 0.9712\n",
      "Epoch 18/30\n",
      "25/25 [==============================] - 2s 98ms/step - loss: 0.2714 - sequence_span_accuracy: 0.9719 - val_loss: 1.7868 - val_sequence_span_accuracy: 0.9725\n",
      "Epoch 19/30\n",
      "25/25 [==============================] - 2s 93ms/step - loss: 0.2517 - sequence_span_accuracy: 0.9732 - val_loss: 1.7454 - val_sequence_span_accuracy: 0.9738\n",
      "Epoch 20/30\n",
      "25/25 [==============================] - 2s 93ms/step - loss: 0.2440 - sequence_span_accuracy: 0.9743 - val_loss: 1.7173 - val_sequence_span_accuracy: 0.9749\n",
      "Epoch 21/30\n",
      "25/25 [==============================] - 2s 94ms/step - loss: 0.2504 - sequence_span_accuracy: 0.9754 - val_loss: 1.6109 - val_sequence_span_accuracy: 0.9759\n",
      "Epoch 22/30\n",
      "25/25 [==============================] - 3s 102ms/step - loss: 0.3413 - sequence_span_accuracy: 0.9763 - val_loss: 1.5488 - val_sequence_span_accuracy: 0.9767\n",
      "Epoch 23/30\n",
      "25/25 [==============================] - 3s 101ms/step - loss: 0.2209 - sequence_span_accuracy: 0.9772 - val_loss: 1.6706 - val_sequence_span_accuracy: 0.9776\n",
      "Epoch 24/30\n",
      "25/25 [==============================] - 2s 100ms/step - loss: 0.2044 - sequence_span_accuracy: 0.9780 - val_loss: 1.7962 - val_sequence_span_accuracy: 0.9783\n",
      "Epoch 25/30\n",
      "25/25 [==============================] - 2s 94ms/step - loss: 0.1597 - sequence_span_accuracy: 0.9787 - val_loss: 1.7485 - val_sequence_span_accuracy: 0.9791\n",
      "Epoch 26/30\n",
      "25/25 [==============================] - 2s 94ms/step - loss: 0.1547 - sequence_span_accuracy: 0.9794 - val_loss: 1.8231 - val_sequence_span_accuracy: 0.9797\n",
      "Epoch 27/30\n",
      "25/25 [==============================] - 2s 94ms/step - loss: 0.1884 - sequence_span_accuracy: 0.9801 - val_loss: 1.9754 - val_sequence_span_accuracy: 0.9804\n",
      "Epoch 28/30\n",
      "25/25 [==============================] - 2s 96ms/step - loss: 0.1683 - sequence_span_accuracy: 0.9807 - val_loss: 1.7652 - val_sequence_span_accuracy: 0.9809\n",
      "Epoch 29/30\n",
      "25/25 [==============================] - 3s 105ms/step - loss: 0.1542 - sequence_span_accuracy: 0.9812 - val_loss: 1.8716 - val_sequence_span_accuracy: 0.9815\n",
      "Epoch 30/30\n",
      "25/25 [==============================] - 3s 100ms/step - loss: 0.1404 - sequence_span_accuracy: 0.9817 - val_loss: 1.7424 - val_sequence_span_accuracy: 0.9820\n",
      "Score for fold 1: Accuracy of 98.27%; F1 score of 0.978\n",
      "------------------------------------------------------------------------\n",
      "Training for fold 2 ...\n",
      "Epoch 1/30\n",
      "<tf_crf_layer.layer.CRF object at 0x0000016BADE35048> 0\n",
      "<tf_crf_layer.layer.CRF object at 0x0000016BADE35048> 0\n",
      "25/25 [==============================] - ETA: 0s - loss: 30.0258 - sequence_span_accuracy: 0.6004<tf_crf_layer.layer.CRF object at 0x0000016BADE35048> 0\n",
      "25/25 [==============================] - 10s 141ms/step - loss: 30.0258 - sequence_span_accuracy: 0.6004 - val_loss: 19.7840 - val_sequence_span_accuracy: 0.6515\n",
      "Epoch 2/30\n",
      "25/25 [==============================] - 2s 96ms/step - loss: 8.3082 - sequence_span_accuracy: 0.7121 - val_loss: 2.5111 - val_sequence_span_accuracy: 0.7799\n",
      "Epoch 3/30\n",
      "25/25 [==============================] - 2s 100ms/step - loss: 1.6852 - sequence_span_accuracy: 0.8210 - val_loss: 2.1251 - val_sequence_span_accuracy: 0.8504\n",
      "Epoch 4/30\n",
      "25/25 [==============================] - 2s 96ms/step - loss: 1.1090 - sequence_span_accuracy: 0.8703 - val_loss: 1.8339 - val_sequence_span_accuracy: 0.8860\n",
      "Epoch 5/30\n",
      "25/25 [==============================] - 2s 97ms/step - loss: 0.8768 - sequence_span_accuracy: 0.8977 - val_loss: 1.8329 - val_sequence_span_accuracy: 0.9075\n",
      "Epoch 6/30\n",
      "25/25 [==============================] - 2s 97ms/step - loss: 0.6971 - sequence_span_accuracy: 0.9152 - val_loss: 1.7601 - val_sequence_span_accuracy: 0.9219\n",
      "Epoch 7/30\n",
      "25/25 [==============================] - 3s 101ms/step - loss: 0.5861 - sequence_span_accuracy: 0.9274 - val_loss: 1.8200 - val_sequence_span_accuracy: 0.9323\n",
      "Epoch 8/30\n",
      "25/25 [==============================] - 3s 115ms/step - loss: 0.5293 - sequence_span_accuracy: 0.9364 - val_loss: 1.7786 - val_sequence_span_accuracy: 0.9400\n",
      "Epoch 9/30\n",
      "25/25 [==============================] - 3s 103ms/step - loss: 0.4806 - sequence_span_accuracy: 0.9432 - val_loss: 1.8717 - val_sequence_span_accuracy: 0.9461\n",
      "Epoch 10/30\n",
      "25/25 [==============================] - 2s 100ms/step - loss: 0.4173 - sequence_span_accuracy: 0.9486 - val_loss: 2.1780 - val_sequence_span_accuracy: 0.9509\n",
      "Epoch 11/30\n",
      "25/25 [==============================] - 2s 95ms/step - loss: 0.3875 - sequence_span_accuracy: 0.9530 - val_loss: 2.0973 - val_sequence_span_accuracy: 0.9549\n",
      "Epoch 12/30\n",
      "25/25 [==============================] - 2s 96ms/step - loss: 0.3541 - sequence_span_accuracy: 0.9566 - val_loss: 2.0286 - val_sequence_span_accuracy: 0.9582\n"
     ]
    },
    {
     "name": "stdout",
     "output_type": "stream",
     "text": [
      "Epoch 13/30\n",
      "25/25 [==============================] - 2s 92ms/step - loss: 0.2854 - sequence_span_accuracy: 0.9597 - val_loss: 1.9585 - val_sequence_span_accuracy: 0.9611\n",
      "Epoch 14/30\n",
      "25/25 [==============================] - 3s 102ms/step - loss: 0.3002 - sequence_span_accuracy: 0.9624 - val_loss: 2.0588 - val_sequence_span_accuracy: 0.9635\n",
      "Epoch 15/30\n",
      "25/25 [==============================] - 2s 99ms/step - loss: 0.2928 - sequence_span_accuracy: 0.9646 - val_loss: 2.0798 - val_sequence_span_accuracy: 0.9656\n",
      "Epoch 16/30\n",
      "25/25 [==============================] - 2s 98ms/step - loss: 0.2529 - sequence_span_accuracy: 0.9666 - val_loss: 1.9770 - val_sequence_span_accuracy: 0.9675\n",
      "Epoch 17/30\n",
      "25/25 [==============================] - 2s 94ms/step - loss: 0.2456 - sequence_span_accuracy: 0.9684 - val_loss: 2.0245 - val_sequence_span_accuracy: 0.9692\n",
      "Epoch 18/30\n",
      "25/25 [==============================] - 2s 91ms/step - loss: 0.2431 - sequence_span_accuracy: 0.9699 - val_loss: 2.0353 - val_sequence_span_accuracy: 0.9706\n",
      "Epoch 19/30\n",
      "25/25 [==============================] - 2s 94ms/step - loss: 0.2265 - sequence_span_accuracy: 0.9713 - val_loss: 2.1176 - val_sequence_span_accuracy: 0.9720\n",
      "Epoch 20/30\n",
      "25/25 [==============================] - 2s 95ms/step - loss: 0.2100 - sequence_span_accuracy: 0.9726 - val_loss: 2.1022 - val_sequence_span_accuracy: 0.9732\n",
      "Epoch 21/30\n",
      "25/25 [==============================] - 3s 104ms/step - loss: 0.2085 - sequence_span_accuracy: 0.9737 - val_loss: 2.2636 - val_sequence_span_accuracy: 0.9742\n",
      "Epoch 22/30\n",
      "25/25 [==============================] - 2s 99ms/step - loss: 0.1996 - sequence_span_accuracy: 0.9747 - val_loss: 2.2397 - val_sequence_span_accuracy: 0.9752\n",
      "Epoch 23/30\n",
      "25/25 [==============================] - 3s 102ms/step - loss: 0.1561 - sequence_span_accuracy: 0.9757 - val_loss: 2.0544 - val_sequence_span_accuracy: 0.9761\n",
      "Epoch 24/30\n",
      "25/25 [==============================] - 2s 96ms/step - loss: 0.1460 - sequence_span_accuracy: 0.9765 - val_loss: 2.1405 - val_sequence_span_accuracy: 0.9769\n",
      "Epoch 25/30\n",
      "25/25 [==============================] - 2s 94ms/step - loss: 0.1393 - sequence_span_accuracy: 0.9774 - val_loss: 2.0678 - val_sequence_span_accuracy: 0.9777\n",
      "Epoch 26/30\n",
      "25/25 [==============================] - 2s 97ms/step - loss: 0.1598 - sequence_span_accuracy: 0.9781 - val_loss: 2.1758 - val_sequence_span_accuracy: 0.9784\n",
      "Epoch 27/30\n",
      "25/25 [==============================] - 3s 106ms/step - loss: 0.1679 - sequence_span_accuracy: 0.9788 - val_loss: 2.1296 - val_sequence_span_accuracy: 0.9791\n",
      "Epoch 28/30\n",
      "25/25 [==============================] - 3s 104ms/step - loss: 0.1240 - sequence_span_accuracy: 0.9794 - val_loss: 2.2671 - val_sequence_span_accuracy: 0.9797\n",
      "Epoch 29/30\n",
      "25/25 [==============================] - 2s 98ms/step - loss: 0.1189 - sequence_span_accuracy: 0.9800 - val_loss: 2.2134 - val_sequence_span_accuracy: 0.9803\n",
      "Epoch 30/30\n",
      "25/25 [==============================] - 2s 95ms/step - loss: 0.1012 - sequence_span_accuracy: 0.9806 - val_loss: 2.3771 - val_sequence_span_accuracy: 0.9808\n",
      "Score for fold 2: Accuracy of 97.57000000000001%; F1 score of 0.973\n",
      "------------------------------------------------------------------------\n",
      "Training for fold 3 ...\n",
      "Epoch 1/30\n",
      "<tf_crf_layer.layer.CRF object at 0x0000016BABBB8BE0> 0\n",
      "<tf_crf_layer.layer.CRF object at 0x0000016BABBB8BE0> 0\n",
      "25/25 [==============================] - ETA: 0s - loss: 23.2878 - sequence_span_accuracy: 0.6315<tf_crf_layer.layer.CRF object at 0x0000016BABBB8BE0> 0\n",
      "25/25 [==============================] - 12s 189ms/step - loss: 23.2878 - sequence_span_accuracy: 0.6315 - val_loss: 7.1363 - val_sequence_span_accuracy: 0.7543\n",
      "Epoch 2/30\n",
      "25/25 [==============================] - 3s 132ms/step - loss: 3.9658 - sequence_span_accuracy: 0.8221 - val_loss: 2.1810 - val_sequence_span_accuracy: 0.8654\n",
      "Epoch 3/30\n",
      "25/25 [==============================] - 3s 135ms/step - loss: 1.6172 - sequence_span_accuracy: 0.8896 - val_loss: 1.7878 - val_sequence_span_accuracy: 0.9070\n",
      "Epoch 4/30\n",
      "25/25 [==============================] - 3s 133ms/step - loss: 1.0792 - sequence_span_accuracy: 0.9188 - val_loss: 1.6109 - val_sequence_span_accuracy: 0.9283\n",
      "Epoch 5/30\n",
      "25/25 [==============================] - 4s 141ms/step - loss: 0.8516 - sequence_span_accuracy: 0.9353 - val_loss: 1.5807 - val_sequence_span_accuracy: 0.9412\n",
      "Epoch 6/30\n",
      "25/25 [==============================] - 3s 136ms/step - loss: 0.6480 - sequence_span_accuracy: 0.9460 - val_loss: 1.6061 - val_sequence_span_accuracy: 0.9500\n",
      "Epoch 7/30\n",
      "25/25 [==============================] - 3s 125ms/step - loss: 0.5720 - sequence_span_accuracy: 0.9534 - val_loss: 1.6796 - val_sequence_span_accuracy: 0.9564\n",
      "Epoch 8/30\n",
      "25/25 [==============================] - 3s 124ms/step - loss: 0.4840 - sequence_span_accuracy: 0.9589 - val_loss: 1.6581 - val_sequence_span_accuracy: 0.9612\n",
      "Epoch 9/30\n",
      "25/25 [==============================] - 3s 128ms/step - loss: 0.4127 - sequence_span_accuracy: 0.9632 - val_loss: 1.7613 - val_sequence_span_accuracy: 0.9649\n",
      "Epoch 10/30\n",
      "25/25 [==============================] - 3s 136ms/step - loss: 0.4137 - sequence_span_accuracy: 0.9665 - val_loss: 1.6987 - val_sequence_span_accuracy: 0.9679\n",
      "Epoch 11/30\n",
      "25/25 [==============================] - 3s 130ms/step - loss: 0.3768 - sequence_span_accuracy: 0.9692 - val_loss: 1.6754 - val_sequence_span_accuracy: 0.9704\n",
      "Epoch 12/30\n",
      "25/25 [==============================] - 3s 128ms/step - loss: 0.3191 - sequence_span_accuracy: 0.9714 - val_loss: 1.8009 - val_sequence_span_accuracy: 0.9724\n",
      "Epoch 13/30\n",
      "25/25 [==============================] - 3s 128ms/step - loss: 0.3242 - sequence_span_accuracy: 0.9733 - val_loss: 1.7637 - val_sequence_span_accuracy: 0.9741\n",
      "Epoch 14/30\n",
      "25/25 [==============================] - 3s 134ms/step - loss: 0.2436 - sequence_span_accuracy: 0.9750 - val_loss: 2.0382 - val_sequence_span_accuracy: 0.9757\n",
      "Epoch 15/30\n",
      "25/25 [==============================] - 3s 138ms/step - loss: 0.2608 - sequence_span_accuracy: 0.9764 - val_loss: 2.0428 - val_sequence_span_accuracy: 0.9770\n",
      "Epoch 16/30\n",
      "25/25 [==============================] - 3s 134ms/step - loss: 0.2210 - sequence_span_accuracy: 0.9776 - val_loss: 2.0804 - val_sequence_span_accuracy: 0.9782\n",
      "Epoch 17/30\n",
      "25/25 [==============================] - 3s 128ms/step - loss: 0.2101 - sequence_span_accuracy: 0.9787 - val_loss: 2.1054 - val_sequence_span_accuracy: 0.9792\n",
      "Epoch 18/30\n",
      "25/25 [==============================] - 3s 124ms/step - loss: 0.2075 - sequence_span_accuracy: 0.9797 - val_loss: 2.0880 - val_sequence_span_accuracy: 0.9801\n",
      "Epoch 19/30\n",
      "25/25 [==============================] - 3s 133ms/step - loss: 0.1852 - sequence_span_accuracy: 0.9805 - val_loss: 2.1678 - val_sequence_span_accuracy: 0.9809\n",
      "Epoch 20/30\n",
      "25/25 [==============================] - 3s 132ms/step - loss: 0.1545 - sequence_span_accuracy: 0.9813 - val_loss: 2.2103 - val_sequence_span_accuracy: 0.9816\n",
      "Epoch 21/30\n",
      "25/25 [==============================] - 3s 133ms/step - loss: 0.1530 - sequence_span_accuracy: 0.9820 - val_loss: 2.1511 - val_sequence_span_accuracy: 0.9823\n",
      "Epoch 22/30\n",
      "25/25 [==============================] - 3s 124ms/step - loss: 0.1295 - sequence_span_accuracy: 0.9827 - val_loss: 2.4305 - val_sequence_span_accuracy: 0.9829\n",
      "Epoch 23/30\n",
      "25/25 [==============================] - 3s 124ms/step - loss: 0.1438 - sequence_span_accuracy: 0.9832 - val_loss: 2.2524 - val_sequence_span_accuracy: 0.9835\n",
      "Epoch 24/30\n",
      "25/25 [==============================] - 3s 133ms/step - loss: 0.1307 - sequence_span_accuracy: 0.9838 - val_loss: 2.3750 - val_sequence_span_accuracy: 0.9840\n",
      "Epoch 25/30\n",
      "25/25 [==============================] - 3s 132ms/step - loss: 0.1160 - sequence_span_accuracy: 0.9843 - val_loss: 2.5023 - val_sequence_span_accuracy: 0.9845\n",
      "Epoch 26/30\n",
      "25/25 [==============================] - 3s 128ms/step - loss: 0.1067 - sequence_span_accuracy: 0.9847 - val_loss: 2.4927 - val_sequence_span_accuracy: 0.9849\n",
      "Epoch 27/30\n",
      "25/25 [==============================] - 3s 123ms/step - loss: 0.1080 - sequence_span_accuracy: 0.9851 - val_loss: 2.4620 - val_sequence_span_accuracy: 0.9853\n",
      "Epoch 28/30\n",
      "25/25 [==============================] - 3s 124ms/step - loss: 0.1118 - sequence_span_accuracy: 0.9855 - val_loss: 2.5339 - val_sequence_span_accuracy: 0.9857\n",
      "Epoch 29/30\n",
      "25/25 [==============================] - 3s 139ms/step - loss: 0.1005 - sequence_span_accuracy: 0.9859 - val_loss: 2.7902 - val_sequence_span_accuracy: 0.9861\n",
      "Epoch 30/30\n",
      "25/25 [==============================] - 3s 134ms/step - loss: 0.0842 - sequence_span_accuracy: 0.9862 - val_loss: 2.7994 - val_sequence_span_accuracy: 0.9864\n",
      "Score for fold 3: Accuracy of 97.42%; F1 score of 0.969\n",
      "------------------------------------------------------------------------\n",
      "Training for fold 4 ...\n",
      "Epoch 1/30\n",
      "<tf_crf_layer.layer.CRF object at 0x0000016B9BEFCE48> 0\n",
      "<tf_crf_layer.layer.CRF object at 0x0000016B9BEFCE48> 0\n",
      "25/25 [==============================] - ETA: 0s - loss: 29.5796 - sequence_span_accuracy: 0.5902<tf_crf_layer.layer.CRF object at 0x0000016B9BEFCE48> 0\n",
      "25/25 [==============================] - 12s 194ms/step - loss: 29.5796 - sequence_span_accuracy: 0.5902 - val_loss: 14.3990 - val_sequence_span_accuracy: 0.6902\n",
      "Epoch 2/30\n",
      "25/25 [==============================] - 4s 152ms/step - loss: 5.6896 - sequence_span_accuracy: 0.7692 - val_loss: 2.4916 - val_sequence_span_accuracy: 0.8259\n",
      "Epoch 3/30\n",
      "25/25 [==============================] - 3s 140ms/step - loss: 1.6266 - sequence_span_accuracy: 0.8580 - val_loss: 1.9666 - val_sequence_span_accuracy: 0.8810\n",
      "Epoch 4/30\n",
      "25/25 [==============================] - 3s 138ms/step - loss: 1.0348 - sequence_span_accuracy: 0.8967 - val_loss: 1.9821 - val_sequence_span_accuracy: 0.9091\n",
      "Epoch 5/30\n",
      "25/25 [==============================] - 4s 144ms/step - loss: 0.8426 - sequence_span_accuracy: 0.9183 - val_loss: 1.8472 - val_sequence_span_accuracy: 0.9259\n",
      "Epoch 6/30\n",
      "25/25 [==============================] - 4s 152ms/step - loss: 0.6947 - sequence_span_accuracy: 0.9320 - val_loss: 1.9161 - val_sequence_span_accuracy: 0.9372\n",
      "Epoch 7/30\n",
      "25/25 [==============================] - 4s 145ms/step - loss: 0.5968 - sequence_span_accuracy: 0.9415 - val_loss: 1.9297 - val_sequence_span_accuracy: 0.9453\n",
      "Epoch 8/30\n",
      "25/25 [==============================] - 4s 145ms/step - loss: 0.5166 - sequence_span_accuracy: 0.9485 - val_loss: 1.9948 - val_sequence_span_accuracy: 0.9514\n",
      "Epoch 9/30\n",
      "25/25 [==============================] - 4s 140ms/step - loss: 0.4467 - sequence_span_accuracy: 0.9539 - val_loss: 1.9940 - val_sequence_span_accuracy: 0.9562\n",
      "Epoch 10/30\n",
      "25/25 [==============================] - 4s 153ms/step - loss: 0.4162 - sequence_span_accuracy: 0.9582 - val_loss: 1.9920 - val_sequence_span_accuracy: 0.9601\n",
      "Epoch 11/30\n",
      "25/25 [==============================] - 4s 148ms/step - loss: 0.3795 - sequence_span_accuracy: 0.9617 - val_loss: 2.0517 - val_sequence_span_accuracy: 0.9632\n",
      "Epoch 12/30\n",
      "25/25 [==============================] - 4s 141ms/step - loss: 0.3615 - sequence_span_accuracy: 0.9646 - val_loss: 2.0057 - val_sequence_span_accuracy: 0.9659\n",
      "Epoch 13/30\n",
      "25/25 [==============================] - 3s 139ms/step - loss: 0.3140 - sequence_span_accuracy: 0.9671 - val_loss: 1.9900 - val_sequence_span_accuracy: 0.9682\n",
      "Epoch 14/30\n",
      "25/25 [==============================] - 4s 145ms/step - loss: 0.3050 - sequence_span_accuracy: 0.9692 - val_loss: 2.1269 - val_sequence_span_accuracy: 0.9701\n",
      "Epoch 15/30\n",
      "25/25 [==============================] - 4s 148ms/step - loss: 0.2804 - sequence_span_accuracy: 0.9710 - val_loss: 2.3081 - val_sequence_span_accuracy: 0.9718\n",
      "Epoch 16/30\n",
      "25/25 [==============================] - 4s 143ms/step - loss: 0.2597 - sequence_span_accuracy: 0.9726 - val_loss: 2.1154 - val_sequence_span_accuracy: 0.9733\n",
      "Epoch 17/30\n",
      "25/25 [==============================] - 3s 137ms/step - loss: 0.3202 - sequence_span_accuracy: 0.9739 - val_loss: 2.1570 - val_sequence_span_accuracy: 0.9746\n",
      "Epoch 18/30\n",
      "25/25 [==============================] - 3s 138ms/step - loss: 0.2446 - sequence_span_accuracy: 0.9752 - val_loss: 2.1141 - val_sequence_span_accuracy: 0.9757\n",
      "Epoch 19/30\n",
      "25/25 [==============================] - 4s 152ms/step - loss: 0.2484 - sequence_span_accuracy: 0.9763 - val_loss: 2.2018 - val_sequence_span_accuracy: 0.9768\n",
      "Epoch 20/30\n",
      "25/25 [==============================] - 4s 148ms/step - loss: 0.1919 - sequence_span_accuracy: 0.9773 - val_loss: 2.2601 - val_sequence_span_accuracy: 0.9777\n",
      "Epoch 21/30\n",
      "25/25 [==============================] - 3s 140ms/step - loss: 0.1724 - sequence_span_accuracy: 0.9782 - val_loss: 2.2102 - val_sequence_span_accuracy: 0.9786\n",
      "Epoch 22/30\n",
      "25/25 [==============================] - 4s 141ms/step - loss: 0.1592 - sequence_span_accuracy: 0.9790 - val_loss: 2.4081 - val_sequence_span_accuracy: 0.9794\n",
      "Epoch 23/30\n",
      "25/25 [==============================] - 4s 170ms/step - loss: 0.1773 - sequence_span_accuracy: 0.9798 - val_loss: 2.4214 - val_sequence_span_accuracy: 0.9801\n",
      "Epoch 24/30\n",
      "25/25 [==============================] - 4s 153ms/step - loss: 0.1440 - sequence_span_accuracy: 0.9805 - val_loss: 2.3307 - val_sequence_span_accuracy: 0.9808\n",
      "Epoch 25/30\n",
      "25/25 [==============================] - 4s 153ms/step - loss: 0.1463 - sequence_span_accuracy: 0.9811 - val_loss: 2.3241 - val_sequence_span_accuracy: 0.9815\n",
      "Epoch 26/30\n",
      "25/25 [==============================] - 4s 151ms/step - loss: 0.1541 - sequence_span_accuracy: 0.9817 - val_loss: 2.3488 - val_sequence_span_accuracy: 0.9820\n",
      "Epoch 27/30\n",
      "25/25 [==============================] - 4s 152ms/step - loss: 0.1575 - sequence_span_accuracy: 0.9823 - val_loss: 2.4015 - val_sequence_span_accuracy: 0.9826\n",
      "Epoch 28/30\n",
      "25/25 [==============================] - 4s 151ms/step - loss: 0.1168 - sequence_span_accuracy: 0.9828 - val_loss: 2.3481 - val_sequence_span_accuracy: 0.9831\n",
      "Epoch 29/30\n",
      "25/25 [==============================] - 4s 144ms/step - loss: 0.1222 - sequence_span_accuracy: 0.9833 - val_loss: 2.3667 - val_sequence_span_accuracy: 0.9835\n",
      "Epoch 30/30\n",
      "25/25 [==============================] - 3s 138ms/step - loss: 0.1220 - sequence_span_accuracy: 0.9837 - val_loss: 2.3367 - val_sequence_span_accuracy: 0.9840\n",
      "Score for fold 4: Accuracy of 97.92999999999999%; F1 score of 0.975\n",
      "------------------------------------------------------------------------\n",
      "Training for fold 5 ...\n",
      "Epoch 1/30\n",
      "<tf_crf_layer.layer.CRF object at 0x0000016BBC1458D0> 0\n",
      "<tf_crf_layer.layer.CRF object at 0x0000016BBC1458D0> 0\n",
      "25/25 [==============================] - ETA: 0s - loss: 26.2581 - sequence_span_accuracy: 0.5766<tf_crf_layer.layer.CRF object at 0x0000016BBC1458D0> 0\n",
      "25/25 [==============================] - 12s 182ms/step - loss: 26.2581 - sequence_span_accuracy: 0.5766 - val_loss: 9.8683 - val_sequence_span_accuracy: 0.7068\n",
      "Epoch 2/30\n",
      "25/25 [==============================] - 3s 133ms/step - loss: 4.2986 - sequence_span_accuracy: 0.7876 - val_loss: 1.8770 - val_sequence_span_accuracy: 0.8402\n",
      "Epoch 3/30\n",
      "25/25 [==============================] - 3s 135ms/step - loss: 1.5986 - sequence_span_accuracy: 0.8695 - val_loss: 1.3334 - val_sequence_span_accuracy: 0.8906\n",
      "Epoch 4/30\n",
      "25/25 [==============================] - 4s 148ms/step - loss: 1.0227 - sequence_span_accuracy: 0.9050 - val_loss: 1.2510 - val_sequence_span_accuracy: 0.9164\n",
      "Epoch 5/30\n",
      "25/25 [==============================] - 3s 138ms/step - loss: 0.8165 - sequence_span_accuracy: 0.9248 - val_loss: 1.2321 - val_sequence_span_accuracy: 0.9319\n",
      "Epoch 6/30\n",
      "25/25 [==============================] - 3s 133ms/step - loss: 0.6511 - sequence_span_accuracy: 0.9376 - val_loss: 1.2549 - val_sequence_span_accuracy: 0.9424\n",
      "Epoch 7/30\n",
      "25/25 [==============================] - 3s 131ms/step - loss: 0.5630 - sequence_span_accuracy: 0.9464 - val_loss: 1.3408 - val_sequence_span_accuracy: 0.9498\n",
      "Epoch 8/30\n",
      "25/25 [==============================] - 4s 143ms/step - loss: 0.5072 - sequence_span_accuracy: 0.9528 - val_loss: 1.3540 - val_sequence_span_accuracy: 0.9555\n",
      "Epoch 9/30\n",
      "25/25 [==============================] - 3s 140ms/step - loss: 0.4381 - sequence_span_accuracy: 0.9578 - val_loss: 1.3709 - val_sequence_span_accuracy: 0.9599\n",
      "Epoch 10/30\n",
      "25/25 [==============================] - 3s 136ms/step - loss: 0.4060 - sequence_span_accuracy: 0.9618 - val_loss: 1.3874 - val_sequence_span_accuracy: 0.9635\n",
      "Epoch 11/30\n"
     ]
    },
    {
     "name": "stdout",
     "output_type": "stream",
     "text": [
      "25/25 [==============================] - 3s 131ms/step - loss: 0.3828 - sequence_span_accuracy: 0.9650 - val_loss: 1.3874 - val_sequence_span_accuracy: 0.9663\n",
      "Epoch 12/30\n",
      "25/25 [==============================] - 3s 131ms/step - loss: 0.3595 - sequence_span_accuracy: 0.9676 - val_loss: 1.4062 - val_sequence_span_accuracy: 0.9688\n",
      "Epoch 13/30\n",
      "25/25 [==============================] - 4s 144ms/step - loss: 0.3315 - sequence_span_accuracy: 0.9699 - val_loss: 1.5614 - val_sequence_span_accuracy: 0.9708\n",
      "Epoch 14/30\n",
      "25/25 [==============================] - 4s 142ms/step - loss: 0.2967 - sequence_span_accuracy: 0.9718 - val_loss: 1.3743 - val_sequence_span_accuracy: 0.9726\n",
      "Epoch 15/30\n",
      "25/25 [==============================] - 3s 134ms/step - loss: 0.2781 - sequence_span_accuracy: 0.9734 - val_loss: 1.4145 - val_sequence_span_accuracy: 0.9742\n",
      "Epoch 16/30\n",
      "25/25 [==============================] - 3s 131ms/step - loss: 0.3187 - sequence_span_accuracy: 0.9749 - val_loss: 1.5051 - val_sequence_span_accuracy: 0.9755\n",
      "Epoch 17/30\n",
      "25/25 [==============================] - 3s 135ms/step - loss: 0.2739 - sequence_span_accuracy: 0.9762 - val_loss: 1.4542 - val_sequence_span_accuracy: 0.9768\n",
      "Epoch 18/30\n",
      "25/25 [==============================] - 4s 144ms/step - loss: 0.2709 - sequence_span_accuracy: 0.9773 - val_loss: 1.5072 - val_sequence_span_accuracy: 0.9778\n",
      "Epoch 19/30\n",
      "25/25 [==============================] - 3s 138ms/step - loss: 0.2048 - sequence_span_accuracy: 0.9783 - val_loss: 1.5025 - val_sequence_span_accuracy: 0.9788\n",
      "Epoch 20/30\n",
      "25/25 [==============================] - 3s 138ms/step - loss: 0.2055 - sequence_span_accuracy: 0.9793 - val_loss: 1.5202 - val_sequence_span_accuracy: 0.9797\n",
      "Epoch 21/30\n",
      "25/25 [==============================] - 3s 132ms/step - loss: 0.1887 - sequence_span_accuracy: 0.9801 - val_loss: 1.4838 - val_sequence_span_accuracy: 0.9805\n",
      "Epoch 22/30\n",
      "25/25 [==============================] - 4s 141ms/step - loss: 0.1615 - sequence_span_accuracy: 0.9809 - val_loss: 1.4744 - val_sequence_span_accuracy: 0.9812\n",
      "Epoch 23/30\n",
      "25/25 [==============================] - 4s 141ms/step - loss: 0.1278 - sequence_span_accuracy: 0.9816 - val_loss: 1.5394 - val_sequence_span_accuracy: 0.9819\n",
      "Epoch 24/30\n",
      "25/25 [==============================] - 3s 139ms/step - loss: 0.1459 - sequence_span_accuracy: 0.9823 - val_loss: 1.6336 - val_sequence_span_accuracy: 0.9825\n",
      "Epoch 25/30\n",
      "25/25 [==============================] - 3s 132ms/step - loss: 0.1254 - sequence_span_accuracy: 0.9828 - val_loss: 1.6159 - val_sequence_span_accuracy: 0.9831\n",
      "Epoch 26/30\n",
      "25/25 [==============================] - 3s 132ms/step - loss: 0.1418 - sequence_span_accuracy: 0.9834 - val_loss: 1.6176 - val_sequence_span_accuracy: 0.9837\n",
      "Epoch 27/30\n",
      "25/25 [==============================] - 4s 145ms/step - loss: 0.1111 - sequence_span_accuracy: 0.9839 - val_loss: 1.6401 - val_sequence_span_accuracy: 0.9842\n",
      "Epoch 28/30\n",
      "25/25 [==============================] - 4s 140ms/step - loss: 0.0973 - sequence_span_accuracy: 0.9844 - val_loss: 1.6649 - val_sequence_span_accuracy: 0.9847\n",
      "Epoch 29/30\n",
      "25/25 [==============================] - 3s 133ms/step - loss: 0.1155 - sequence_span_accuracy: 0.9849 - val_loss: 1.8156 - val_sequence_span_accuracy: 0.9851\n",
      "Epoch 30/30\n",
      "25/25 [==============================] - 3s 134ms/step - loss: 0.1050 - sequence_span_accuracy: 0.9853 - val_loss: 1.7730 - val_sequence_span_accuracy: 0.9855\n",
      "Score for fold 5: Accuracy of 98.55000000000001%; F1 score of 0.985\n",
      "------------------------------------------------------------------------\n",
      "Score per fold\n",
      "------------------------------------------------------------------------\n",
      "> Fold 1 - Accuracy: 98.27% - F1 score: 0.978\n",
      "------------------------------------------------------------------------\n",
      "> Fold 2 - Accuracy: 97.57000000000001% - F1 score: 0.973\n",
      "------------------------------------------------------------------------\n",
      "> Fold 3 - Accuracy: 97.42% - F1 score: 0.969\n",
      "------------------------------------------------------------------------\n",
      "> Fold 4 - Accuracy: 97.92999999999999% - F1 score: 0.975\n",
      "------------------------------------------------------------------------\n",
      "> Fold 5 - Accuracy: 98.55000000000001% - F1 score: 0.985\n",
      "------------------------------------------------------------------------\n",
      "Average scores for all folds:\n",
      "> Accuracy: 97.94800000000001 (+- 0.421)\n",
      "> F1: 0.976\n",
      "------------------------------------------------------------------------\n"
     ]
    }
   ],
   "source": [
    "from sklearn.model_selection import KFold\n",
    "from sklearn.metrics import accuracy_score, f1_score\n",
    "\n",
    "# 5 folds\n",
    "n_folds = 5\n",
    "\n",
    "acc_per_fold = []\n",
    "f1_per_fold = []\n",
    "\n",
    "#Se concatenan las particiones creadas anteriormente (luego se emplearán para las mejores hipótesis)\n",
    "word_inputs = np.concatenate((X_word_tr, X_word_te), axis=0)\n",
    "char_inputs = np.concatenate((X_char_tr, X_char_te), axis=0)\n",
    "targets = np.concatenate((y_tr, y_te), axis=0)\n",
    "\n",
    "kfold = KFold(n_splits=n_folds, shuffle=True)\n",
    "\n",
    "fold_no = 1\n",
    "for train, test in kfold.split(word_inputs, char_inputs,targets):\n",
    "    \n",
    "    #DEFINICIÓN DE LA RED NEURONAL \n",
    "    \n",
    "    #Se toman las secuencias de palabras como primera entrada y se aprenden sus embeddings o representaciones distribuidas\n",
    "    word_in = Input(shape=(max_len,))\n",
    "    emb_word = Embedding(input_dim=n_words + 2, output_dim=20,\n",
    "                         input_length=max_len, mask_zero=True,  name='word_embeddings')(word_in)\n",
    "\n",
    "    #Se toman las matrices de caracteres de palabras como segunda entrada y se aprenden los embeddings\n",
    "    char_in = Input(shape=(max_len, max_len_char,))\n",
    "    emb_char = TimeDistributed(Embedding(input_dim=n_chars + 2, output_dim=10,\n",
    "                               input_length=max_len_char, mask_zero=True, name='char_embeddings'))(char_in)\n",
    "    \n",
    "    # LSTM a nivel de carácter para codificar las palabras\n",
    "    char_enc = TimeDistributed(LSTM(units=20, return_sequences=False,\n",
    "                                    recurrent_dropout=0.3, name='char_LSTM'))(emb_char)\n",
    "\n",
    "    # Codifiador de contexto tomando las embeddings de palabras y las representaciones de sus caracteres.\n",
    "    x = concatenate([emb_word, char_enc])\n",
    "    x = SpatialDropout1D(0.3)(x)    #Dropout para reducir sobreajuste \n",
    "    \n",
    "    main_lstm = Bidirectional(LSTM(units=50, return_sequences=True,\n",
    "                                   recurrent_dropout=0.3, name='bi-lstm'))(x)\n",
    "    #out = TimeDistributed(Dense(n_tags, activation=\"softmax\"))(main_lstm)\n",
    "\n",
    "    #Capa CRF para decodificar las etiquetas\n",
    "    out = CRF(n_tags, name=\"crf_layer\")(main_lstm)\n",
    "\n",
    "\n",
    "    model = Model([word_in, char_in], out)\n",
    "\n",
    "    #Función de pérdida, optimizador y métrica a monitorizar\n",
    "    crf_loss_instance = ConditionalRandomFieldLoss() \n",
    "    optimizer = tf.keras.optimizers.Adam(0.01)\n",
    "    model.compile(optimizer=optimizer, loss={\"crf_layer\": crf_loss_instance}, metrics=[SequenceSpanAccuracy()])\n",
    "\n",
    "\n",
    "    \n",
    "    #ENTRENAMIENTO DEL MODELO \n",
    "    print('------------------------------------------------------------------------')\n",
    "    print(f'Training for fold {fold_no} ...')\n",
    "    \n",
    "    history = model.fit([word_inputs[train],\n",
    "                        char_inputs[train].reshape((len(char_inputs[train]), max_len, max_len_char))], \n",
    "                      targets[train].reshape(len(targets[train]), max_len, 1),\n",
    "                      batch_size=32,\n",
    "                      epochs= 30,\n",
    "                      validation_data= ([word_inputs[test],\n",
    "                                char_inputs[test].reshape((len(char_inputs[test]), max_len, max_len_char))], \n",
    "                                targets[test].reshape(len(targets[test]), max_len, 1)),\n",
    "                      verbose=1)\n",
    "\n",
    "    #Predicciones del modelo con la partición de validación\n",
    "    pred = model.predict([word_inputs[test], \n",
    "                         char_inputs[test].reshape((len(char_inputs[test]),\n",
    "                                                     max_len, max_len_char))])\n",
    "    \n",
    "    \n",
    "    #Se combinan todas las predicciones en cada fold\n",
    "    if fold_no != 1:\n",
    "        total_records = np.concatenate((total_records,word_inputs[test]), axis = 0)\n",
    "        total_preds = np.concatenate((total_preds,pred), axis = 0)\n",
    "        total_labels = np.concatenate((total_labels,targets[test]), axis = 0)\n",
    "    \n",
    "    else:\n",
    "        total_records = word_inputs[test]\n",
    "        total_preds = pred\n",
    "        total_labels = targets[test]\n",
    "        \n",
    "    #Ignoramos las predicciones y etiquetas de las palabras de relleno\n",
    "    pred_labels = number_2_label_unmasked(pred,word_inputs[test],idx2tag)\n",
    "    test_labels = number_2_label_unmasked(targets[test],word_inputs[test],idx2tag)\n",
    "\n",
    "    \n",
    "    pred_list = [p for p_i in pred_labels for p in p_i]\n",
    "    test_list = [p for p_i in test_labels for p in p_i]\n",
    "\n",
    "    #Medimos la accuracy y f1 final. Los almacenamos para luego hacer un promedio\n",
    "    acc = accuracy_score(test_list,pred_list)\n",
    "    f1 = f1_score(test_list,pred_list, average = 'macro')\n",
    "    print(f'Score for fold {fold_no}: Accuracy of {round(acc,4) * 100}%; F1 score of {round(f1,3)}')\n",
    "    acc_per_fold.append(round(acc,4) * 100)\n",
    "    f1_per_fold.append(round(f1,3))\n",
    "    \n",
    "    fold_no = fold_no + 1\n",
    "    \n",
    "    \n",
    "#RESULTADOS FINALES   \n",
    "print('------------------------------------------------------------------------')\n",
    "print('Score per fold')\n",
    "for i in range(0, len(acc_per_fold)):\n",
    "    print('------------------------------------------------------------------------')\n",
    "    print(f'> Fold {i+1} - Accuracy: {acc_per_fold[i]}% - F1 score: {f1_per_fold[i]}')\n",
    "print('------------------------------------------------------------------------')\n",
    "print('Average scores for all folds:')\n",
    "print(f'> Accuracy: {np.mean(acc_per_fold)}% (+- {round(np.std(acc_per_fold),3)})')\n",
    "print(f'> F1: {np.mean(f1_per_fold)}')\n",
    "print('------------------------------------------------------------------------')\n",
    "\n",
    "    "
   ]
  },
  {
   "cell_type": "markdown",
   "metadata": {},
   "source": [
    "Con todas las predicciones reunidas de cada registro, mostramos los resultados con las métricas del informe de clasificación de `sklearn`. "
   ]
  },
  {
   "cell_type": "code",
   "execution_count": 19,
   "metadata": {},
   "outputs": [
    {
     "name": "stdout",
     "output_type": "stream",
     "text": [
      "              precision    recall  f1-score   support\n",
      "\n",
      "    location     0.9580    0.9676    0.9628      4507\n",
      "        name     0.9905    0.9856    0.9881      4992\n",
      "  occupation     0.9877    0.9584    0.9728      3008\n",
      "       other     0.9842    0.9868    0.9855     15132\n",
      "       state     0.9709    0.9939    0.9823      1142\n",
      "     surname     0.9639    0.9642    0.9641      2657\n",
      "\n",
      "    accuracy                         0.9795     31438\n",
      "   macro avg     0.9759    0.9761    0.9759     31438\n",
      "weighted avg     0.9796    0.9795    0.9795     31438\n",
      "\n"
     ]
    }
   ],
   "source": [
    "from sklearn.metrics import classification_report\n",
    "\n",
    "idx2tag = {i:w for w, i in tag2idx.items()}\n",
    "\n",
    "pred_labels = number_2_label_unmasked(total_preds, total_records, idx2tag)\n",
    "test_labels = number_2_label_unmasked(total_labels, total_records, idx2tag)\n",
    "\n",
    "pred_list = [p for p_i in pred_labels for p in p_i]\n",
    "test_list = [p for p_i in test_labels for p in p_i]\n",
    "\n",
    "print(classification_report(test_list,pred_list, digits = 3))"
   ]
  },
  {
   "cell_type": "markdown",
   "metadata": {},
   "source": [
    "Creamos el mismo modelo para predecir las etiquetas en las mejores hipótesis."
   ]
  },
  {
   "cell_type": "code",
   "execution_count": 18,
   "metadata": {},
   "outputs": [
    {
     "name": "stdout",
     "output_type": "stream",
     "text": [
      "WARNING:tensorflow:From C:\\Users\\Jose Giner\\Anaconda3\\lib\\site-packages\\tensorflow\\python\\autograph\\impl\\api.py:458: dynamic_rnn (from tensorflow.python.ops.rnn) is deprecated and will be removed in a future version.\n",
      "Instructions for updating:\n",
      "Please use `keras.layers.RNN(cell)`, which is equivalent to this API\n",
      "Model: \"model\"\n",
      "__________________________________________________________________________________________________\n",
      " Layer (type)                   Output Shape         Param #     Connected to                     \n",
      "==================================================================================================\n",
      " input_2 (InputLayer)           [(None, 50, 10)]     0           []                               \n",
      "                                                                                                  \n",
      " input_1 (InputLayer)           [(None, 50)]         0           []                               \n",
      "                                                                                                  \n",
      " time_distributed (TimeDistribu  (None, 50, 10, 10)  620         ['input_2[0][0]']                \n",
      " ted)                                                                                             \n",
      "                                                                                                  \n",
      " word_embeddings (Embedding)    (None, 50, 20)       48640       ['input_1[0][0]']                \n",
      "                                                                                                  \n",
      " time_distributed_1 (TimeDistri  (None, 50, 20)      2480        ['time_distributed[0][0]']       \n",
      " buted)                                                                                           \n",
      "                                                                                                  \n",
      " concatenate (Concatenate)      (None, 50, 40)       0           ['word_embeddings[0][0]',        \n",
      "                                                                  'time_distributed_1[0][0]']     \n",
      "                                                                                                  \n",
      " spatial_dropout1d (SpatialDrop  (None, 50, 40)      0           ['concatenate[0][0]']            \n",
      " out1D)                                                                                           \n",
      "                                                                                                  \n",
      " bidirectional (Bidirectional)  (None, 50, 100)      36400       ['spatial_dropout1d[0][0]']      \n",
      "                                                                                                  \n",
      " crf_layer (CRF)                (None, 50)           654         ['bidirectional[0][0]']          \n",
      "                                                                                                  \n",
      "==================================================================================================\n",
      "Total params: 88,794\n",
      "Trainable params: 88,794\n",
      "Non-trainable params: 0\n",
      "__________________________________________________________________________________________________\n"
     ]
    }
   ],
   "source": [
    "# embeddings de palabras\n",
    "word_in = Input(shape=(max_len,))\n",
    "emb_word = Embedding(input_dim=n_words + 2, output_dim=20,\n",
    "                     input_length=max_len, mask_zero=True,  name='word_embeddings')(word_in)\n",
    "\n",
    "# embeddings de caracteres\n",
    "char_in = Input(shape=(max_len, max_len_char,))\n",
    "emb_char = TimeDistributed(Embedding(input_dim=n_chars + 2, output_dim=10,\n",
    "                           input_length=max_len_char, mask_zero=True, name='char_embeddings'))(char_in)\n",
    "\n",
    "# LSTM que codifica caracteres de palabras\n",
    "char_enc = TimeDistributed(LSTM(units=20, return_sequences=False,\n",
    "                                recurrent_dropout=0.3))(emb_char)\n",
    "\n",
    "# Bi-LSTM - codificador de contexto\n",
    "x = concatenate([emb_word, char_enc])\n",
    "x = SpatialDropout1D(0.3)(x)\n",
    "main_lstm = Bidirectional(LSTM(units=50, return_sequences=True,\n",
    "                               recurrent_dropout=0.3))(x)\n",
    "#out = TimeDistributed(Dense(n_tags, activation=\"softmax\"))(main_lstm)\n",
    "\n",
    "#Capa CRF para decodificar las etiquetas\n",
    "out = CRF(n_tags, name=\"crf_layer\")(main_lstm)\n",
    "\n",
    "\n",
    "model = Model([word_in, char_in], out)\n",
    "\n",
    "crf_loss_instance = ConditionalRandomFieldLoss() \n",
    "optimizer = tf.keras.optimizers.Adam(0.01)\n",
    "model.compile(optimizer=optimizer, loss={\"crf_layer\": crf_loss_instance}, metrics=[SequenceSpanAccuracy()])\n",
    "\n",
    "model.summary()"
   ]
  },
  {
   "cell_type": "markdown",
   "metadata": {},
   "source": [
    "Las particiones originales de entrenamiento y test se utilizan para esta ocasión y se ilustra la evolución en el aprendizaje en la función de pérdida y tasa de acierto. El entrenamiento se divide en un conjunto de validación del 20%. Importante recordar que no se están evaluando todavía las mejores hipótesis. Esto es simplemente para comprobar como se comporta el modelo con los registros originales."
   ]
  },
  {
   "cell_type": "code",
   "execution_count": 19,
   "metadata": {},
   "outputs": [
    {
     "data": {
      "image/png": "[encoded data removed]",
      "text/plain": [
       "<Figure size 864x576 with 2 Axes>"
      ]
     },
     "metadata": {
      "needs_background": "light"
     },
     "output_type": "display_data"
    },
    {
     "name": "stdout",
     "output_type": "stream",
     "text": [
      "Loss\n",
      "\ttraining         \t (min:    0.104, max:   31.007, cur:    0.104)\n",
      "\tvalidation       \t (min:    2.423, max:   23.761, cur:    3.053)\n",
      "sequence_span_accuracy\n",
      "\ttraining         \t (min:    0.571, max:    0.978, cur:    0.978)\n",
      "\tvalidation       \t (min:    0.655, max:    0.979, cur:    0.979)\n",
      "\b\b\b\b\b\b\b\b\b\b\b\b\b\b\b\b\b\b\b\b\b\b\b\b\b\b\b\b\b\b\b\b\b\b\b\b\b\b\b\b\b\b\b\b\b\b\b\b\b\b\b\b\b\b\b\b\b\b\b\b\b\b\b\b\b\b\b\b\b\b\b\b\b\b\b\b\b\b\b\b\b\b\b\b\b\b\b\b\b\b\b\b\b\b\b\b\r",
      "20/20 [==============================] - 2s 99ms/step - loss: 0.1036 - sequence_span_accuracy: 0.9783 - val_loss: 3.0532 - val_sequence_span_accuracy: 0.9786\n"
     ]
    },
    {
     "data": {
      "text/plain": [
       "<keras.callbacks.History at 0x24ab0980780>"
      ]
     },
     "execution_count": 19,
     "metadata": {},
     "output_type": "execute_result"
    }
   ],
   "source": [
    "from livelossplot.tf_keras import PlotLossesCallback\n",
    "from tensorflow.keras.callbacks import ModelCheckpoint\n",
    "\n",
    "plot_loss_1 = PlotLossesCallback()\n",
    "\n",
    "\n",
    "model.fit([X_word_tr,\n",
    "                     np.array(X_char_tr).reshape((len(X_char_tr), max_len, max_len_char))],\n",
    "                    np.array(y_tr).reshape(len(y_tr), max_len, 1),\n",
    "                    batch_size=32, epochs=30, validation_split=0.2 ,callbacks=[plot_loss_1],verbose=1)"
   ]
  },
  {
   "cell_type": "markdown",
   "metadata": {},
   "source": [
    "Se mide su rendimiento en el conjunto de test."
   ]
  },
  {
   "cell_type": "code",
   "execution_count": 20,
   "metadata": {},
   "outputs": [],
   "source": [
    "y_pred = model.predict([X_word_te,\n",
    "                        np.array(X_char_te).reshape((len(X_char_te),\n",
    "                                                     max_len, max_len_char))])"
   ]
  },
  {
   "cell_type": "code",
   "execution_count": 21,
   "metadata": {},
   "outputs": [
    {
     "name": "stdout",
     "output_type": "stream",
     "text": [
      "              precision    recall  f1-score   support\n",
      "\n",
      "    location      0.968     0.947     0.957       921\n",
      "        name      0.993     0.982     0.988      1012\n",
      "  occupation      0.983     0.977     0.980       606\n",
      "       other      0.983     0.990     0.986      3071\n",
      "       state      0.982     0.987     0.985       227\n",
      "     surname      0.961     0.981     0.971       521\n",
      "\n",
      "    accuracy                          0.980      6358\n",
      "   macro avg      0.978     0.977     0.978      6358\n",
      "weighted avg      0.980     0.980     0.980      6358\n",
      "\n"
     ]
    }
   ],
   "source": [
    "from sklearn.metrics import classification_report\n",
    "\n",
    "idx2tag = {i:w for w, i in tag2idx.items()}\n",
    "\n",
    "\n",
    "\n",
    "pred_labels = number_2_label_unmasked(y_pred, X_word_te, idx2tag)\n",
    "test_labels = number_2_label_unmasked(y_te, X_word_te, idx2tag)\n",
    "\n",
    "pred_list = [p for p_i in pred_labels for p in p_i]\n",
    "test_list = [p for p_i in test_labels for p in p_i]\n",
    "\n",
    "print(classification_report(test_list,pred_list, digits = 3))"
   ]
  },
  {
   "cell_type": "markdown",
   "metadata": {},
   "source": [
    "Los resultados son parecidos a los de la validación cruzada pero estos son representan a un 20% del total de registros. Mostramos un ejemplo de predicción de etiquetas para un registro aleatorio del conjunto de test junto a las etiquetas reales."
   ]
  },
  {
   "cell_type": "code",
   "execution_count": 36,
   "metadata": {},
   "outputs": [
    {
     "name": "stdout",
     "output_type": "stream",
     "text": [
      "Word           ||True           ||Pred\n",
      "======================================================================\n",
      "Dimecres       : other           other\n",
      "a              : other           other\n",
      "31             : other           other\n",
      "rebere         : other           other\n",
      "de             : other           other\n",
      "Miquel         : name            name\n",
      "Galcera        : surname         surname\n",
      "pages          : occupation      occupation\n",
      "de             : other           other\n",
      "Aulesa         : location        location\n",
      "de             : location        location\n",
      "Montse         : location        location\n",
      "rat            : location        location\n",
      "fill           : other           other\n",
      "de             : other           other\n",
      "Antich         : name            name\n",
      "Galcera        : surname         surname\n",
      "pages          : occupation      occupation\n",
      "y              : other           other\n",
      "de             : other           other\n",
      "Margarida      : name            name\n",
      "defuncts       : other           other\n",
      "ab             : other           other\n",
      "Margarida      : name            name\n",
      "donsella       : state           state\n",
      "filla          : other           other\n",
      "de             : other           other\n",
      "Montserrat     : name            name\n",
      "Aymerich       : surname         surname\n",
      "parayre        : occupation      occupation\n",
      "y              : other           other\n",
      "de             : other           other\n",
      "t              : name            name\n",
      "defuncta       : other           other\n",
      "tots           : other           location\n",
      "de             : other           location\n",
      "dita           : location        location\n",
      "parrochia      : location        location\n"
     ]
    }
   ],
   "source": [
    "import random\n",
    "\n",
    "idx2word = {i:w for w,i in word2idx.items()}\n",
    "i = random.randint(0,len(y_pred))\n",
    "\n",
    "\n",
    "print(\"{:15}||{:15}||{}\".format(\"Word\", \"True\", \"Pred\"))\n",
    "print(70 * \"=\")\n",
    "for w, t, pred in zip(X_word_te[i], y_te[i], y_pred[i]):\n",
    "    if w != 0:\n",
    "        print(\"{:15}: {:15} {}\".format(idx2word[w], idx2tag[t], idx2tag[pred]))"
   ]
  },
  {
   "cell_type": "markdown",
   "metadata": {},
   "source": [
    "### NER con las 1-best o mejores hipótesis generadas por cada registro"
   ]
  },
  {
   "cell_type": "markdown",
   "metadata": {},
   "source": [
    "Ahora se leen las mejores hipótesis ubicadas en un fichero independiente al de los registros originales. Para seleccionar las transcripciones coincidentes con los registros originales, se guardan los números de páginas. "
   ]
  },
  {
   "cell_type": "code",
   "execution_count": 12,
   "metadata": {},
   "outputs": [],
   "source": [
    "pags_true_records = set()\n",
    "for r in filepath_records:\n",
    "    m = re.search('idPage(\\d+)', r)\n",
    "    pags_true_records.add(m.group(1))"
   ]
  },
  {
   "cell_type": "code",
   "execution_count": 13,
   "metadata": {},
   "outputs": [],
   "source": [
    "unobest_file = 'C:\\\\Users\\\\Jose Giner\\\\OneDrive\\\\Escritorio\\\\TFG\\\\Esposalles-1-b\\\\Esposalles-best_hypothesis.txt'\n",
    "\n",
    "with open(unobest_file) as f:\n",
    "    best_rec = []\n",
    "    for line in f:\n",
    "        line = line.split()\n",
    "        pagina = int(line[0][-6:-3])\n",
    "        if str(pagina + 10353) in pags_true_records:\n",
    "            best_rec.append(line[1:])\n"
   ]
  },
  {
   "cell_type": "markdown",
   "metadata": {},
   "source": [
    "Comprobamos que se tiene la misma cantidad de registros. "
   ]
  },
  {
   "cell_type": "code",
   "execution_count": 14,
   "metadata": {},
   "outputs": [
    {
     "data": {
      "text/plain": [
       "True"
      ]
     },
     "execution_count": 14,
     "metadata": {},
     "output_type": "execute_result"
    }
   ],
   "source": [
    "len(best_rec) == len(records)"
   ]
  },
  {
   "cell_type": "markdown",
   "metadata": {},
   "source": [
    "Creamos un diccionario con las frecuencias de los nuevos términos generados."
   ]
  },
  {
   "cell_type": "code",
   "execution_count": 24,
   "metadata": {},
   "outputs": [
    {
     "name": "stdout",
     "output_type": "stream",
     "text": [
      "1) de : 6382\n",
      "2) y : 1367\n",
      "3) pages : 977\n",
      "4) ab : 966\n",
      "5) - : 959\n",
      "6) rebere$ : 925\n",
      "7) . : 889\n",
      "8) Bar^(a). : 723\n",
      "9) filla : 721\n",
      "10) donsella : 656\n"
     ]
    }
   ],
   "source": [
    "dic_counts_best = {}\n",
    "for r in best_rec:\n",
    "    for word in r:\n",
    "        dic_counts_best[word] = 1 + dic_counts_best.get(word,0)\n",
    "\n",
    "dic_decr_best = dict(sorted(dic_counts_best.items(), key = lambda x: x[1], reverse = True))\n",
    "\n",
    "c = 1\n",
    "for k,v in dic_decr_best.items():\n",
    "    if c <= 10:\n",
    "        print('{}) {} : {}'.format(str(c),k,str(v)))\n",
    "    else:\n",
    "        break\n",
    "    c += 1"
   ]
  },
  {
   "cell_type": "markdown",
   "metadata": {},
   "source": [
    "Algunas de las palabras coinciden con las de antes, pero lo que más llama la atención es la alta presencia de símbolos como el guión ('-') y el punto ('.') en las transcripciones. También vemos modificaciones en ciertos términos que pueden estar causadas por problemas de codificación como 'Bara' pasando a 'Bar^(a)' y 'rebere' convirtiendose en 'rebere$'."
   ]
  },
  {
   "cell_type": "code",
   "execution_count": 25,
   "metadata": {},
   "outputs": [
    {
     "name": "stdout",
     "output_type": "stream",
     "text": [
      "Tamaño del vocabulario: 1847\n"
     ]
    }
   ],
   "source": [
    "vocab_size = len(dic_counts_best.keys())\n",
    "print(\"Tamaño del vocabulario:\",vocab_size)"
   ]
  },
  {
   "cell_type": "markdown",
   "metadata": {},
   "source": [
    "Realizamos el mismo proceso con los caracteres"
   ]
  },
  {
   "cell_type": "code",
   "execution_count": 26,
   "metadata": {},
   "outputs": [
    {
     "name": "stdout",
     "output_type": "stream",
     "text": [
      "1) e : 20286\n",
      "2) a : 20209\n",
      "3) d : 11233\n",
      "4) r : 11057\n",
      "5) l : 9186\n",
      "6) i : 8065\n",
      "7) n : 7612\n",
      "8) t : 6600\n",
      "9) s : 5998\n",
      "10) o : 4875\n"
     ]
    }
   ],
   "source": [
    "dic_counts_best_char = {}\n",
    "for r in best_rec:\n",
    "    for word in r:\n",
    "        for ch in word:\n",
    "            dic_counts_best_char[ch] = 1 + dic_counts_best_char.get(ch,0)\n",
    "\n",
    "dic_decr_best_char = dict(sorted(dic_counts_best_char.items(), key = lambda x: x[1], reverse = True))\n",
    "\n",
    "c = 1\n",
    "for k,v in dic_decr_best_char.items():\n",
    "    if c <= 10:\n",
    "        print('{}) {} : {}'.format(str(c),k,str(v)))\n",
    "    else:\n",
    "        break\n",
    "    c += 1"
   ]
  },
  {
   "cell_type": "markdown",
   "metadata": {},
   "source": [
    "Hay más caracteres únicos en esta colección."
   ]
  },
  {
   "cell_type": "code",
   "execution_count": 28,
   "metadata": {},
   "outputs": [
    {
     "name": "stdout",
     "output_type": "stream",
     "text": [
      "Caracteres únicos: 66\n"
     ]
    }
   ],
   "source": [
    "char_size = len(dic_counts_best_char.keys())\n",
    "print(\"Caracteres únicos:\",char_size)"
   ]
  },
  {
   "cell_type": "code",
   "execution_count": 17,
   "metadata": {},
   "outputs": [
    {
     "name": "stdout",
     "output_type": "stream",
     "text": [
      "Palabras totales: 33492\n",
      "Total caracteres: 148074\n"
     ]
    }
   ],
   "source": [
    "c = 0\n",
    "for r in best_rec:\n",
    "    for word in r:\n",
    "        c += 1\n",
    "print(\"Palabras totales:\" ,c)\n",
    "\n",
    "c_char = 0\n",
    "for r in best_rec:\n",
    "    for word in r:\n",
    "        for char in word:\n",
    "            c_char += 1\n",
    "print(\"Total caracteres:\",c_char)"
   ]
  },
  {
   "cell_type": "markdown",
   "metadata": {},
   "source": [
    "El vocabulario es más reducido. Ciertos términos que son parecidos en cuanto a su composición interna en los registros sin fallos pueden representarse ahora de la misma forma.  \n",
    "\n",
    "La distribución de Zipf es también bastante parecida."
   ]
  },
  {
   "cell_type": "code",
   "execution_count": 27,
   "metadata": {},
   "outputs": [
    {
     "data": {
      "image/png": "[encoded data removed]",
      "text/plain": [
       "<Figure size 504x360 with 1 Axes>"
      ]
     },
     "metadata": {
      "needs_background": "light"
     },
     "output_type": "display_data"
    }
   ],
   "source": [
    "rf = [(r+1, freq) for r, freq in enumerate(dic_decr_best.values())]\n",
    "rs, fs = zip(*rf)\n",
    "\n",
    "plt.figure(figsize = (7,5))\n",
    "plt.xscale('log')\n",
    "plt.yscale('log')\n",
    "plt.xlabel('Rango')\n",
    "plt.ylabel('Frecuencia')\n",
    "plt.plot(rs, fs, 'b-')\n",
    "plt.show()"
   ]
  },
  {
   "cell_type": "markdown",
   "metadata": {},
   "source": [
    "Comprobamos la distribucion de longitudes de las hipótesis."
   ]
  },
  {
   "cell_type": "code",
   "execution_count": 30,
   "metadata": {},
   "outputs": [
    {
     "data": {
      "image/png": "[encoded data removed]",
      "text/plain": [
       "<Figure size 504x360 with 1 Axes>"
      ]
     },
     "metadata": {
      "needs_background": "light"
     },
     "output_type": "display_data"
    }
   ],
   "source": [
    "plt.figure(figsize = (7,5))\n",
    "x = [len(r) for r in best_rec]\n",
    "plt.hist(x, bins = 30)\n",
    "#plt.axvline(np.mean(x), color='r', linestyle='dashed', linewidth=1)\n",
    "#min_ylim, max_ylim = plt.ylim()\n",
    "#plt.text(np.mean(x)*1.1, max_ylim*0.9, 'Media: {:.2f}'.format(np.mean(x)))\n",
    "plt.xlabel('Número de palabras')\n",
    "plt.ylabel('Frecuencia')\n",
    "plt.show()"
   ]
  },
  {
   "cell_type": "markdown",
   "metadata": {},
   "source": [
    "La distribución es bastante parecida a la inicial."
   ]
  },
  {
   "cell_type": "code",
   "execution_count": 75,
   "metadata": {},
   "outputs": [
    {
     "name": "stdout",
     "output_type": "stream",
     "text": [
      "Mínimo : 12\n",
      "Máximo : 77\n",
      "Media : 34.6\n",
      "Desviación : 7.07\n"
     ]
    }
   ],
   "source": [
    "print('Mínimo :',min(x))\n",
    "print('Máximo :',max(x))\n",
    "print('Media :', round(np.mean(x),2))\n",
    "print('Desviación :', round(np.std(x),2))"
   ]
  },
  {
   "cell_type": "markdown",
   "metadata": {},
   "source": [
    "La longitud media ha incrementado, significando que las hipótesis constan de términos adicionales. "
   ]
  },
  {
   "cell_type": "markdown",
   "metadata": {},
   "source": [
    "La distribución de caracteres es también similar."
   ]
  },
  {
   "cell_type": "code",
   "execution_count": 76,
   "metadata": {},
   "outputs": [
    {
     "data": {
      "image/png": "[encoded data removed]",
      "text/plain": [
       "<Figure size 504x360 with 1 Axes>"
      ]
     },
     "metadata": {
      "needs_background": "light"
     },
     "output_type": "display_data"
    }
   ],
   "source": [
    "plt.figure(figsize = (7,5))\n",
    "x = [len(w) for r in best_rec for w in r]\n",
    "plt.hist(x, bins = 11)\n",
    "plt.axvline(np.mean(x), color='r', linestyle='dashed', linewidth=1)\n",
    "min_ylim, max_ylim = plt.ylim()\n",
    "plt.text(np.mean(x)*1.1, max_ylim*0.9, 'Media: {:.2f}'.format(np.mean(x)))\n",
    "plt.xlabel('Número de caracteres')\n",
    "plt.ylabel('Frecuencia')\n",
    "plt.show()"
   ]
  },
  {
   "cell_type": "code",
   "execution_count": 77,
   "metadata": {},
   "outputs": [
    {
     "name": "stdout",
     "output_type": "stream",
     "text": [
      "Mínimo : 1\n",
      "Máximo : 13\n",
      "Media : 4.42\n",
      "Desviación : 2.61\n"
     ]
    }
   ],
   "source": [
    "print('Mínimo :',min(x))\n",
    "print('Máximo :',max(x))\n",
    "print('Media :', round(np.mean(x),2))\n",
    "print('Desviación :', round(np.std(x),2))"
   ]
  },
  {
   "cell_type": "markdown",
   "metadata": {},
   "source": [
    "También es importante conocer cuantos términos se situan fuera del vocabulario, producidos por fallos en el proceso de reconocimiento."
   ]
  },
  {
   "cell_type": "code",
   "execution_count": 45,
   "metadata": {},
   "outputs": [
    {
     "name": "stdout",
     "output_type": "stream",
     "text": [
      "Total palabras: 33492\n",
      "Palabras fuera de vocabulario: 5086\n",
      "Porcentaje de términos fuera de vocabulario: 15.2%\n"
     ]
    }
   ],
   "source": [
    "oov_words = 0\n",
    "tot_words = 0\n",
    "for r in best_rec:\n",
    "    for w in r:\n",
    "        if w not in word2idx:\n",
    "            oov_words += 1\n",
    "        tot_words += 1\n",
    "        \n",
    "print('Total palabras: {}'.format(tot_words))\n",
    "print('Palabras fuera de vocabulario: {}'.format(oov_words))\n",
    "print('Porcentaje de términos fuera de vocabulario: {}%'.format(round((oov_words/tot_words)*100,1)))"
   ]
  },
  {
   "cell_type": "markdown",
   "metadata": {},
   "source": [
    "Seleccionamos un registro aleatorio y su mejor hipótesis para ver cómo difieren."
   ]
  },
  {
   "cell_type": "code",
   "execution_count": 68,
   "metadata": {},
   "outputs": [
    {
     "name": "stdout",
     "output_type": "stream",
     "text": [
      "     Mejor hipótesis       Registro original     Etiqueta\n",
      "----------------------------------------------------------------------\n",
      "  1) Dit                   Dit                   other\n",
      "  2) dia                   dia                   other\n",
      "  3) rebere$               rebere                other\n",
      "  4) de                    de                    other\n",
      "  5) Pau                   Pau                   name\n",
      "  6) Riba                  Ribafort              surname\n",
      "  7) font                  sabater               occupation\n",
      "  8) sabater               de                    other\n",
      "  9) de                    Palau                 location\n",
      " 10) Palau                 solitar               location\n",
      " 11) solitar               viudo                 state\n",
      " 12) viudo                 ab                    other\n",
      " 13) ab                    Catherina             name\n",
      " 14) Catherina             viuda                 state\n",
      " 15) viuda                 de                    other\n",
      " 16) de                    Agusti                name\n",
      " 17) Agusti                Alsina                surname\n",
      " 18) Alsina                pages                 occupation\n",
      " 19) pages                 de                    other\n",
      " 20) de                    llissa                location\n",
      " 21) llissa                demunt                location\n",
      " 22) demunt                                      \n",
      " 23) -                                           \n"
     ]
    }
   ],
   "source": [
    "print(\"     {:22}{:22}{}\".format(\"Mejor hipótesis\", \"Registro original\", \"Etiqueta\"))\n",
    "print(70 * \"-\")\n",
    "\n",
    "rec = records[747]\n",
    "\n",
    "et = [w[1] for w in tagged_records[747]]\n",
    "for j in range(len(rec),len(best_rec[747])):\n",
    "    rec.append('')\n",
    "    et.append('')\n",
    "  \n",
    "c = 1\n",
    "for w1,w2,e in list(zip(rec,best_rec[747],et)):\n",
    "    print('{:3}) {:22}{:22}{}'.format(c,w2,w1,e))\n",
    "    c += 1\n"
   ]
  },
  {
   "cell_type": "markdown",
   "metadata": {},
   "source": [
    "Vemos que existe un problema con términos que están mal separados y que por tanto desplazan de posición a las siguientes palabras. Esto es un problema puesto que las etiquetas ya no refieren a los términos correspondientes (por ejemplo la palabra 'ab' tiene asociada la etiqueta 'name' como consecuencia en vez de 'other'). Dicho esto, las etiquetas reales no pueden ser utilizadas para evaluar las predicciones por posición. Sin embargo, sí que se puede determinar la similitud entre las etiquetas reales y las predichas utilizando la [distancia de Levenshtein](https://es.wikipedia.org/wiki/Distancia_de_Levenshtein)."
   ]
  },
  {
   "cell_type": "markdown",
   "metadata": {},
   "source": [
    "Codificamos las palabras de las mejores hipótesis de la misma forma que antes pero la diferencia es que no todos los términos están definidos en el vocabulario del diccionario `word2idx`. Ante esta situación se genera otro índice adicional para representar a palabras desconocidas."
   ]
  },
  {
   "cell_type": "code",
   "execution_count": 36,
   "metadata": {},
   "outputs": [
    {
     "data": {
      "text/plain": [
       "array([  48, 2431, 1819,   18,    4,   29, 2431,    7, 1685, 1037,    4,\n",
       "         10, 2431,    4,   12,   13,   14,    4, 2431,   16,    4, 1744,\n",
       "         13,   18,    4,   19,    7,    4,   20, 2431,   21,   22,   23,\n",
       "         24,    4,   74, 1394, 2051, 1208,    4, 2431,   16,    4,   40,\n",
       "         16,    4, 2431, 2431,    0,    0])"
      ]
     },
     "execution_count": 36,
     "metadata": {},
     "output_type": "execute_result"
    }
   ],
   "source": [
    "X_best_word = [[word2idx[token] if token in word2idx else n_words+1 for token in r] for r in best_rec]\n",
    "X_best_word = pad_sequences(maxlen=max_len, sequences= X_best_word, padding=\"post\", value=0)\n",
    "X_best_word[0]"
   ]
  },
  {
   "cell_type": "markdown",
   "metadata": {},
   "source": [
    "Lo mismo se aplica para los caracteres, donde los desconocidos se codifícan con un índice especial."
   ]
  },
  {
   "cell_type": "code",
   "execution_count": 37,
   "metadata": {
    "scrolled": false
   },
   "outputs": [
    {
     "data": {
      "text/plain": [
       "array([[28,  9, 10,  0,  0,  0,  0,  0,  0,  0],\n",
       "       [ 7,  9,  4,  0,  0,  0,  0,  0,  0,  0],\n",
       "       [ 2,  8, 15,  8,  2,  8, 61,  0,  0,  0],\n",
       "       [ 7,  8,  0,  0,  0,  0,  0,  0,  0,  0],\n",
       "       [34,  4, 10, 32,  8, 18,  0,  0,  0,  0],\n",
       "       [21,  4, 11, 11,  4,  0,  0,  0,  0,  0],\n",
       "       [12,  3,  5,  9, 14,  8,  2,  0,  0,  0],\n",
       "       [ 7,  8,  0,  0,  0,  0,  0,  0,  0,  0],\n",
       "       [20,  8,  2,  2,  8, 10,  0,  0,  0,  0],\n",
       "       [32,  4, 15,  9, 10,  4, 61, 10,  0,  0],\n",
       "       [ 8, 14,  0,  0,  0,  0,  0,  0,  0,  0],\n",
       "       [ 5,  4,  0,  0,  0,  0,  0,  0,  0,  0],\n",
       "       [38,  3, 31, 32,  4,  0,  0,  0,  0,  0],\n",
       "       [ 4, 15,  0,  0,  0,  0,  0,  0,  0,  0],\n",
       "       [34,  4,  2, 22,  4,  2,  9,  7,  4,  0],\n",
       "       [ 7,  3, 61, 11,  8,  5,  5,  4,  0,  0],\n",
       "       [20,  9,  5,  5,  4,  0,  0,  0,  0,  0],\n",
       "       [ 7,  8,  0,  0,  0,  0,  0,  0,  0,  0],\n",
       "       [28,  4, 12,  9,  4,  0,  0,  0,  0,  0],\n",
       "       [17,  4,  5,  6,  0,  0,  0,  0,  0,  0],\n",
       "       [ 6,  4,  2,  4, 13,  2,  8,  0,  0,  0],\n",
       "       [ 7,  8,  0,  0,  0,  0,  0,  0,  0,  0],\n",
       "       [17,  4, 11, 10,  8,  5,  5,  0,  0,  0],\n",
       "       [10,  8,  2, 40, 41,  3,  5,  0,  0,  0],\n",
       "       [15,  9, 11, 15,  4, 10,  0,  0,  0,  0],\n",
       "       [ 7,  8,  0,  0,  0,  0,  0,  0,  0,  0],\n",
       "       [23,  9, 31, 32,  0,  0,  0,  0,  0,  0],\n",
       "       [13,  0,  0,  0,  0,  0,  0,  0,  0,  0],\n",
       "       [ 7,  8,  0,  0,  0,  0,  0,  0,  0,  0],\n",
       "       [29,  3, 33,  8,  0,  0,  0,  0,  0,  0],\n",
       "       [61,  0,  0,  0,  0,  0,  0,  0,  0,  0],\n",
       "       [ 0,  0,  0,  0,  0,  0,  0,  0,  0,  0],\n",
       "       [ 0,  0,  0,  0,  0,  0,  0,  0,  0,  0],\n",
       "       [ 0,  0,  0,  0,  0,  0,  0,  0,  0,  0],\n",
       "       [ 0,  0,  0,  0,  0,  0,  0,  0,  0,  0],\n",
       "       [ 0,  0,  0,  0,  0,  0,  0,  0,  0,  0],\n",
       "       [ 0,  0,  0,  0,  0,  0,  0,  0,  0,  0],\n",
       "       [ 0,  0,  0,  0,  0,  0,  0,  0,  0,  0],\n",
       "       [ 0,  0,  0,  0,  0,  0,  0,  0,  0,  0],\n",
       "       [ 0,  0,  0,  0,  0,  0,  0,  0,  0,  0],\n",
       "       [ 0,  0,  0,  0,  0,  0,  0,  0,  0,  0],\n",
       "       [ 0,  0,  0,  0,  0,  0,  0,  0,  0,  0],\n",
       "       [ 0,  0,  0,  0,  0,  0,  0,  0,  0,  0],\n",
       "       [ 0,  0,  0,  0,  0,  0,  0,  0,  0,  0],\n",
       "       [ 0,  0,  0,  0,  0,  0,  0,  0,  0,  0],\n",
       "       [ 0,  0,  0,  0,  0,  0,  0,  0,  0,  0],\n",
       "       [ 0,  0,  0,  0,  0,  0,  0,  0,  0,  0],\n",
       "       [ 0,  0,  0,  0,  0,  0,  0,  0,  0,  0],\n",
       "       [ 0,  0,  0,  0,  0,  0,  0,  0,  0,  0],\n",
       "       [ 0,  0,  0,  0,  0,  0,  0,  0,  0,  0]])"
      ]
     },
     "execution_count": 37,
     "metadata": {},
     "output_type": "execute_result"
    }
   ],
   "source": [
    "X_best_char = []\n",
    "for r in best_rec:\n",
    "    rec_seq = []\n",
    "    for i in range(max_len):\n",
    "        word_seq = []\n",
    "        for j in range(max_len_char):\n",
    "            try:\n",
    "                word_seq.append(char2index[r[i][j]])\n",
    "            except IndexError:\n",
    "                word_seq.append(0)\n",
    "            \n",
    "            except KeyError:\n",
    "                word_seq.append(n_chars + 1)\n",
    "                \n",
    "        rec_seq.append(word_seq)\n",
    "    X_best_char.append(np.array(rec_seq))\n",
    "\n",
    "\n",
    "X_best_char[10]"
   ]
  },
  {
   "cell_type": "markdown",
   "metadata": {},
   "source": [
    "Debido a que el modelo ha sido entrenado con una partición específica de muestras, se comprobará únicamente el rendimiento de reconocimiento sobre las hipótesis cuyas transcripciones sin fallos están contenidas en el conjunto de test. De manera contraría, si se pone a prueba el modelo sobre todas las hipótesis, gran parte de ellas han sido prácticamente empleadas para ajustar el modelo y por tanto los resultados finales obtenidos no son fiables."
   ]
  },
  {
   "cell_type": "code",
   "execution_count": 59,
   "metadata": {},
   "outputs": [],
   "source": [
    "_, X_best_word_te, _, _ = train_test_split(X_best_word, y, test_size=0.2, random_state=2021)\n",
    "_, X_best_char_te, _, _ = train_test_split(X_best_char, y, test_size=0.2, random_state=2021)"
   ]
  },
  {
   "cell_type": "markdown",
   "metadata": {},
   "source": [
    "Con las entradas preprocesadas, ya se utiliza el modelo anterior entrenado con los registros auténticos para evaluar las predicciones sobre la partición de test de hipótesis."
   ]
  },
  {
   "cell_type": "code",
   "execution_count": 60,
   "metadata": {},
   "outputs": [],
   "source": [
    "y_pred_best = model.predict([X_best_word_te,\n",
    "                        np.array(X_best_char_te).reshape((len(X_best_char_te),\n",
    "                                                     max_len, max_len_char))])"
   ]
  },
  {
   "cell_type": "markdown",
   "metadata": {},
   "source": [
    "Ahora se calcula la distancia de Levenshtein promedia entre las sequencias reales de etiquetas y las predichas."
   ]
  },
  {
   "cell_type": "code",
   "execution_count": 61,
   "metadata": {},
   "outputs": [
    {
     "name": "stdout",
     "output_type": "stream",
     "text": [
      "Distancia de edición media : 4.097938144329897\n"
     ]
    }
   ],
   "source": [
    "import textdistance\n",
    "\n",
    "pred_labels = number_2_label_unmasked(y_pred_best, X_word_best_te, idx2tag)\n",
    "test_labels = number_2_label_unmasked(y_te, X_word_te, idx2tag)\n",
    "dist = []\n",
    "for pred_i,true_i in zip(pred_labels,test_labels):\n",
    "    d = textdistance.levenshtein.distance(list(pred_i),list(true_i))\n",
    "\n",
    "    dist.append(d)\n",
    "\n",
    "print('Distancia de edición media :',np.mean(dist))"
   ]
  },
  {
   "cell_type": "markdown",
   "metadata": {},
   "source": [
    "La distancia media es cercana a 4 indicando que las secuencias necesitan en promedio 4 operaciones de edición para ser idénticas. Las operaciones incluyen borrados, inserciones y sustituciones, con un coste asociado."
   ]
  },
  {
   "cell_type": "markdown",
   "metadata": {},
   "source": [
    "Si se muestran las predicciones sobre transcripciones al azar, estas encajan bastante con las palabra correspondientes. Destacar que las palabras desconocidas por el modelo o fuera de vocabulario se han representado como `UNK`."
   ]
  },
  {
   "cell_type": "code",
   "execution_count": 62,
   "metadata": {},
   "outputs": [
    {
     "name": "stdout",
     "output_type": "stream",
     "text": [
      "Word           ||Pred\n",
      "=============================================\n",
      "Dit            : other \n",
      "dia            : other \n",
      "UNK            : other\n",
      "llicentia      : other \n",
      "gratis         : other \n",
      "a              : other \n",
      "juan           : name \n",
      "Serra          : surname \n",
      "texidor        : occupation \n",
      "de             : occupation \n",
      "llana          : occupation \n",
      "de             : other \n",
      "UNK            : location\n",
      "fill           : other \n",
      "de             : other \n",
      "Juan           : name \n",
      "Serra          : surname \n",
      "hortola        : occupation \n",
      "#              : other \n",
      "de             : other \n",
      "UNK            : location\n",
      "y              : other \n",
      "de             : other \n",
      "Margarida      : name \n",
      "defuncts       : other \n",
      "ab             : other \n",
      "Hyacinta       : name \n",
      "donsella       : state \n",
      "filla          : other \n",
      "de             : other \n",
      "Pere           : name \n",
      "Vacarisses     : surname \n",
      "pages          : occupation \n",
      "de             : other \n",
      "UNK            : location\n",
      "llorens        : location \n",
      "Cervello       : location \n",
      "defunct        : other \n",
      "y              : other \n",
      "de             : other \n",
      "Maryanna       : name \n",
      "UNK            : surname\n"
     ]
    }
   ],
   "source": [
    "import random\n",
    "\n",
    "idx2word = {i:w for w,i in word2idx.items()}\n",
    "i = random.randint(0,len(y_pred_best))\n",
    "\n",
    "\n",
    "print(\"{:15}||{}\".format(\"Word\", \"Pred\"))\n",
    "print(45 * \"=\")\n",
    "for w, pred in zip(X_word_best_te[i], y_pred_best[i]):\n",
    "    if w == n_words + 1:\n",
    "        print(\"{:15}: {}\".format(\"UNK\",idx2tag[pred]))\n",
    "    elif w != 0:\n",
    "        print(\"{:15}: {} \".format(idx2word[w],idx2tag[pred]))\n",
    "       "
   ]
  },
  {
   "cell_type": "markdown",
   "metadata": {},
   "source": [
    "### 2) NER con categorias semánticas y personas"
   ]
  },
  {
   "cell_type": "markdown",
   "metadata": {},
   "source": [
    "En la segunda parte de la experimentación se consideran además de las categorías semánticas, las personas relacionadas en cada palabra, significando que se tienen que concatenar para formar las etiquetas finales."
   ]
  },
  {
   "cell_type": "code",
   "execution_count": 63,
   "metadata": {},
   "outputs": [],
   "source": [
    "person_category_counts = {}\n",
    "for r1, r2 in zip(person_labels, category_labels):\n",
    "    for e1, e2 in zip(r1, r2):\n",
    "        new_label = e1 + \"-\" + e2\n",
    "        person_category_counts[new_label] = 1+person_category_counts.get(new_label,0)\n",
    "\n",
    "person_category_counts = dict(sorted(person_category_counts.items(), key = lambda x: x[1], reverse = True))"
   ]
  },
  {
   "cell_type": "code",
   "execution_count": 64,
   "metadata": {},
   "outputs": [
    {
     "data": {
      "text/plain": [
       "{'none-other': 15176,\n",
       " 'husband-location': 2374,\n",
       " 'husband-occupation': 1207,\n",
       " 'wifes_father-location': 1170,\n",
       " 'wife-name': 1046,\n",
       " 'husband-name': 1025,\n",
       " 'husband-surname': 1010,\n",
       " 'wife-state': 931,\n",
       " 'wifes_father-occupation': 893,\n",
       " 'wifes_father-surname': 769,\n",
       " 'wifes_father-name': 760,\n",
       " 'wifes_mother-name': 737,\n",
       " 'husbands_father-occupation': 640,\n",
       " 'husbands_father-name': 618,\n",
       " 'husbands_father-surname': 586,\n",
       " 'husbands_mother-name': 582,\n",
       " 'wife-location': 490,\n",
       " 'husbands_father-location': 470,\n",
       " 'wife-occupation': 270,\n",
       " 'other_person-surname': 235,\n",
       " 'other_person-name': 229,\n",
       " 'husband-state': 211,\n",
       " 'wife-surname': 34,\n",
       " 'wifes_mother-surname': 17,\n",
       " 'husbands_mother-surname': 16,\n",
       " 'husbands_mother-location': 4,\n",
       " 'other_person-location': 1}"
      ]
     },
     "execution_count": 64,
     "metadata": {},
     "output_type": "execute_result"
    }
   ],
   "source": [
    "person_category_counts"
   ]
  },
  {
   "cell_type": "markdown",
   "metadata": {},
   "source": [
    "Se asocian estas nuevas etiquetas a cada palabra de cada registro y se ilustra un ejemplo de representación."
   ]
  },
  {
   "cell_type": "code",
   "execution_count": 65,
   "metadata": {},
   "outputs": [
    {
     "name": "stdout",
     "output_type": "stream",
     "text": [
      "[('dit', 'none-other'), ('dia', 'none-other'), ('rebere', 'none-other'), ('de', 'none-other'), ('Pere', 'husband-name'), ('Bassons', 'husband-surname'), ('pages', 'husband-occupation'), ('de', 'none-other'), ('Cervello', 'husband-location'), ('fill', 'none-other'), ('de', 'none-other'), ('Jua', 'husbands_father-name'), ('Bassos', 'husbands_father-surname'), ('pages', 'husbands_father-occupation'), ('defunct', 'none-other'), ('y', 'none-other'), ('de', 'none-other'), ('Antonia', 'husbands_mother-name'), ('ab', 'none-other'), ('Madrona', 'wife-name'), ('donsella', 'wife-state'), ('filla', 'none-other'), ('de', 'none-other'), ('Pere', 'wifes_father-name'), ('Alegre', 'wifes_father-surname'), ('pages', 'wifes_father-occupation'), ('de', 'none-other'), ('Castellvi', 'wifes_father-location'), ('y', 'none-other'), ('de', 'none-other'), ('Juana', 'wifes_mother-name')] \n",
      "\n"
     ]
    }
   ],
   "source": [
    "tagged_records = []\n",
    "for r1,r2,r3 in zip(records, person_labels, category_labels):\n",
    "    record = []\n",
    "    for w,person,category in zip(r1,r2,r3):\n",
    "        new_label = person + \"-\" + category\n",
    "        record.append((w,new_label))\n",
    "    tagged_records.append(record)\n",
    "\n",
    "print(tagged_records[370],'\\n')  "
   ]
  },
  {
   "cell_type": "markdown",
   "metadata": {},
   "source": [
    "Modificamos las correspondencias entre etiquetas e índices."
   ]
  },
  {
   "cell_type": "code",
   "execution_count": 66,
   "metadata": {},
   "outputs": [
    {
     "data": {
      "text/plain": [
       "array([ 0,  0,  0,  0,  5,  6,  2,  0,  1,  0,  0, 13, 14, 12,  0,  0,  0,\n",
       "       15,  0,  4,  7,  0,  0, 10,  9,  8,  0,  3,  0,  0, 11,  0,  0,  0,\n",
       "        0,  0,  0,  0,  0,  0,  0,  0,  0,  0,  0,  0,  0,  0,  0,  0])"
      ]
     },
     "execution_count": 66,
     "metadata": {},
     "output_type": "execute_result"
    }
   ],
   "source": [
    "tags = list(person_category_counts.keys())\n",
    "n_tags = len(tags)\n",
    "tag2idx = {t:i for i,t in enumerate(tags)}\n",
    "idx2tag = {i:t for t, i in tag2idx.items()}\n",
    "\n",
    "y = [[tag2idx[w[1]] for w in r] for r in tagged_records]\n",
    "y = pad_sequences(maxlen = max_len, sequences = y, padding = 'post' , value = tag2idx['none-other'])\n",
    "y[370]"
   ]
  },
  {
   "cell_type": "markdown",
   "metadata": {},
   "source": [
    "De nuevo, definimos otras particiones a considerar."
   ]
  },
  {
   "cell_type": "code",
   "execution_count": 67,
   "metadata": {},
   "outputs": [],
   "source": [
    "X_word_tr, X_word_te, y_tr, y_te = train_test_split(X_word, y, test_size=0.2, random_state=2021)\n",
    "X_char_tr, X_char_te, _, _ = train_test_split(X_char, y, test_size=0.2, random_state=2021)"
   ]
  },
  {
   "cell_type": "markdown",
   "metadata": {},
   "source": [
    "Aplicamos validación cruzada para predecir las etiquetas de todos los registros"
   ]
  },
  {
   "cell_type": "code",
   "execution_count": 374,
   "metadata": {},
   "outputs": [
    {
     "name": "stdout",
     "output_type": "stream",
     "text": [
      "------------------------------------------------------------------------\n",
      "Training for fold 1 ...\n",
      "Epoch 1/30\n",
      "<tf_crf_layer.layer.CRF object at 0x000001AEC7C8E7B8> 0\n",
      "<tf_crf_layer.layer.CRF object at 0x000001AEC7C8E7B8> 0\n",
      "25/25 [==============================] - ETA: 0s - loss: 45.3411 - sequence_span_accuracy: 0.6106<tf_crf_layer.layer.CRF object at 0x000001AEC7C8E7B8> 0\n",
      "25/25 [==============================] - 11s 141ms/step - loss: 45.3411 - sequence_span_accuracy: 0.6106 - val_loss: 33.3006 - val_sequence_span_accuracy: 0.6439\n",
      "Epoch 2/30\n",
      "25/25 [==============================] - 3s 101ms/step - loss: 22.6466 - sequence_span_accuracy: 0.6658 - val_loss: 9.7017 - val_sequence_span_accuracy: 0.7163\n",
      "Epoch 3/30\n",
      "25/25 [==============================] - 3s 105ms/step - loss: 6.8347 - sequence_span_accuracy: 0.7603 - val_loss: 3.6429 - val_sequence_span_accuracy: 0.7957\n",
      "Epoch 4/30\n",
      "25/25 [==============================] - 3s 114ms/step - loss: 3.2634 - sequence_span_accuracy: 0.8207 - val_loss: 2.4998 - val_sequence_span_accuracy: 0.8414\n",
      "Epoch 5/30\n",
      "25/25 [==============================] - 3s 110ms/step - loss: 2.1626 - sequence_span_accuracy: 0.8571 - val_loss: 2.1103 - val_sequence_span_accuracy: 0.8703\n",
      "Epoch 6/30\n",
      "25/25 [==============================] - 3s 107ms/step - loss: 1.8566 - sequence_span_accuracy: 0.8807 - val_loss: 1.9590 - val_sequence_span_accuracy: 0.8899\n",
      "Epoch 7/30\n",
      "25/25 [==============================] - 3s 103ms/step - loss: 1.4376 - sequence_span_accuracy: 0.8974 - val_loss: 1.8798 - val_sequence_span_accuracy: 0.9041\n",
      "Epoch 8/30\n",
      "25/25 [==============================] - 3s 103ms/step - loss: 1.1753 - sequence_span_accuracy: 0.9098 - val_loss: 1.8905 - val_sequence_span_accuracy: 0.9149\n",
      "Epoch 9/30\n",
      "25/25 [==============================] - 3s 108ms/step - loss: 1.0761 - sequence_span_accuracy: 0.9193 - val_loss: 1.9743 - val_sequence_span_accuracy: 0.9233\n",
      "Epoch 10/30\n",
      "25/25 [==============================] - 3s 114ms/step - loss: 0.9297 - sequence_span_accuracy: 0.9269 - val_loss: 1.6244 - val_sequence_span_accuracy: 0.9302\n",
      "Epoch 11/30\n",
      "25/25 [==============================] - 3s 109ms/step - loss: 0.7977 - sequence_span_accuracy: 0.9331 - val_loss: 1.6679 - val_sequence_span_accuracy: 0.9359\n",
      "Epoch 12/30\n",
      "25/25 [==============================] - 3s 106ms/step - loss: 0.8444 - sequence_span_accuracy: 0.9383 - val_loss: 1.7550 - val_sequence_span_accuracy: 0.9406\n",
      "Epoch 13/30\n",
      "25/25 [==============================] - 3s 103ms/step - loss: 0.7589 - sequence_span_accuracy: 0.9427 - val_loss: 1.6285 - val_sequence_span_accuracy: 0.9446\n",
      "Epoch 14/30\n",
      "25/25 [==============================] - 3s 104ms/step - loss: 0.6878 - sequence_span_accuracy: 0.9464 - val_loss: 1.7726 - val_sequence_span_accuracy: 0.9480\n",
      "Epoch 15/30\n",
      "25/25 [==============================] - 3s 106ms/step - loss: 0.7244 - sequence_span_accuracy: 0.9496 - val_loss: 1.6226 - val_sequence_span_accuracy: 0.9510\n",
      "Epoch 16/30\n",
      "25/25 [==============================] - 3s 115ms/step - loss: 0.6912 - sequence_span_accuracy: 0.9524 - val_loss: 1.8462 - val_sequence_span_accuracy: 0.9536\n",
      "Epoch 17/30\n",
      "25/25 [==============================] - 3s 111ms/step - loss: 0.6098 - sequence_span_accuracy: 0.9548 - val_loss: 1.7427 - val_sequence_span_accuracy: 0.9559\n",
      "Epoch 18/30\n",
      "25/25 [==============================] - 3s 106ms/step - loss: 0.5382 - sequence_span_accuracy: 0.9570 - val_loss: 1.5367 - val_sequence_span_accuracy: 0.9580\n",
      "Epoch 19/30\n",
      "25/25 [==============================] - 3s 103ms/step - loss: 0.4698 - sequence_span_accuracy: 0.9590 - val_loss: 1.5418 - val_sequence_span_accuracy: 0.9600\n",
      "Epoch 20/30\n",
      "25/25 [==============================] - 3s 103ms/step - loss: 0.4141 - sequence_span_accuracy: 0.9609 - val_loss: 1.5565 - val_sequence_span_accuracy: 0.9617\n",
      "Epoch 21/30\n",
      "25/25 [==============================] - 3s 106ms/step - loss: 0.3873 - sequence_span_accuracy: 0.9625 - val_loss: 1.5961 - val_sequence_span_accuracy: 0.9633\n",
      "Epoch 22/30\n",
      "25/25 [==============================] - 3s 122ms/step - loss: 0.3806 - sequence_span_accuracy: 0.9641 - val_loss: 1.6249 - val_sequence_span_accuracy: 0.9648\n",
      "Epoch 23/30\n",
      "25/25 [==============================] - 3s 110ms/step - loss: 0.3256 - sequence_span_accuracy: 0.9654 - val_loss: 1.6331 - val_sequence_span_accuracy: 0.9661\n",
      "Epoch 24/30\n",
      "25/25 [==============================] - 3s 108ms/step - loss: 0.3368 - sequence_span_accuracy: 0.9667 - val_loss: 1.6686 - val_sequence_span_accuracy: 0.9673\n",
      "Epoch 25/30\n",
      "25/25 [==============================] - 3s 103ms/step - loss: 0.3111 - sequence_span_accuracy: 0.9679 - val_loss: 1.6074 - val_sequence_span_accuracy: 0.9684\n",
      "Epoch 26/30\n",
      "25/25 [==============================] - 3s 104ms/step - loss: 0.2903 - sequence_span_accuracy: 0.9690 - val_loss: 1.6512 - val_sequence_span_accuracy: 0.9695\n",
      "Epoch 27/30\n",
      "25/25 [==============================] - 3s 107ms/step - loss: 0.3036 - sequence_span_accuracy: 0.9700 - val_loss: 1.7042 - val_sequence_span_accuracy: 0.9704\n",
      "Epoch 28/30\n",
      "25/25 [==============================] - 3s 114ms/step - loss: 0.2775 - sequence_span_accuracy: 0.9709 - val_loss: 1.7368 - val_sequence_span_accuracy: 0.9713\n",
      "Epoch 29/30\n",
      "25/25 [==============================] - 3s 110ms/step - loss: 0.2552 - sequence_span_accuracy: 0.9718 - val_loss: 1.6477 - val_sequence_span_accuracy: 0.9722\n",
      "Epoch 30/30\n",
      "25/25 [==============================] - 3s 106ms/step - loss: 0.2145 - sequence_span_accuracy: 0.9726 - val_loss: 1.6972 - val_sequence_span_accuracy: 0.9730\n",
      "Score for fold 1: Accuracy of 98.03%; F1 score of 0.939\n",
      "------------------------------------------------------------------------\n",
      "Training for fold 2 ...\n",
      "Epoch 1/30\n",
      "<tf_crf_layer.layer.CRF object at 0x000001AEB2118780> 0\n",
      "<tf_crf_layer.layer.CRF object at 0x000001AEB2118780> 0\n",
      "25/25 [==============================] - ETA: 0s - loss: 43.3244 - sequence_span_accuracy: 0.5658<tf_crf_layer.layer.CRF object at 0x000001AEB2118780> 0\n",
      "25/25 [==============================] - 11s 157ms/step - loss: 43.3244 - sequence_span_accuracy: 0.5658 - val_loss: 28.0048 - val_sequence_span_accuracy: 0.6405\n",
      "Epoch 2/30\n",
      "25/25 [==============================] - 3s 101ms/step - loss: 16.7828 - sequence_span_accuracy: 0.6963 - val_loss: 8.6688 - val_sequence_span_accuracy: 0.7544\n",
      "Epoch 3/30\n",
      "25/25 [==============================] - 3s 101ms/step - loss: 5.8615 - sequence_span_accuracy: 0.7930 - val_loss: 4.2571 - val_sequence_span_accuracy: 0.8229\n",
      "Epoch 4/30\n",
      "25/25 [==============================] - 3s 101ms/step - loss: 3.1906 - sequence_span_accuracy: 0.8441 - val_loss: 3.2273 - val_sequence_span_accuracy: 0.8614\n",
      "Epoch 5/30\n",
      "25/25 [==============================] - 3s 103ms/step - loss: 2.1798 - sequence_span_accuracy: 0.8747 - val_loss: 2.7204 - val_sequence_span_accuracy: 0.8860\n",
      "Epoch 6/30\n",
      "25/25 [==============================] - 3s 114ms/step - loss: 1.6445 - sequence_span_accuracy: 0.8951 - val_loss: 2.6339 - val_sequence_span_accuracy: 0.9031\n",
      "Epoch 7/30\n",
      "25/25 [==============================] - 3s 109ms/step - loss: 1.3924 - sequence_span_accuracy: 0.9096 - val_loss: 2.5364 - val_sequence_span_accuracy: 0.9154\n",
      "Epoch 8/30\n",
      "25/25 [==============================] - 3s 106ms/step - loss: 1.2417 - sequence_span_accuracy: 0.9203 - val_loss: 2.5479 - val_sequence_span_accuracy: 0.9247\n",
      "Epoch 9/30\n",
      "25/25 [==============================] - 3s 101ms/step - loss: 1.0026 - sequence_span_accuracy: 0.9286 - val_loss: 2.5136 - val_sequence_span_accuracy: 0.9321\n",
      "Epoch 10/30\n",
      "25/25 [==============================] - 3s 102ms/step - loss: 0.8539 - sequence_span_accuracy: 0.9352 - val_loss: 2.4700 - val_sequence_span_accuracy: 0.9381\n",
      "Epoch 11/30\n",
      "25/25 [==============================] - 3s 102ms/step - loss: 0.8608 - sequence_span_accuracy: 0.9406 - val_loss: 2.4438 - val_sequence_span_accuracy: 0.9430\n",
      "Epoch 12/30\n",
      "25/25 [==============================] - 3s 112ms/step - loss: 0.7389 - sequence_span_accuracy: 0.9451 - val_loss: 2.5709 - val_sequence_span_accuracy: 0.9471\n",
      "Epoch 13/30\n",
      "25/25 [==============================] - 3s 112ms/step - loss: 0.6634 - sequence_span_accuracy: 0.9489 - val_loss: 2.6256 - val_sequence_span_accuracy: 0.9506\n",
      "Epoch 14/30\n",
      "25/25 [==============================] - 3s 107ms/step - loss: 0.6457 - sequence_span_accuracy: 0.9522 - val_loss: 2.5205 - val_sequence_span_accuracy: 0.9536\n",
      "Epoch 15/30\n",
      "25/25 [==============================] - 3s 100ms/step - loss: 0.6033 - sequence_span_accuracy: 0.9550 - val_loss: 2.6251 - val_sequence_span_accuracy: 0.9563\n",
      "Epoch 16/30\n",
      "25/25 [==============================] - 2s 100ms/step - loss: 0.5636 - sequence_span_accuracy: 0.9575 - val_loss: 2.6505 - val_sequence_span_accuracy: 0.9586\n",
      "Epoch 17/30\n",
      "25/25 [==============================] - 3s 102ms/step - loss: 0.5101 - sequence_span_accuracy: 0.9597 - val_loss: 2.6392 - val_sequence_span_accuracy: 0.9607\n",
      "Epoch 18/30\n",
      "25/25 [==============================] - 3s 110ms/step - loss: 0.4602 - sequence_span_accuracy: 0.9616 - val_loss: 2.6771 - val_sequence_span_accuracy: 0.9625\n",
      "Epoch 19/30\n",
      "25/25 [==============================] - 3s 106ms/step - loss: 0.4902 - sequence_span_accuracy: 0.9633 - val_loss: 2.6410 - val_sequence_span_accuracy: 0.9641\n",
      "Epoch 20/30\n",
      "25/25 [==============================] - 3s 104ms/step - loss: 0.4488 - sequence_span_accuracy: 0.9649 - val_loss: 2.6572 - val_sequence_span_accuracy: 0.9656\n",
      "Epoch 21/30\n",
      "25/25 [==============================] - 3s 100ms/step - loss: 0.4191 - sequence_span_accuracy: 0.9663 - val_loss: 2.7582 - val_sequence_span_accuracy: 0.9670\n",
      "Epoch 22/30\n",
      "25/25 [==============================] - 3s 101ms/step - loss: 0.3649 - sequence_span_accuracy: 0.9676 - val_loss: 2.8092 - val_sequence_span_accuracy: 0.9682\n",
      "Epoch 23/30\n",
      "25/25 [==============================] - 3s 101ms/step - loss: 0.3230 - sequence_span_accuracy: 0.9688 - val_loss: 2.6748 - val_sequence_span_accuracy: 0.9693\n",
      "Epoch 24/30\n",
      "25/25 [==============================] - 3s 108ms/step - loss: 0.3998 - sequence_span_accuracy: 0.9698 - val_loss: 2.9116 - val_sequence_span_accuracy: 0.9703\n",
      "Epoch 25/30\n",
      "25/25 [==============================] - 3s 106ms/step - loss: 0.4161 - sequence_span_accuracy: 0.9708 - val_loss: 2.7801 - val_sequence_span_accuracy: 0.9713\n",
      "Epoch 26/30\n",
      "25/25 [==============================] - 3s 106ms/step - loss: 0.3579 - sequence_span_accuracy: 0.9717 - val_loss: 2.6138 - val_sequence_span_accuracy: 0.9721\n",
      "Epoch 27/30\n",
      "25/25 [==============================] - 3s 101ms/step - loss: 0.3462 - sequence_span_accuracy: 0.9726 - val_loss: 2.7269 - val_sequence_span_accuracy: 0.9730\n",
      "Epoch 28/30\n",
      "25/25 [==============================] - 3s 101ms/step - loss: 0.2682 - sequence_span_accuracy: 0.9734 - val_loss: 2.6866 - val_sequence_span_accuracy: 0.9738\n",
      "Epoch 29/30\n",
      "25/25 [==============================] - 3s 102ms/step - loss: 0.2450 - sequence_span_accuracy: 0.9741 - val_loss: 2.6767 - val_sequence_span_accuracy: 0.9745\n",
      "Epoch 30/30\n",
      "25/25 [==============================] - 3s 106ms/step - loss: 0.2689 - sequence_span_accuracy: 0.9749 - val_loss: 2.7711 - val_sequence_span_accuracy: 0.9752\n",
      "Score for fold 2: Accuracy of 97.72%; F1 score of 0.814\n",
      "------------------------------------------------------------------------\n",
      "Training for fold 3 ...\n",
      "Epoch 1/30\n",
      "<tf_crf_layer.layer.CRF object at 0x000001AEC7B33518> 0\n",
      "<tf_crf_layer.layer.CRF object at 0x000001AEC7B33518> 0\n",
      "25/25 [==============================] - ETA: 0s - loss: 45.6917 - sequence_span_accuracy: 0.5828<tf_crf_layer.layer.CRF object at 0x000001AEC7B33518> 0\n",
      "25/25 [==============================] - 11s 143ms/step - loss: 45.6917 - sequence_span_accuracy: 0.5828 - val_loss: 34.1415 - val_sequence_span_accuracy: 0.6423\n",
      "Epoch 2/30\n",
      "25/25 [==============================] - 3s 107ms/step - loss: 20.8697 - sequence_span_accuracy: 0.6745 - val_loss: 10.4525 - val_sequence_span_accuracy: 0.7288\n",
      "Epoch 3/30\n",
      "25/25 [==============================] - 3s 113ms/step - loss: 6.5472 - sequence_span_accuracy: 0.7709 - val_loss: 4.7574 - val_sequence_span_accuracy: 0.8038\n",
      "Epoch 4/30\n",
      "25/25 [==============================] - 3s 116ms/step - loss: 3.2309 - sequence_span_accuracy: 0.8277 - val_loss: 3.2712 - val_sequence_span_accuracy: 0.8470\n",
      "Epoch 5/30\n",
      "25/25 [==============================] - 3s 113ms/step - loss: 2.1225 - sequence_span_accuracy: 0.8619 - val_loss: 2.6925 - val_sequence_span_accuracy: 0.8746\n",
      "Epoch 6/30\n",
      "25/25 [==============================] - 3s 108ms/step - loss: 1.6334 - sequence_span_accuracy: 0.8849 - val_loss: 2.7701 - val_sequence_span_accuracy: 0.8936\n",
      "Epoch 7/30\n",
      "25/25 [==============================] - 3s 106ms/step - loss: 1.3651 - sequence_span_accuracy: 0.9008 - val_loss: 2.4292 - val_sequence_span_accuracy: 0.9073\n",
      "Epoch 8/30\n",
      "25/25 [==============================] - 3s 110ms/step - loss: 1.1086 - sequence_span_accuracy: 0.9128 - val_loss: 2.3782 - val_sequence_span_accuracy: 0.9177\n",
      "Epoch 9/30\n",
      "25/25 [==============================] - 3s 113ms/step - loss: 0.9802 - sequence_span_accuracy: 0.9220 - val_loss: 2.3446 - val_sequence_span_accuracy: 0.9258\n",
      "Epoch 10/30\n",
      "25/25 [==============================] - 3s 109ms/step - loss: 0.8429 - sequence_span_accuracy: 0.9293 - val_loss: 2.2908 - val_sequence_span_accuracy: 0.9325\n",
      "Epoch 11/30\n",
      "25/25 [==============================] - 3s 106ms/step - loss: 0.7567 - sequence_span_accuracy: 0.9353 - val_loss: 2.3272 - val_sequence_span_accuracy: 0.9379\n",
      "Epoch 12/30\n",
      "25/25 [==============================] - 3s 103ms/step - loss: 0.6689 - sequence_span_accuracy: 0.9403 - val_loss: 2.2067 - val_sequence_span_accuracy: 0.9425\n",
      "Epoch 13/30\n",
      "25/25 [==============================] - 3s 104ms/step - loss: 0.6687 - sequence_span_accuracy: 0.9445 - val_loss: 2.2445 - val_sequence_span_accuracy: 0.9464\n",
      "Epoch 14/30\n",
      "25/25 [==============================] - 3s 109ms/step - loss: 0.5553 - sequence_span_accuracy: 0.9481 - val_loss: 2.2121 - val_sequence_span_accuracy: 0.9497\n",
      "Epoch 15/30\n",
      "25/25 [==============================] - 3s 113ms/step - loss: 0.4847 - sequence_span_accuracy: 0.9513 - val_loss: 2.2843 - val_sequence_span_accuracy: 0.9527\n",
      "Epoch 16/30\n",
      "25/25 [==============================] - 3s 110ms/step - loss: 0.4970 - sequence_span_accuracy: 0.9540 - val_loss: 2.2091 - val_sequence_span_accuracy: 0.9552\n",
      "Epoch 17/30\n",
      "25/25 [==============================] - 3s 105ms/step - loss: 0.4553 - sequence_span_accuracy: 0.9564 - val_loss: 2.3127 - val_sequence_span_accuracy: 0.9575\n",
      "Epoch 18/30\n",
      "25/25 [==============================] - 3s 103ms/step - loss: 0.4086 - sequence_span_accuracy: 0.9585 - val_loss: 2.3789 - val_sequence_span_accuracy: 0.9595\n",
      "Epoch 19/30\n",
      "25/25 [==============================] - 3s 103ms/step - loss: 0.4056 - sequence_span_accuracy: 0.9605 - val_loss: 2.3667 - val_sequence_span_accuracy: 0.9613\n",
      "Epoch 20/30\n",
      "25/25 [==============================] - 3s 108ms/step - loss: 0.3695 - sequence_span_accuracy: 0.9622 - val_loss: 2.3054 - val_sequence_span_accuracy: 0.9630\n",
      "Epoch 21/30\n",
      "25/25 [==============================] - 3s 113ms/step - loss: 0.3514 - sequence_span_accuracy: 0.9638 - val_loss: 2.4664 - val_sequence_span_accuracy: 0.9645\n",
      "Epoch 22/30\n",
      "25/25 [==============================] - 3s 111ms/step - loss: 0.2814 - sequence_span_accuracy: 0.9652 - val_loss: 2.3925 - val_sequence_span_accuracy: 0.9659\n",
      "Epoch 23/30\n",
      "25/25 [==============================] - 3s 104ms/step - loss: 0.3058 - sequence_span_accuracy: 0.9665 - val_loss: 2.4083 - val_sequence_span_accuracy: 0.9671\n",
      "Epoch 24/30\n",
      "25/25 [==============================] - 3s 106ms/step - loss: 0.2841 - sequence_span_accuracy: 0.9677 - val_loss: 2.7083 - val_sequence_span_accuracy: 0.9683\n",
      "Epoch 25/30\n",
      "25/25 [==============================] - 3s 105ms/step - loss: 0.2423 - sequence_span_accuracy: 0.9688 - val_loss: 2.4591 - val_sequence_span_accuracy: 0.9694\n",
      "Epoch 26/30\n",
      "25/25 [==============================] - 3s 110ms/step - loss: 0.2255 - sequence_span_accuracy: 0.9699 - val_loss: 2.4728 - val_sequence_span_accuracy: 0.9704\n",
      "Epoch 27/30\n",
      "25/25 [==============================] - 3s 112ms/step - loss: 0.2582 - sequence_span_accuracy: 0.9708 - val_loss: 2.5339 - val_sequence_span_accuracy: 0.9713\n",
      "Epoch 28/30\n",
      "25/25 [==============================] - 3s 110ms/step - loss: 0.2368 - sequence_span_accuracy: 0.9717 - val_loss: 2.5471 - val_sequence_span_accuracy: 0.9721\n",
      "Epoch 29/30\n"
     ]
    },
    {
     "name": "stdout",
     "output_type": "stream",
     "text": [
      "25/25 [==============================] - 3s 104ms/step - loss: 0.2461 - sequence_span_accuracy: 0.9725 - val_loss: 2.6078 - val_sequence_span_accuracy: 0.9729\n",
      "Epoch 30/30\n",
      "25/25 [==============================] - 3s 103ms/step - loss: 0.2110 - sequence_span_accuracy: 0.9733 - val_loss: 2.5868 - val_sequence_span_accuracy: 0.9737\n",
      "Score for fold 3: Accuracy of 97.58%; F1 score of 0.901\n",
      "------------------------------------------------------------------------\n",
      "Training for fold 4 ...\n",
      "Epoch 1/30\n",
      "<tf_crf_layer.layer.CRF object at 0x000001AEC6E93A20> 0\n",
      "<tf_crf_layer.layer.CRF object at 0x000001AEC6E93A20> 0\n",
      "25/25 [==============================] - ETA: 0s - loss: 44.8711 - sequence_span_accuracy: 0.5703<tf_crf_layer.layer.CRF object at 0x000001AEC6E93A20> 0\n",
      "25/25 [==============================] - 12s 157ms/step - loss: 44.8711 - sequence_span_accuracy: 0.5703 - val_loss: 32.5442 - val_sequence_span_accuracy: 0.6287\n",
      "Epoch 2/30\n",
      "25/25 [==============================] - 3s 115ms/step - loss: 22.4210 - sequence_span_accuracy: 0.6583 - val_loss: 8.7510 - val_sequence_span_accuracy: 0.7149\n",
      "Epoch 3/30\n",
      "25/25 [==============================] - 3s 114ms/step - loss: 6.0616 - sequence_span_accuracy: 0.7608 - val_loss: 3.2378 - val_sequence_span_accuracy: 0.7969\n",
      "Epoch 4/30\n",
      "25/25 [==============================] - 3s 124ms/step - loss: 3.0756 - sequence_span_accuracy: 0.8218 - val_loss: 2.1598 - val_sequence_span_accuracy: 0.8427\n",
      "Epoch 5/30\n",
      "25/25 [==============================] - 3s 122ms/step - loss: 2.0007 - sequence_span_accuracy: 0.8585 - val_loss: 1.7686 - val_sequence_span_accuracy: 0.8716\n",
      "Epoch 6/30\n",
      "25/25 [==============================] - 3s 122ms/step - loss: 1.6057 - sequence_span_accuracy: 0.8821 - val_loss: 1.5895 - val_sequence_span_accuracy: 0.8912\n",
      "Epoch 7/30\n",
      "25/25 [==============================] - 3s 115ms/step - loss: 1.2966 - sequence_span_accuracy: 0.8987 - val_loss: 1.6437 - val_sequence_span_accuracy: 0.9054\n",
      "Epoch 8/30\n",
      "25/25 [==============================] - 3s 115ms/step - loss: 1.1676 - sequence_span_accuracy: 0.9110 - val_loss: 1.5953 - val_sequence_span_accuracy: 0.9161\n",
      "Epoch 9/30\n",
      "25/25 [==============================] - 3s 119ms/step - loss: 1.0237 - sequence_span_accuracy: 0.9205 - val_loss: 1.5366 - val_sequence_span_accuracy: 0.9245\n",
      "Epoch 10/30\n",
      "25/25 [==============================] - 3s 132ms/step - loss: 0.9873 - sequence_span_accuracy: 0.9279 - val_loss: 1.4097 - val_sequence_span_accuracy: 0.9312\n",
      "Epoch 11/30\n",
      "25/25 [==============================] - 3s 133ms/step - loss: 0.8502 - sequence_span_accuracy: 0.9340 - val_loss: 1.4460 - val_sequence_span_accuracy: 0.9367\n",
      "Epoch 12/30\n",
      "25/25 [==============================] - 3s 117ms/step - loss: 0.7596 - sequence_span_accuracy: 0.9391 - val_loss: 1.4549 - val_sequence_span_accuracy: 0.9414\n",
      "Epoch 13/30\n",
      "25/25 [==============================] - 3s 115ms/step - loss: 0.6409 - sequence_span_accuracy: 0.9435 - val_loss: 1.4922 - val_sequence_span_accuracy: 0.9454\n",
      "Epoch 14/30\n",
      "25/25 [==============================] - 3s 117ms/step - loss: 0.5681 - sequence_span_accuracy: 0.9472 - val_loss: 1.5105 - val_sequence_span_accuracy: 0.9489\n",
      "Epoch 15/30\n",
      "25/25 [==============================] - 3s 128ms/step - loss: 0.5271 - sequence_span_accuracy: 0.9505 - val_loss: 1.4788 - val_sequence_span_accuracy: 0.9519\n",
      "Epoch 16/30\n",
      "25/25 [==============================] - 3s 122ms/step - loss: 0.5140 - sequence_span_accuracy: 0.9533 - val_loss: 1.5171 - val_sequence_span_accuracy: 0.9546\n",
      "Epoch 17/30\n",
      "25/25 [==============================] - 3s 117ms/step - loss: 0.4499 - sequence_span_accuracy: 0.9558 - val_loss: 1.5043 - val_sequence_span_accuracy: 0.9570\n",
      "Epoch 18/30\n",
      "25/25 [==============================] - 3s 117ms/step - loss: 0.4399 - sequence_span_accuracy: 0.9581 - val_loss: 1.6479 - val_sequence_span_accuracy: 0.9591\n",
      "Epoch 19/30\n",
      "25/25 [==============================] - 3s 116ms/step - loss: 0.4403 - sequence_span_accuracy: 0.9600 - val_loss: 1.4906 - val_sequence_span_accuracy: 0.9609\n",
      "Epoch 20/30\n",
      "25/25 [==============================] - 3s 126ms/step - loss: 0.3896 - sequence_span_accuracy: 0.9618 - val_loss: 1.4611 - val_sequence_span_accuracy: 0.9626\n",
      "Epoch 21/30\n",
      "25/25 [==============================] - 3s 122ms/step - loss: 0.3364 - sequence_span_accuracy: 0.9635 - val_loss: 1.6341 - val_sequence_span_accuracy: 0.9642\n",
      "Epoch 22/30\n",
      "25/25 [==============================] - 3s 120ms/step - loss: 0.2934 - sequence_span_accuracy: 0.9649 - val_loss: 1.5715 - val_sequence_span_accuracy: 0.9656\n",
      "Epoch 23/30\n",
      "25/25 [==============================] - 3s 115ms/step - loss: 0.2876 - sequence_span_accuracy: 0.9663 - val_loss: 1.5972 - val_sequence_span_accuracy: 0.9669\n",
      "Epoch 24/30\n",
      "25/25 [==============================] - 3s 116ms/step - loss: 0.3039 - sequence_span_accuracy: 0.9676 - val_loss: 1.5573 - val_sequence_span_accuracy: 0.9681\n",
      "Epoch 25/30\n",
      "25/25 [==============================] - 3s 121ms/step - loss: 0.2812 - sequence_span_accuracy: 0.9687 - val_loss: 1.6370 - val_sequence_span_accuracy: 0.9692\n",
      "Epoch 26/30\n",
      "25/25 [==============================] - 3s 126ms/step - loss: 0.2912 - sequence_span_accuracy: 0.9698 - val_loss: 1.5184 - val_sequence_span_accuracy: 0.9702\n",
      "Epoch 27/30\n",
      "25/25 [==============================] - 3s 121ms/step - loss: 0.2798 - sequence_span_accuracy: 0.9707 - val_loss: 1.5450 - val_sequence_span_accuracy: 0.9712\n",
      "Epoch 28/30\n",
      "25/25 [==============================] - 3s 116ms/step - loss: 0.2396 - sequence_span_accuracy: 0.9716 - val_loss: 1.6186 - val_sequence_span_accuracy: 0.9721\n",
      "Epoch 29/30\n",
      "25/25 [==============================] - 3s 115ms/step - loss: 0.2408 - sequence_span_accuracy: 0.9725 - val_loss: 1.6322 - val_sequence_span_accuracy: 0.9729\n",
      "Epoch 30/30\n",
      "25/25 [==============================] - 3s 118ms/step - loss: 0.2179 - sequence_span_accuracy: 0.9733 - val_loss: 1.7100 - val_sequence_span_accuracy: 0.9737\n",
      "Score for fold 4: Accuracy of 97.96000000000001%; F1 score of 0.918\n",
      "------------------------------------------------------------------------\n",
      "Training for fold 5 ...\n",
      "Epoch 1/30\n",
      "<tf_crf_layer.layer.CRF object at 0x000001AEC5EC4320> 0\n",
      "<tf_crf_layer.layer.CRF object at 0x000001AEC5EC4320> 0\n",
      "25/25 [==============================] - ETA: 0s - loss: 45.2544 - sequence_span_accuracy: 0.5994<tf_crf_layer.layer.CRF object at 0x000001AEC5EC4320> 0\n",
      "25/25 [==============================] - 12s 185ms/step - loss: 45.2544 - sequence_span_accuracy: 0.5994 - val_loss: 34.2121 - val_sequence_span_accuracy: 0.6463\n",
      "Epoch 2/30\n",
      "25/25 [==============================] - 4s 149ms/step - loss: 24.0336 - sequence_span_accuracy: 0.6696 - val_loss: 11.9469 - val_sequence_span_accuracy: 0.7189\n",
      "Epoch 3/30\n",
      "25/25 [==============================] - 4s 154ms/step - loss: 7.1910 - sequence_span_accuracy: 0.7609 - val_loss: 4.7611 - val_sequence_span_accuracy: 0.7951\n",
      "Epoch 4/30\n",
      "25/25 [==============================] - 4s 147ms/step - loss: 3.3978 - sequence_span_accuracy: 0.8198 - val_loss: 3.2631 - val_sequence_span_accuracy: 0.8400\n",
      "Epoch 5/30\n",
      "25/25 [==============================] - 4s 143ms/step - loss: 2.3584 - sequence_span_accuracy: 0.8557 - val_loss: 2.9679 - val_sequence_span_accuracy: 0.8685\n",
      "Epoch 6/30\n",
      "25/25 [==============================] - 4s 150ms/step - loss: 1.7010 - sequence_span_accuracy: 0.8792 - val_loss: 2.5175 - val_sequence_span_accuracy: 0.8882\n",
      "Epoch 7/30\n",
      "25/25 [==============================] - 4s 166ms/step - loss: 1.3988 - sequence_span_accuracy: 0.8958 - val_loss: 2.5452 - val_sequence_span_accuracy: 0.9024\n",
      "Epoch 8/30\n",
      "25/25 [==============================] - 4s 163ms/step - loss: 1.2321 - sequence_span_accuracy: 0.9082 - val_loss: 2.4746 - val_sequence_span_accuracy: 0.9132\n",
      "Epoch 9/30\n",
      "25/25 [==============================] - 4s 159ms/step - loss: 1.0798 - sequence_span_accuracy: 0.9177 - val_loss: 2.7961 - val_sequence_span_accuracy: 0.9217\n",
      "Epoch 10/30\n",
      "25/25 [==============================] - 4s 152ms/step - loss: 0.9492 - sequence_span_accuracy: 0.9253 - val_loss: 2.5835 - val_sequence_span_accuracy: 0.9286\n",
      "Epoch 11/30\n",
      "25/25 [==============================] - 4s 154ms/step - loss: 0.7984 - sequence_span_accuracy: 0.9315 - val_loss: 2.6411 - val_sequence_span_accuracy: 0.9343\n",
      "Epoch 12/30\n",
      "25/25 [==============================] - 4s 148ms/step - loss: 0.7162 - sequence_span_accuracy: 0.9367 - val_loss: 2.6497 - val_sequence_span_accuracy: 0.9390\n",
      "Epoch 13/30\n",
      "25/25 [==============================] - 4s 145ms/step - loss: 0.6939 - sequence_span_accuracy: 0.9411 - val_loss: 2.5677 - val_sequence_span_accuracy: 0.9431\n",
      "Epoch 14/30\n",
      "25/25 [==============================] - 4s 141ms/step - loss: 0.6388 - sequence_span_accuracy: 0.9449 - val_loss: 2.7126 - val_sequence_span_accuracy: 0.9466\n",
      "Epoch 15/30\n",
      "25/25 [==============================] - 4s 154ms/step - loss: 0.6171 - sequence_span_accuracy: 0.9482 - val_loss: 2.6720 - val_sequence_span_accuracy: 0.9496\n",
      "Epoch 16/30\n",
      "25/25 [==============================] - 4s 150ms/step - loss: 0.5552 - sequence_span_accuracy: 0.9510 - val_loss: 2.6001 - val_sequence_span_accuracy: 0.9523\n",
      "Epoch 17/30\n",
      "25/25 [==============================] - 4s 144ms/step - loss: 0.5077 - sequence_span_accuracy: 0.9535 - val_loss: 2.5156 - val_sequence_span_accuracy: 0.9546\n",
      "Epoch 18/30\n",
      "25/25 [==============================] - 4s 142ms/step - loss: 0.5038 - sequence_span_accuracy: 0.9557 - val_loss: 2.6340 - val_sequence_span_accuracy: 0.9568\n",
      "Epoch 19/30\n",
      "25/25 [==============================] - 4s 147ms/step - loss: 0.4068 - sequence_span_accuracy: 0.9578 - val_loss: 2.5021 - val_sequence_span_accuracy: 0.9587\n",
      "Epoch 20/30\n",
      "25/25 [==============================] - 4s 152ms/step - loss: 0.3985 - sequence_span_accuracy: 0.9596 - val_loss: 2.6561 - val_sequence_span_accuracy: 0.9605\n",
      "Epoch 21/30\n",
      "25/25 [==============================] - 4s 147ms/step - loss: 0.4537 - sequence_span_accuracy: 0.9613 - val_loss: 2.5468 - val_sequence_span_accuracy: 0.9620\n",
      "Epoch 22/30\n",
      "25/25 [==============================] - 4s 142ms/step - loss: 0.3644 - sequence_span_accuracy: 0.9628 - val_loss: 2.7621 - val_sequence_span_accuracy: 0.9635\n",
      "Epoch 23/30\n",
      "25/25 [==============================] - 4s 142ms/step - loss: 0.3306 - sequence_span_accuracy: 0.9642 - val_loss: 2.5860 - val_sequence_span_accuracy: 0.9648\n",
      "Epoch 24/30\n",
      "25/25 [==============================] - 4s 153ms/step - loss: 0.3287 - sequence_span_accuracy: 0.9654 - val_loss: 2.6715 - val_sequence_span_accuracy: 0.9660\n",
      "Epoch 25/30\n",
      "25/25 [==============================] - 4s 150ms/step - loss: 0.2886 - sequence_span_accuracy: 0.9666 - val_loss: 2.6739 - val_sequence_span_accuracy: 0.9672\n",
      "Epoch 26/30\n",
      "25/25 [==============================] - 4s 142ms/step - loss: 0.3181 - sequence_span_accuracy: 0.9677 - val_loss: 2.3955 - val_sequence_span_accuracy: 0.9682\n",
      "Epoch 27/30\n",
      "25/25 [==============================] - 4s 143ms/step - loss: 0.4039 - sequence_span_accuracy: 0.9687 - val_loss: 2.4411 - val_sequence_span_accuracy: 0.9692\n",
      "Epoch 28/30\n",
      "25/25 [==============================] - 4s 151ms/step - loss: 0.3623 - sequence_span_accuracy: 0.9696 - val_loss: 2.8686 - val_sequence_span_accuracy: 0.9700\n",
      "Epoch 29/30\n",
      "25/25 [==============================] - 4s 150ms/step - loss: 0.3064 - sequence_span_accuracy: 0.9705 - val_loss: 2.8197 - val_sequence_span_accuracy: 0.9709\n",
      "Epoch 30/30\n",
      "25/25 [==============================] - 4s 147ms/step - loss: 0.3003 - sequence_span_accuracy: 0.9713 - val_loss: 2.6869 - val_sequence_span_accuracy: 0.9716\n",
      "Score for fold 5: Accuracy of 96.99%; F1 score of 0.898\n",
      "------------------------------------------------------------------------\n",
      "Score per fold\n",
      "------------------------------------------------------------------------\n",
      "> Fold 1 - Accuracy: 98.03% - F1 score: 0.939\n",
      "------------------------------------------------------------------------\n",
      "> Fold 2 - Accuracy: 97.72% - F1 score: 0.814\n",
      "------------------------------------------------------------------------\n",
      "> Fold 3 - Accuracy: 97.58% - F1 score: 0.901\n",
      "------------------------------------------------------------------------\n",
      "> Fold 4 - Accuracy: 97.96000000000001% - F1 score: 0.918\n",
      "------------------------------------------------------------------------\n",
      "> Fold 5 - Accuracy: 96.99% - F1 score: 0.898\n",
      "------------------------------------------------------------------------\n",
      "Average scores for all folds:\n",
      "> Accuracy: 97.65599999999999% (+- 0.37)\n",
      "> F1: 0.8939999999999999\n",
      "------------------------------------------------------------------------\n"
     ]
    }
   ],
   "source": [
    "from sklearn.model_selection import KFold\n",
    "from sklearn.metrics import accuracy_score, f1_score\n",
    "\n",
    "n_folds = 5\n",
    "\n",
    "acc_per_fold = []\n",
    "f1_per_fold = []\n",
    "\n",
    "\n",
    "word_inputs = np.concatenate((X_word_tr, X_word_te), axis=0)\n",
    "char_inputs = np.concatenate((X_char_tr, X_char_te), axis=0)\n",
    "targets = np.concatenate((y_tr, y_te), axis=0)\n",
    "\n",
    "kfold = KFold(n_splits=n_folds, shuffle=True)\n",
    "\n",
    "fold_no = 1\n",
    "for train, test in kfold.split(word_inputs, char_inputs,targets):\n",
    "    \n",
    "    word_in = Input(shape=(max_len,))\n",
    "    emb_word = Embedding(input_dim=n_words + 2, output_dim=20,\n",
    "                         input_length=max_len, mask_zero=True,  name='word_embeddings')(word_in)\n",
    "\n",
    "\n",
    "    char_in = Input(shape=(max_len, max_len_char,))\n",
    "    emb_char = TimeDistributed(Embedding(input_dim=n_chars + 2, output_dim=10,\n",
    "                               input_length=max_len_char, mask_zero=True, name='char_embeddings'))(char_in)\n",
    "\n",
    "    \n",
    "    char_enc = TimeDistributed(LSTM(units=20, return_sequences=False,\n",
    "                                    recurrent_dropout=0.3, name='char_LSTM'))(emb_char)\n",
    "\n",
    "    x = concatenate([emb_word, char_enc])\n",
    "    x = SpatialDropout1D(0.3)(x)\n",
    "    main_lstm = Bidirectional(LSTM(units=50, return_sequences=True,\n",
    "                                   recurrent_dropout=0.3, name='bi-lstm'))(x)\n",
    "    #out = TimeDistributed(Dense(n_tags, activation=\"softmax\"))(main_lstm)\n",
    "\n",
    "    out = CRF(n_tags, name=\"crf_layer\")(main_lstm)\n",
    "\n",
    "\n",
    "    model = Model([word_in, char_in], out)\n",
    "\n",
    "    crf_loss_instance = ConditionalRandomFieldLoss() \n",
    "    optimizer = tf.keras.optimizers.Adam(0.01)\n",
    "    model.compile(optimizer=optimizer, loss={\"crf_layer\": crf_loss_instance}, metrics=[SequenceSpanAccuracy()])\n",
    "\n",
    "\n",
    "    \n",
    "\n",
    "    print('------------------------------------------------------------------------')\n",
    "    print(f'Training for fold {fold_no} ...')\n",
    "    \n",
    "    history = model.fit([word_inputs[train],\n",
    "                        char_inputs[train].reshape((len(char_inputs[train]), max_len, max_len_char))], \n",
    "                      targets[train].reshape(len(targets[train]), max_len, 1),\n",
    "                      batch_size=32,\n",
    "                      epochs= 30,\n",
    "                      validation_data= ([word_inputs[test],\n",
    "                                char_inputs[test].reshape((len(char_inputs[test]), max_len, max_len_char))], \n",
    "                                targets[test].reshape(len(targets[test]), max_len, 1)),\n",
    "                      verbose=1)\n",
    "\n",
    "    \n",
    "    pred = model.predict([word_inputs[test], \n",
    "                         char_inputs[test].reshape((len(char_inputs[test]),\n",
    "                                                     max_len, max_len_char))])\n",
    "    \n",
    "    \n",
    "    if fold_no != 1:\n",
    "        total_records = np.concatenate((total_records,word_inputs[test]), axis = 0)\n",
    "        total_preds = np.concatenate((total_preds,pred), axis = 0)\n",
    "        total_labels = np.concatenate((total_labels,targets[test]), axis = 0)\n",
    "    \n",
    "    else:\n",
    "        total_records = word_inputs[test]\n",
    "        total_preds = pred\n",
    "        total_labels = targets[test]\n",
    "        \n",
    "    pred_labels = number_2_label_unmasked(pred,word_inputs[test],idx2tag)\n",
    "        \n",
    "        \n",
    "    test_labels = number_2_label_unmasked(targets[test],word_inputs[test],idx2tag)\n",
    "\n",
    "    \n",
    "    \n",
    "    pred_list = [p for p_i in pred_labels for p in p_i]\n",
    "    test_list = [p for p_i in test_labels for p in p_i]\n",
    "\n",
    "    acc = accuracy_score(test_list,pred_list)\n",
    "    f1 = f1_score(test_list,pred_list, average = 'macro')\n",
    "    print(f'Score for fold {fold_no}: Accuracy of {round(acc,4) * 100}%; F1 score of {round(f1,3)}')\n",
    "    acc_per_fold.append(round(acc,4) * 100)\n",
    "    f1_per_fold.append(round(f1,3))\n",
    "    \n",
    "    fold_no = fold_no + 1\n",
    "    \n",
    "print('------------------------------------------------------------------------')\n",
    "print('Score per fold')\n",
    "for i in range(0, len(acc_per_fold)):\n",
    "    print('------------------------------------------------------------------------')\n",
    "    print(f'> Fold {i+1} - Accuracy: {acc_per_fold[i]}% - F1 score: {f1_per_fold[i]}')\n",
    "print('------------------------------------------------------------------------')\n",
    "print('Average scores for all folds:')\n",
    "print(f'> Accuracy: {np.mean(acc_per_fold)}% (+- {round(np.std(acc_per_fold),3)})')\n",
    "print(f'> F1: {np.mean(f1_per_fold)}')\n",
    "print('------------------------------------------------------------------------')\n"
   ]
  },
  {
   "cell_type": "markdown",
   "metadata": {},
   "source": [
    "Obtenemos los resultados individuales por etiqueta y globales."
   ]
  },
  {
   "cell_type": "code",
   "execution_count": 378,
   "metadata": {
    "scrolled": false
   },
   "outputs": [
    {
     "name": "stdout",
     "output_type": "stream",
     "text": [
      "                            precision    recall  f1-score   support\n",
      "\n",
      "          husband-location     0.9677    0.9730    0.9704      2372\n",
      "              husband-name     0.9882    0.9843    0.9863      1021\n",
      "        husband-occupation     0.9837    0.9535    0.9684      1205\n",
      "             husband-state     0.9747    0.9147    0.9438       211\n",
      "           husband-surname     0.9703    0.9761    0.9732      1004\n",
      "  husbands_father-location     0.9146    0.9574    0.9356       470\n",
      "      husbands_father-name     0.9837    0.9789    0.9813       617\n",
      "husbands_father-occupation     0.9856    0.9609    0.9731       640\n",
      "   husbands_father-surname     0.9429    0.9639    0.9533       582\n",
      "  husbands_mother-location     1.0000    0.0000    0.0000         4\n",
      "      husbands_mother-name     0.9812    0.9845    0.9828       582\n",
      "   husbands_mother-surname     0.2222    0.1250    0.1600        16\n",
      "                none-other     0.9866    0.9857    0.9861     15132\n",
      "     other_person-location     1.0000    0.0000    0.0000         1\n",
      "         other_person-name     0.9571    0.9738    0.9654       229\n",
      "      other_person-surname     0.9339    0.9617    0.9476       235\n",
      "             wife-location     0.8729    0.9388    0.9046       490\n",
      "                 wife-name     0.9923    0.9866    0.9895      1046\n",
      "           wife-occupation     0.9847    0.9556    0.9699       270\n",
      "                wife-state     0.9486    0.9914    0.9695       931\n",
      "              wife-surname     0.7857    0.6471    0.7097        34\n",
      "     wifes_father-location     0.9495    0.9641    0.9567      1170\n",
      "         wifes_father-name     0.9868    0.9829    0.9848       760\n",
      "   wifes_father-occupation     0.9848    0.9418    0.9628       893\n",
      "      wifes_father-surname     0.9665    0.9766    0.9715       769\n",
      "         wifes_mother-name     0.9905    0.9905    0.9905       737\n",
      "      wifes_mother-surname     0.8000    0.2353    0.3636        17\n",
      "\n",
      "                  accuracy                         0.9766     31438\n",
      "                 macro avg     0.9280    0.8261    0.8333     31438\n",
      "              weighted avg     0.9766    0.9766    0.9763     31438\n",
      "\n"
     ]
    }
   ],
   "source": [
    "pred_labels = number_2_label_unmasked(total_preds, total_records, idx2tag)\n",
    "test_labels = number_2_label_unmasked(total_labels, total_records, idx2tag)\n",
    "\n",
    "pred_list = [p for p_i in pred_labels for p in p_i]\n",
    "test_list = [p for p_i in test_labels for p in p_i]\n",
    "\n",
    "print(classification_report(test_list,pred_list, digits = 4, zero_division = True))"
   ]
  },
  {
   "cell_type": "markdown",
   "metadata": {},
   "source": [
    "Creamos el mismo modelo para predecir las mejores hipótesis"
   ]
  },
  {
   "cell_type": "code",
   "execution_count": 68,
   "metadata": {},
   "outputs": [
    {
     "name": "stdout",
     "output_type": "stream",
     "text": [
      "Model: \"model_1\"\n",
      "__________________________________________________________________________________________________\n",
      " Layer (type)                   Output Shape         Param #     Connected to                     \n",
      "==================================================================================================\n",
      " input_4 (InputLayer)           [(None, 50, 10)]     0           []                               \n",
      "                                                                                                  \n",
      " input_3 (InputLayer)           [(None, 50)]         0           []                               \n",
      "                                                                                                  \n",
      " time_distributed_2 (TimeDistri  (None, 50, 10, 10)  620         ['input_4[0][0]']                \n",
      " buted)                                                                                           \n",
      "                                                                                                  \n",
      " embedding (Embedding)          (None, 50, 20)       48640       ['input_3[0][0]']                \n",
      "                                                                                                  \n",
      " time_distributed_3 (TimeDistri  (None, 50, 20)      2480        ['time_distributed_2[0][0]']     \n",
      " buted)                                                                                           \n",
      "                                                                                                  \n",
      " concatenate_1 (Concatenate)    (None, 50, 40)       0           ['embedding[0][0]',              \n",
      "                                                                  'time_distributed_3[0][0]']     \n",
      "                                                                                                  \n",
      " spatial_dropout1d_1 (SpatialDr  (None, 50, 40)      0           ['concatenate_1[0][0]']          \n",
      " opout1D)                                                                                         \n",
      "                                                                                                  \n",
      " bidirectional_1 (Bidirectional  (None, 50, 100)     36400       ['spatial_dropout1d_1[0][0]']    \n",
      " )                                                                                                \n",
      "                                                                                                  \n",
      " crf_layer (CRF)                (None, 50)           3510        ['bidirectional_1[0][0]']        \n",
      "                                                                                                  \n",
      "==================================================================================================\n",
      "Total params: 91,650\n",
      "Trainable params: 91,650\n",
      "Non-trainable params: 0\n",
      "__________________________________________________________________________________________________\n"
     ]
    }
   ],
   "source": [
    "#embeddings de palabras\n",
    "word_in = Input(shape=(max_len,))\n",
    "emb_word = Embedding(input_dim=n_words + 2, output_dim=20,\n",
    "                     input_length=max_len, mask_zero=True)(word_in)\n",
    "\n",
    "#embeddings de caracteres\n",
    "char_in = Input(shape=(max_len, max_len_char,))\n",
    "emb_char = TimeDistributed(Embedding(input_dim=n_chars + 2, output_dim=10,\n",
    "                           input_length=max_len_char, mask_zero=True))(char_in)\n",
    "\n",
    "# Codificación de caracteres de palabras\n",
    "char_enc = TimeDistributed(LSTM(units=20, return_sequences=False,\n",
    "                                recurrent_dropout=0.5))(emb_char)\n",
    "\n",
    "# Bi-LSTM para codificar el contexto\n",
    "x = concatenate([emb_word, char_enc])\n",
    "x = SpatialDropout1D(0.3)(x)\n",
    "main_lstm = Bidirectional(LSTM(units=50, return_sequences=True,\n",
    "                               recurrent_dropout=0.6))(x)\n",
    "\n",
    "#CRF para decodificar las etiquetas\n",
    "out = CRF(n_tags, name=\"crf_layer\")(main_lstm)\n",
    "\n",
    "\n",
    "model = Model([word_in, char_in], out)\n",
    "\n",
    "crf_loss_instance = ConditionalRandomFieldLoss() \n",
    "optimizer = tf.keras.optimizers.Adam(0.01)\n",
    "model.compile(optimizer=optimizer, loss={\"crf_layer\": crf_loss_instance}, metrics=[SequenceSpanAccuracy()])\n",
    "\n",
    "model.summary()"
   ]
  },
  {
   "cell_type": "markdown",
   "metadata": {},
   "source": [
    "Monitorizamos su entrenamiento"
   ]
  },
  {
   "cell_type": "code",
   "execution_count": 69,
   "metadata": {},
   "outputs": [
    {
     "data": {
      "image/png": "[encoded data removed]",
      "text/plain": [
       "<Figure size 864x576 with 2 Axes>"
      ]
     },
     "metadata": {
      "needs_background": "light"
     },
     "output_type": "display_data"
    },
    {
     "name": "stdout",
     "output_type": "stream",
     "text": [
      "Loss\n",
      "\ttraining         \t (min:    0.323, max:   46.950, cur:    0.323)\n",
      "\tvalidation       \t (min:    2.490, max:   37.264, cur:    2.942)\n",
      "sequence_span_accuracy\n",
      "\ttraining         \t (min:    0.552, max:    0.967, cur:    0.967)\n",
      "\tvalidation       \t (min:    0.616, max:    0.968, cur:    0.968)\n",
      "\b\b\b\b\b\b\b\b\b\b\b\b\b\b\b\b\b\b\b\b\b\b\b\b\b\b\b\b\b\b\b\b\b\b\b\b\b\b\b\b\b\b\b\b\b\b\b\b\b\b\b\b\b\b\b\b\b\b\b\b\b\b\b\b\b\b\b\b\b\b\b\b\b\b\b\b\b\b\b\b\b\b\b\b\b\b\b\b\b\b\b\b\b\b\b\b\r",
      "20/20 [==============================] - 2s 118ms/step - loss: 0.3233 - sequence_span_accuracy: 0.9673 - val_loss: 2.9419 - val_sequence_span_accuracy: 0.9677\n"
     ]
    },
    {
     "data": {
      "text/plain": [
       "<keras.callbacks.History at 0x24ac6e4b828>"
      ]
     },
     "execution_count": 69,
     "metadata": {},
     "output_type": "execute_result"
    }
   ],
   "source": [
    "from livelossplot.tf_keras import PlotLossesCallback\n",
    "from tensorflow.keras.callbacks import ModelCheckpoint\n",
    "\n",
    "plot_loss_2 = PlotLossesCallback()\n",
    "\n",
    "\n",
    "model.fit([X_word_tr,\n",
    "                     np.array(X_char_tr).reshape((len(X_char_tr), max_len, max_len_char))],\n",
    "                    np.array(y_tr).reshape(len(y_tr), max_len, 1),\n",
    "                    batch_size=32, epochs=30, validation_split=0.2 ,callbacks=[plot_loss_2],verbose=1)"
   ]
  },
  {
   "cell_type": "markdown",
   "metadata": {},
   "source": [
    "El modelo es evaluado sobre el conjunto de test (todavía con los registros originales)."
   ]
  },
  {
   "cell_type": "code",
   "execution_count": 70,
   "metadata": {},
   "outputs": [],
   "source": [
    "y_pred = model.predict([X_word_te,\n",
    "                        np.array(X_char_te).reshape((len(X_char_te),\n",
    "                                                     max_len, max_len_char))])"
   ]
  },
  {
   "cell_type": "markdown",
   "metadata": {},
   "source": [
    "Mostramos cómo son las predicciones sobre un registro aleatorio."
   ]
  },
  {
   "cell_type": "code",
   "execution_count": 324,
   "metadata": {
    "scrolled": false
   },
   "outputs": [
    {
     "name": "stdout",
     "output_type": "stream",
     "text": [
      "Word           ||True                               ||Pred\n",
      "======================================================================\n",
      "Diumege        : none-other                          none-other\n",
      "a              : none-other                          none-other\n",
      "3              : none-other                          none-other\n",
      "rebere         : none-other                          none-other\n",
      "del            : none-other                          none-other\n",
      "Sr             : none-other                          none-other\n",
      "Luys           : husband-name                        husband-name\n",
      "Altarriba      : husband-surname                     husband-surname\n",
      "mercader       : husband-occupation                  husband-occupation\n",
      "de             : none-other                          none-other\n",
      "Bara           : husband-location                    husband-location\n",
      "fill           : none-other                          none-other\n",
      "de             : none-other                          none-other\n",
      "Juan           : husbands_father-name                husbands_father-name\n",
      "Altarriba      : husbands_father-surname             husbands_father-surname\n",
      "mercader       : husbands_father-occupation          husbands_father-occupation\n",
      "de             : none-other                          none-other\n",
      "Bellianes      : husbands_father-location            husbands_father-location\n",
      "y              : none-other                          none-other\n",
      "de             : none-other                          none-other\n",
      "Paula          : husbands_mother-name                husbands_mother-name\n",
      "defuncts       : none-other                          none-other\n",
      "ab             : none-other                          none-other\n",
      "la             : none-other                          none-other\n",
      "Sra            : none-other                          none-other\n",
      "Eugenia        : wife-name                           wife-name\n",
      "donsella       : wife-state                          wife-state\n",
      "filla          : none-other                          none-other\n",
      "de             : none-other                          none-other\n",
      "Antoni         : wifes_father-name                   wifes_father-name\n",
      "Molner         : wifes_father-surname                wifes_father-surname\n",
      "mercader       : wifes_father-occupation             wifes_father-occupation\n",
      "de             : none-other                          none-other\n",
      "Bara           : wifes_father-location               wifes_father-location\n",
      "defunct        : none-other                          none-other\n",
      "y              : none-other                          none-other\n",
      "de             : none-other                          none-other\n",
      "la             : none-other                          none-other\n",
      "Sra            : none-other                          none-other\n",
      "Hieronyma      : wifes_mother-name                   wifes_mother-name\n"
     ]
    }
   ],
   "source": [
    "i = random.randint(0,len(y_pred))\n",
    "\n",
    "print(\"{:15}||{:35}||{}\".format(\"Word\", \"True\", \"Pred\"))\n",
    "print(70 * \"=\")\n",
    "for w, t, pred in zip(X_word_te[i], y_te[i], y_pred[i]):\n",
    "    if w != 0:\n",
    "        print(\"{:15}: {:35} {}\".format(idx2word[w], idx2tag[t], idx2tag[pred]))"
   ]
  },
  {
   "cell_type": "markdown",
   "metadata": {},
   "source": [
    "Ahora se extráen las predicciones sobre las mejores hipótesis (de registros en el conjunto de test) y se extre la distancia media de Levenshtein con respecto a las etiquetas auténticas."
   ]
  },
  {
   "cell_type": "code",
   "execution_count": 71,
   "metadata": {},
   "outputs": [],
   "source": [
    "y_pred_best = model.predict([X_best_word_te,\n",
    "                        np.array(X_best_char_te).reshape((len(X_best_char_te),\n",
    "                                                     max_len, max_len_char))])"
   ]
  },
  {
   "cell_type": "code",
   "execution_count": 72,
   "metadata": {},
   "outputs": [
    {
     "name": "stdout",
     "output_type": "stream",
     "text": [
      "Distancia de edición media : 4.788659793814433\n"
     ]
    }
   ],
   "source": [
    "import textdistance\n",
    "\n",
    "pred_labels = number_2_label_unmasked(y_pred_best, X_best_word_te, idx2tag)\n",
    "test_labels = number_2_label_unmasked(y_te, X_word_te, idx2tag)\n",
    "dist = []\n",
    "for pred_i,true_i in zip(pred_labels,test_labels):\n",
    "    d = textdistance.levenshtein.distance(list(pred_i),list(true_i))\n",
    "\n",
    "    dist.append(d)\n",
    "\n",
    "print('Distancia de edición media :',np.mean(dist))"
   ]
  },
  {
   "cell_type": "markdown",
   "metadata": {},
   "source": [
    "Finalmente, mostramos las predicciones sobre una hipótesis generada por el proceso de reconocimiento de texto manuscrito."
   ]
  },
  {
   "cell_type": "code",
   "execution_count": 79,
   "metadata": {},
   "outputs": [
    {
     "name": "stdout",
     "output_type": "stream",
     "text": [
      "Word           ||Pred\n",
      "=============================================\n",
      "dit            : none-other \n",
      "dia            : none-other \n",
      "UNK            : none-other\n",
      "de             : none-other \n",
      "Andreu         : husband-name \n",
      "UNK            : husband-surname\n",
      "hortola        : husband-occupation \n",
      "de             : none-other \n",
      "UNK            : husband-location\n",
      "fill           : none-other \n",
      "de             : none-other \n",
      "Pere           : husbands_father-name \n",
      "UNK            : husbands_father-surname\n",
      "y              : none-other \n",
      "hortola        : husbands_father-occupation \n",
      "y              : none-other \n",
      "de             : none-other \n",
      "Margarida      : husbands_mother-name \n",
      "vivent         : none-other \n",
      "UNK            : none-other\n",
      "ab             : none-other \n",
      "Hieronyma      : wife-name \n",
      "donsella       : wife-state \n",
      "filla          : none-other \n",
      "de             : none-other \n",
      "Ni             : wifes_father-name \n",
      "colau          : wifes_father-surname \n",
      "Ros            : wifes_father-surname \n",
      "guarnicioner   : wifes_father-occupation \n",
      "y              : none-other \n",
      "de             : none-other \n",
      "Margarida      : wifes_mother-name \n"
     ]
    }
   ],
   "source": [
    "import random\n",
    "\n",
    "i = random.randint(0,len(y_pred_best))\n",
    "\n",
    "\n",
    "print(\"{:15}||{}\".format(\"Word\", \"Pred\"))\n",
    "print(45 * \"=\")\n",
    "for w, pred in zip(X_word_best_te[i], y_pred_best[i]):\n",
    "    if w == n_words + 1:\n",
    "        print(\"{:15}: {}\".format(\"UNK\",idx2tag[pred]))\n",
    "    elif w != 0:\n",
    "        print(\"{:15}: {} \".format(idx2word[w],idx2tag[pred]))\n"
   ]
  },
  {
   "cell_type": "markdown",
   "metadata": {},
   "source": [
    "A pesar de existir palabras que son desconocidas por el modelo por no estar presentes en los registros auténticos, generalmente las salidas parecen acordar bastante con el contexto. "
   ]
  },
  {
   "cell_type": "code",
   "execution_count": null,
   "metadata": {},
   "outputs": [],
   "source": []
  }
 ],
 "metadata": {
  "kernelspec": {
   "display_name": "Python 3",
   "language": "python",
   "name": "python3"
  },
  "language_info": {
   "codemirror_mode": {
    "name": "ipython",
    "version": 3
   },
   "file_extension": ".py",
   "mimetype": "text/x-python",
   "name": "python",
   "nbconvert_exporter": "python",
   "pygments_lexer": "ipython3",
   "version": "3.7.0"
  }
 },
 "nbformat": 4,
 "nbformat_minor": 2
}
